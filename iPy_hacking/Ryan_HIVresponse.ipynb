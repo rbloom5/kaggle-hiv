{
 "metadata": {
  "name": "",
  "signature": "sha256:be144704d389965bb6184905dd259c36446fe5dccbeed729fd40c5639471b151"
 },
 "nbformat": 3,
 "nbformat_minor": 0,
 "worksheets": [
  {
   "cells": [
    {
     "cell_type": "code",
     "collapsed": false,
     "input": [
      "import sys\n",
      "sys.path.append('/Users/Ryan/PythonProjects/MLfunctions/')\n",
      "from sklearn.ensemble import RandomForestClassifier\n",
      "from sklearn import cross_validation\n",
      "import logLoss\n",
      "import numpy as np\n",
      "from sklearn.svm import SVC\n",
      "import matplotlib.pyplot as matplot\n",
      "\n",
      "dataset = np.genfromtxt(open('Data/training_data.csv','r'), delimiter=',', dtype='f8')[1:] \n",
      "\n",
      "\n",
      "result = np.array([x[1] for x in dataset])\n",
      "features = np.array([x[4:5] for x in dataset])\n",
      "\n",
      "SVec = SVC()\n",
      "\n",
      "X_train, X_test, y_train, y_test = cross_validation.train_test_split(features, result, test_size=0.2, random_state=0)\n",
      "\n",
      "    \n",
      "Score = SVec.fit(X_train, y_train).score(X_test, y_test)\n",
      "\n",
      "\n",
      "\n",
      "print Score\n",
      "#append results of cross validation to rest of results from iterator on line 21\n",
      "\n",
      "\n",
      "\n",
      "\n",
      "\n"
     ],
     "language": "python",
     "metadata": {},
     "outputs": [
      {
       "output_type": "stream",
       "stream": "stdout",
       "text": [
        "0.79\n"
       ]
      }
     ],
     "prompt_number": 1
    },
    {
     "cell_type": "code",
     "collapsed": false,
     "input": [
      "from sklearn.learning_curve import learning_curve\n",
      "import plots\n",
      "import matplotlib.pyplot as matplot\n",
      "dataset = np.genfromtxt(open('Data/training_data.csv','r'), delimiter=',', dtype='f8')[1:] \n",
      "\n",
      "\n",
      "result = np.array([x[1] for x in dataset])\n",
      "features = np.array([x[4:5] for x in dataset])\n",
      "matplot.plot(result)\n",
      "matplot.show()\n",
      "matplot.plot(features[1])\n",
      "matplot.show()\n",
      "plt = plots.plot_learning_curve(SVC(), \"Learning Curves\", features, result, cv=3)        \n",
      "plt.show()\n",
      "\n"
     ],
     "language": "python",
     "metadata": {},
     "outputs": []
    },
    {
     "cell_type": "code",
     "collapsed": false,
     "input": [
      "import sys\n",
      "sys.path.append('/Users/Ryan/PythonProjects/MLfunctions/')\n",
      "from sklearn.learning_curve import learning_curve\n",
      "import plots\n",
      "import matplotlib.pyplot as matplot\n",
      "from sklearn.ensemble import RandomForestClassifier\n",
      "from sklearn import cross_validation\n",
      "import logLoss\n",
      "import numpy as np\n",
      "from sklearn.svm import SVC\n",
      "import matplotlib.pyplot as matplot\n",
      "dataset = np.genfromtxt(open('Data/training_data.csv','r'), delimiter=',', dtype='f8')[1:] \n",
      "\n",
      "\n",
      "result = np.array([x[1] for x in dataset])\n",
      "features = np.array([x[4:] for x in dataset])\n",
      "\n",
      "print result\n",
      "print features"
     ],
     "language": "python",
     "metadata": {},
     "outputs": [
      {
       "output_type": "stream",
       "stream": "stdout",
       "text": [
        "[ 0.  0.  0.  0.  0.  0.  0.  0.  0.  0.  0.  0.  0.  0.  0.  0.  0.  0.\n",
        "  0.  0.  0.  0.  0.  0.  0.  0.  0.  0.  0.  0.  0.  0.  0.  0.  0.  0.\n",
        "  0.  0.  0.  0.  0.  0.  0.  0.  0.  0.  0.  0.  0.  0.  0.  0.  0.  0.\n",
        "  0.  0.  0.  0.  0.  0.  0.  0.  0.  0.  0.  0.  0.  0.  0.  0.  0.  0.\n",
        "  0.  0.  0.  0.  0.  0.  0.  0.  0.  0.  0.  0.  0.  0.  0.  0.  0.  0.\n",
        "  0.  0.  0.  0.  0.  0.  0.  0.  0.  0.  0.  0.  0.  0.  0.  0.  0.  0.\n",
        "  0.  0.  0.  0.  0.  0.  0.  0.  0.  0.  0.  0.  0.  0.  0.  0.  0.  0.\n",
        "  0.  0.  0.  0.  0.  0.  0.  0.  0.  0.  0.  0.  0.  0.  0.  0.  0.  0.\n",
        "  0.  0.  0.  0.  0.  0.  0.  0.  0.  0.  0.  0.  0.  0.  0.  0.  0.  0.\n",
        "  0.  0.  0.  0.  0.  0.  0.  0.  0.  0.  0.  0.  0.  0.  0.  0.  0.  0.\n",
        "  0.  0.  0.  0.  0.  0.  0.  0.  0.  0.  0.  0.  0.  0.  0.  0.  0.  0.\n",
        "  0.  0.  0.  0.  0.  0.  0.  0.  0.  0.  0.  0.  0.  0.  0.  0.  0.  0.\n",
        "  0.  0.  0.  0.  0.  0.  0.  0.  0.  0.  0.  0.  0.  0.  0.  0.  0.  0.\n",
        "  0.  0.  0.  0.  0.  0.  0.  0.  0.  0.  0.  0.  0.  0.  0.  0.  0.  0.\n",
        "  0.  0.  0.  0.  0.  0.  0.  0.  0.  0.  0.  0.  0.  0.  0.  0.  0.  0.\n",
        "  0.  0.  0.  0.  0.  0.  0.  0.  0.  0.  0.  0.  0.  0.  0.  0.  0.  0.\n",
        "  0.  0.  0.  0.  0.  0.  0.  0.  0.  0.  0.  0.  0.  0.  0.  0.  0.  0.\n",
        "  0.  0.  0.  0.  0.  0.  0.  0.  0.  0.  0.  0.  0.  0.  0.  0.  0.  0.\n",
        "  0.  0.  0.  0.  0.  0.  0.  0.  0.  0.  0.  0.  0.  0.  0.  0.  0.  0.\n",
        "  0.  0.  0.  0.  0.  0.  0.  0.  0.  0.  0.  0.  1.  1.  0.  0.  1.  0.\n",
        "  0.  0.  1.  0.  0.  1.  0.  0.  0.  1.  0.  0.  1.  1.  1.  1.  0.  0.\n",
        "  0.  0.  0.  0.  1.  1.  0.  1.  0.  1.  1.  0.  0.  0.  0.  0.  0.  0.\n",
        "  0.  0.  0.  1.  1.  0.  0.  1.  0.  1.  0.  0.  1.  0.  0.  0.  0.  1.\n",
        "  0.  1.  0.  1.  1.  0.  0.  1.  0.  0.  0.  1.  1.  0.  1.  0.  0.  1.\n",
        "  0.  1.  0.  0.  0.  1.  1.  0.  0.  0.  1.  1.  1.  0.  0.  0.  0.  1.\n",
        "  0.  1.  0.  0.  1.  0.  0.  0.  1.  1.  0.  0.  0.  0.  0.  0.  0.  0.\n",
        "  0.  1.  0.  0.  1.  1.  0.  0.  0.  0.  1.  1.  1.  1.  0.  0.  0.  1.\n",
        "  1.  0.  1.  1.  1.  0.  0.  0.  1.  0.  0.  0.  1.  1.  1.  0.  0.  0.\n",
        "  1.  0.  0.  1.  1.  0.  1.  1.  0.  0.  1.  0.  0.  0.  0.  1.  0.  0.\n",
        "  0.  0.  0.  0.  0.  0.  0.  0.  0.  1.  0.  0.  0.  0.  0.  0.  1.  1.\n",
        "  0.  1.  0.  0.  0.  0.  0.  1.  0.  0.  1.  0.  0.  0.  1.  1.  0.  0.\n",
        "  0.  0.  0.  0.  0.  0.  1.  0.  1.  1.  1.  0.  0.  0.  0.  1.  0.  0.\n",
        "  0.  0.  0.  0.  1.  0.  0.  0.  0.  1.  0.  1.  1.  0.  1.  1.  1.  0.\n",
        "  0.  0.  0.  0.  0.  1.  0.  0.  0.  0.  1.  1.  1.  1.  0.  1.  1.  0.\n",
        "  0.  0.  0.  1.  0.  1.  0.  0.  1.  1.  0.  0.  0.  1.  1.  0.  0.  1.\n",
        "  0.  1.  0.  1.  0.  0.  1.  0.  0.  0.  1.  0.  1.  1.  0.  0.  0.  0.\n",
        "  0.  1.  1.  1.  0.  0.  0.  0.  0.  0.  0.  0.  0.  0.  1.  0.  0.  0.\n",
        "  1.  0.  0.  0.  0.  0.  0.  0.  1.  1.  0.  1.  0.  1.  1.  0.  0.  0.\n",
        "  1.  0.  1.  1.  1.  0.  1.  1.  0.  0.  0.  1.  0.  1.  0.  1.  1.  1.\n",
        "  0.  0.  0.  1.  0.  0.  1.  0.  0.  1.  0.  0.  0.  0.  1.  0.  0.  0.\n",
        "  0.  0.  0.  0.  0.  0.  1.  0.  0.  0.  1.  0.  0.  0.  1.  1.  0.  0.\n",
        "  0.  0.  0.  0.  0.  0.  0.  0.  0.  0.  1.  1.  1.  1.  0.  1.  0.  0.\n",
        "  1.  0.  0.  1.  0.  0.  0.  0.  0.  0.  0.  0.  1.  0.  1.  0.  0.  0.\n",
        "  0.  1.  0.  1.  0.  1.  1.  0.  0.  1.  0.  0.  0.  0.  0.  0.  0.  0.\n",
        "  0.  1.  0.  1.  1.  0.  1.  1.  0.  0.  1.  0.  0.  1.  0.  0.  1.  0.\n",
        "  0.  1.  0.  0.  0.  0.  1.  0.  1.  0.  1.  0.  0.  1.  0.  0.  0.  0.\n",
        "  0.  1.  0.  0.  0.  1.  1.  0.  0.  0.  1.  0.  0.  0.  0.  0.  0.  0.\n",
        "  0.  1.  0.  1.  1.  1.  1.  0.  0.  1.  0.  0.  0.  0.  0.  1.  0.  0.\n",
        "  1.  0.  0.  0.  0.  1.  0.  0.  0.  0.  0.  1.  1.  1.  0.  0.  0.  1.\n",
        "  1.  0.  0.  0.  0.  0.  1.  0.  0.  0.  0.  0.  0.  0.  0.  0.  0.  1.\n",
        "  0.  1.  1.  0.  1.  0.  0.  1.  0.  0.  0.  0.  1.  1.  0.  0.  0.  0.\n",
        "  1.  1.  0.  0.  0.  1.  0.  1.  1.  0.  0.  0.  0.  0.  0.  0.  1.  0.\n",
        "  0.  0.  1.  0.  0.  0.  1.  0.  0.  1.  0.  1.  0.  1.  0.  0.  0.  0.\n",
        "  0.  0.  0.  1.  0.  1.  1.  0.  1.  0.  1.  0.  0.  0.  1.  1.  1.  0.\n",
        "  0.  0.  0.  0.  0.  0.  0.  0.  0.  0.  0.  1.  0.  0.  0.  0.  0.  1.\n",
        "  0.  0.  0.  0.  0.  0.  0.  0.  0.  0.]\n",
        "[[    4.3    145.  ]\n",
        " [    3.6    224.  ]\n",
        " [    3.2   1017.  ]\n",
        " ..., \n",
        " [    4.1    369.  ]\n",
        " [    3.37   127.  ]\n",
        " [    4.97   570.  ]]\n"
       ]
      }
     ],
     "prompt_number": 4
    },
    {
     "cell_type": "code",
     "collapsed": false,
     "input": [
      "import sys\n",
      "sys.path.append('/Users/Ryan/PythonProjects/MLfunctions/')\n",
      "from sklearn.learning_curve import learning_curve\n",
      "import plots\n",
      "import matplotlib.pyplot as matplot\n",
      "from sklearn.ensemble import RandomForestClassifier\n",
      "from sklearn import cross_validation\n",
      "import logLoss\n",
      "import numpy as np\n",
      "from sklearn.svm import SVC\n",
      "import matplotlib.pyplot as matplot\n",
      "from sklearn.learning_curve import validation_curve\n",
      "\n",
      "\n",
      "dataset = np.genfromtxt(open('Data/training_data.csv','r'), delimiter=',', dtype='f8')[1:] \n",
      "\n",
      "\n",
      "result = np.array([x[1] for x in dataset])\n",
      "features = np.array([x[4:] for x in dataset])\n",
      "\n",
      "\n",
      "C_Range = [.1, 1, 10]\n",
      "\n",
      "\n",
      "trainScore, testScore = validation_curve(SVC(), features, result, \"C\", C_Range, cv=3,\n",
      "                     scoring=None, n_jobs=1, pre_dispatch=\"all\", verbose=1)\n",
      "\n",
      "plotTrain = [scores.mean() for scores in trainScore]\n",
      "plotTest = [scores.mean() for scores in testScore]\n",
      "\n",
      "matplot.figure()\n",
      "p = matplot.plot(C_Range,plotTrain,'r', C_Range, plotTest, 'b')\n",
      "matplot.show(p)"
     ],
     "language": "python",
     "metadata": {},
     "outputs": [
      {
       "output_type": "stream",
       "stream": "stderr",
       "text": [
        "[Parallel(n_jobs=1)]: Done   1 jobs       | elapsed:    0.0s\n",
        "[Parallel(n_jobs=1)]: Done   9 out of   9 | elapsed:    0.2s finished\n"
       ]
      }
     ],
     "prompt_number": 1
    },
    {
     "cell_type": "code",
     "collapsed": false,
     "input": [
      "%matplot inline"
     ],
     "language": "python",
     "metadata": {},
     "outputs": [
      {
       "output_type": "stream",
       "stream": "stderr",
       "text": [
        "ERROR: Line magic function `%matplot` not found.\n"
       ]
      }
     ],
     "prompt_number": 2
    },
    {
     "cell_type": "code",
     "collapsed": false,
     "input": [
      "import sys\n",
      "sys.path.append('/Users/Ryan/PythonProjects/MLfunctions/')\n",
      "from sklearn.learning_curve import learning_curve\n",
      "import plots\n",
      "import matplotlib.pyplot as matplot\n",
      "from sklearn.ensemble import RandomForestClassifier\n",
      "from sklearn import cross_validation\n",
      "import logLoss\n",
      "import numpy as np\n",
      "from sklearn.svm import SVC\n",
      "import matplotlib.pyplot as matplot\n",
      "from sklearn.learning_curve import validation_curve\n",
      "\n",
      "\n",
      "dataset = np.genfromtxt(open('Data/training_data.csv','r'), delimiter=',', dtype='f8')[1:] \n",
      "\n",
      "\n",
      "result = np.array([x[1] for x in dataset])\n",
      "features = np.array([x[4:] for x in dataset])\n",
      "\n",
      "\n",
      "C_Range = [.1, 1, 10]\n",
      "\n",
      "\n",
      "trainScore, testScore = validation_curve(SVC(), features, result, \"C\", C_Range, cv=3,\n",
      "                     scoring=None, n_jobs=1, pre_dispatch=\"all\", verbose=1)\n",
      "\n",
      "plotTrain = [scores.mean() for scores in trainScore]\n",
      "plotTest = [scores.mean() for scores in testScore]\n",
      "\n",
      "matplot.figure()\n",
      "p = matplot.plot(C_Range,plotTrain,'r', C_Range, plotTest, 'b')\n",
      "matplot.show(p)"
     ],
     "language": "python",
     "metadata": {},
     "outputs": [
      {
       "output_type": "stream",
       "stream": "stderr",
       "text": [
        "[Parallel(n_jobs=1)]: Done   1 jobs       | elapsed:    0.0s\n",
        "[Parallel(n_jobs=1)]: Done   9 out of   9 | elapsed:    0.2s finished\n"
       ]
      }
     ],
     "prompt_number": 3
    },
    {
     "cell_type": "code",
     "collapsed": false,
     "input": [
      "%matplotlib inline"
     ],
     "language": "python",
     "metadata": {},
     "outputs": [],
     "prompt_number": 4
    },
    {
     "cell_type": "code",
     "collapsed": false,
     "input": [
      "import sys\n",
      "sys.path.append('/Users/Ryan/PythonProjects/MLfunctions/')\n",
      "from sklearn.learning_curve import learning_curve\n",
      "import plots\n",
      "import matplotlib.pyplot as matplot\n",
      "from sklearn.ensemble import RandomForestClassifier\n",
      "from sklearn import cross_validation\n",
      "import logLoss\n",
      "import numpy as np\n",
      "from sklearn.svm import SVC\n",
      "import matplotlib.pyplot as matplot\n",
      "from sklearn.learning_curve import validation_curve\n",
      "\n",
      "\n",
      "dataset = np.genfromtxt(open('Data/training_data.csv','r'), delimiter=',', dtype='f8')[1:] \n",
      "\n",
      "\n",
      "result = np.array([x[1] for x in dataset])\n",
      "features = np.array([x[4:] for x in dataset])\n",
      "\n",
      "\n",
      "C_Range = [.1, 1, 10]\n",
      "\n",
      "\n",
      "trainScore, testScore = validation_curve(SVC(), features, result, \"C\", C_Range, cv=3,\n",
      "                     scoring=None, n_jobs=1, pre_dispatch=\"all\", verbose=1)\n",
      "\n",
      "plotTrain = [scores.mean() for scores in trainScore]\n",
      "plotTest = [scores.mean() for scores in testScore]\n",
      "\n",
      "matplot.figure()\n",
      "p = matplot.plot(C_Range,plotTrain,'r', C_Range, plotTest, 'b')\n",
      "matplot.show(p)"
     ],
     "language": "python",
     "metadata": {},
     "outputs": [
      {
       "output_type": "stream",
       "stream": "stderr",
       "text": [
        "[Parallel(n_jobs=1)]: Done   1 jobs       | elapsed:    0.0s\n",
        "[Parallel(n_jobs=1)]: Done   9 out of   9 | elapsed:    0.2s finished\n"
       ]
      },
      {
       "metadata": {},
       "output_type": "display_data",
       "png": "[encoded data removed]",
       "text": [
        "<matplotlib.figure.Figure at 0x10a735210>"
       ]
      }
     ],
     "prompt_number": 5
    },
    {
     "cell_type": "code",
     "collapsed": false,
     "input": [
      "import sys\n",
      "sys.path.append('/Users/Ryan/PythonProjects/MLfunctions/')\n",
      "from sklearn.learning_curve import learning_curve\n",
      "import plots\n",
      "import matplotlib.pyplot as matplot\n",
      "from sklearn.ensemble import RandomForestClassifier\n",
      "from sklearn import cross_validation\n",
      "import logLoss\n",
      "import numpy as np\n",
      "from sklearn.svm import SVC\n",
      "import matplotlib.pyplot as matplot\n",
      "from sklearn.learning_curve import validation_curve\n",
      "\n",
      "\n",
      "dataset = np.genfromtxt(open('Data/training_data.csv','r'), delimiter=',', dtype='f8')[1:] \n",
      "\n",
      "\n",
      "result = np.array([x[1] for x in dataset])\n",
      "features = np.array([x[4:] for x in dataset])\n",
      "\n",
      "\n",
      "C_Range = [.001, .01, .1]\n",
      "\n",
      "\n",
      "trainScore, testScore = validation_curve(SVC(), features, result, \"C\", C_Range, cv=3,\n",
      "                     scoring=None, n_jobs=1, pre_dispatch=\"all\", verbose=1)\n",
      "\n",
      "plotTrain = [scores.mean() for scores in trainScore]\n",
      "plotTest = [scores.mean() for scores in testScore]\n",
      "\n",
      "matplot.figure()\n",
      "p = matplot.plot(C_Range,plotTrain,'r', C_Range, plotTest, 'b')\n",
      "matplot.show(p)"
     ],
     "language": "python",
     "metadata": {},
     "outputs": [
      {
       "output_type": "stream",
       "stream": "stderr",
       "text": [
        "[Parallel(n_jobs=1)]: Done   1 jobs       | elapsed:    0.0s\n",
        "[Parallel(n_jobs=1)]: Done   9 out of   9 | elapsed:    0.1s finished\n"
       ]
      },
      {
       "metadata": {},
       "output_type": "display_data",
       "png": "[encoded data removed]",
       "text": [
        "<matplotlib.figure.Figure at 0x10d53a890>"
       ]
      }
     ],
     "prompt_number": 6
    },
    {
     "cell_type": "code",
     "collapsed": false,
     "input": [
      "dataset = np.genfromtxt(open('Data/training_data.csv','r'), delimiter=',', dtype='f8')[1:] \n",
      "\n",
      "\n",
      "result = np.array([x[1] for x in dataset])\n",
      "features = np.array([x[4:] for x in dataset])\n",
      "\n",
      "\n",
      "C_Range = [.09, .1, .2, .5]\n",
      "\n",
      "\n",
      "trainScore, testScore = validation_curve(SVC(), features, result, \"C\", C_Range, cv=3,\n",
      "                     scoring=None, n_jobs=1, pre_dispatch=\"all\", verbose=1)\n",
      "\n",
      "plotTrain = [scores.mean() for scores in trainScore]\n",
      "plotTest = [scores.mean() for scores in testScore]\n",
      "\n",
      "matplot.figure()\n",
      "p = matplot.plot(C_Range,plotTrain,'r', C_Range, plotTest, 'b')\n",
      "matplot.show(p)"
     ],
     "language": "python",
     "metadata": {},
     "outputs": [
      {
       "output_type": "stream",
       "stream": "stderr",
       "text": [
        "[Parallel(n_jobs=1)]: Done   1 jobs       | elapsed:    0.0s\n",
        "[Parallel(n_jobs=1)]: Done  12 out of  12 | elapsed:    0.3s finished\n"
       ]
      },
      {
       "metadata": {},
       "output_type": "display_data",
       "png": "[encoded data removed]",
       "text": [
        "<matplotlib.figure.Figure at 0x10d5fc190>"
       ]
      }
     ],
     "prompt_number": 7
    },
    {
     "cell_type": "code",
     "collapsed": false,
     "input": [
      "from sklearn.metrics import f1_score\n",
      "from sklearn.metrics import precision_score\n",
      "\n",
      "SVec = SVC(C=20)\n",
      "\n",
      "X_train, X_test, y_train, y_test = cross_validation.train_test_split(features, result, test_size=0.3, random_state=0)\n",
      "\n",
      "    \n",
      "predictions = SVec.fit(X_train, y_train).predict(X_test)\n",
      "\n",
      "preci = precision_score(y_test, predictions)\n",
      "F1 = f1_score(y_test, predictions)\n",
      "print predictions\n",
      "print(\"precision score: \" + str(preci))\n",
      "print(\"f1 score: \" + str(F1))"
     ],
     "language": "python",
     "metadata": {},
     "outputs": [
      {
       "output_type": "stream",
       "stream": "stdout",
       "text": [
        "[ 0.  0.  1.  1.  0.  0.  0.  0.  0.  0.  0.  1.  0.  0.  0.  0.  0.  1.\n",
        "  0.  0.  0.  0.  0.  0.  0.  0.  0.  0.  0.  0.  0.  0.  0.  0.  0.  0.\n",
        "  0.  0.  0.  0.  0.  0.  0.  1.  1.  0.  0.  1.  0.  0.  0.  0.  0.  0.\n",
        "  1.  0.  0.  0.  0.  0.  0.  1.  1.  0.  1.  0.  0.  0.  0.  0.  0.  1.\n",
        "  0.  0.  0.  0.  0.  0.  0.  0.  0.  1.  0.  0.  0.  0.  0.  0.  1.  0.\n",
        "  0.  0.  0.  0.  1.  0.  0.  0.  0.  0.  1.  0.  0.  0.  0.  1.  0.  0.\n",
        "  1.  1.  0.  1.  0.  0.  1.  1.  0.  1.  0.  0.  0.  0.  0.  0.  0.  0.\n",
        "  0.  0.  0.  1.  0.  0.  0.  0.  0.  0.  0.  1.  1.  1.  1.  1.  1.  1.\n",
        "  1.  0.  0.  0.  1.  0.  0.  0.  0.  0.  1.  0.  1.  0.  0.  0.  1.  0.\n",
        "  1.  0.  0.  0.  0.  0.  0.  0.  1.  0.  0.  1.  0.  0.  0.  0.  0.  1.\n",
        "  0.  1.  0.  0.  0.  0.  0.  0.  0.  0.  0.  0.  0.  0.  1.  1.  0.  0.\n",
        "  1.  0.  0.  0.  0.  0.  1.  0.  0.  0.  0.  0.  0.  0.  0.  0.  0.  0.\n",
        "  0.  0.  0.  1.  1.  0.  1.  0.  0.  1.  0.  0.  1.  1.  1.  0.  0.  0.\n",
        "  0.  0.  0.  0.  0.  0.  1.  1.  0.  0.  0.  0.  0.  0.  1.  0.  0.  0.\n",
        "  0.  0.  0.  0.  0.  0.  0.  0.  0.  0.  0.  0.  1.  1.  1.  0.  0.  0.\n",
        "  0.  1.  0.  0.  1.  0.  0.  1.  0.  0.  0.  1.  0.  0.  0.  1.  0.  0.\n",
        "  0.  0.  0.  1.  0.  0.  1.  0.  0.  0.  0.  0.]\n",
        "precision score: 0.276923076923\n",
        "f1 score: 0.28125\n"
       ]
      }
     ],
     "prompt_number": 19
    },
    {
     "cell_type": "code",
     "collapsed": false,
     "input": [
      "from Bio.SubsMat import MatrixInfo\n",
      "\n",
      "f = \"blosum62\"\n",
      "blosum = MatrixInfo.f\n",
      "\n",
      "A=blosum['Y','A']\n",
      "\n",
      "print A\n",
      "\n"
     ],
     "language": "python",
     "metadata": {},
     "outputs": [
      {
       "ename": "AttributeError",
       "evalue": "'module' object has no attribute 'f'",
       "output_type": "pyerr",
       "traceback": [
        "\u001b[0;31m---------------------------------------------------------------------------\u001b[0m\n\u001b[0;31mAttributeError\u001b[0m                            Traceback (most recent call last)",
        "\u001b[0;32m<ipython-input-9-aa36bf8d32c7>\u001b[0m in \u001b[0;36m<module>\u001b[0;34m()\u001b[0m\n\u001b[1;32m      2\u001b[0m \u001b[0;34m\u001b[0m\u001b[0m\n\u001b[1;32m      3\u001b[0m \u001b[0mf\u001b[0m \u001b[0;34m=\u001b[0m \u001b[0;34m\"blosum62\"\u001b[0m\u001b[0;34m\u001b[0m\u001b[0m\n\u001b[0;32m----> 4\u001b[0;31m \u001b[0mblosum\u001b[0m \u001b[0;34m=\u001b[0m \u001b[0mMatrixInfo\u001b[0m\u001b[0;34m.\u001b[0m\u001b[0mf\u001b[0m\u001b[0;34m\u001b[0m\u001b[0m\n\u001b[0m\u001b[1;32m      5\u001b[0m \u001b[0;34m\u001b[0m\u001b[0m\n\u001b[1;32m      6\u001b[0m \u001b[0mA\u001b[0m\u001b[0;34m=\u001b[0m\u001b[0mblosum\u001b[0m\u001b[0;34m[\u001b[0m\u001b[0;34m'Y'\u001b[0m\u001b[0;34m,\u001b[0m\u001b[0;34m'A'\u001b[0m\u001b[0;34m]\u001b[0m\u001b[0;34m\u001b[0m\u001b[0m\n",
        "\u001b[0;31mAttributeError\u001b[0m: 'module' object has no attribute 'f'"
       ]
      }
     ],
     "prompt_number": 9
    },
    {
     "cell_type": "code",
     "collapsed": false,
     "input": [
      "def SMR(protein, subMat):\n",
      "    #protein is the AA sequence of the protein you would like to represent as a matrix\n",
      "    #subMat is the substitution matrix (i.e. Blosum, PAM etc.) used for the substitution scores\n",
      "    #subMat can be any matrix listed in the Bio.SubsMat package \n",
      "    #http://biopython.org/DIST/docs/api/Bio.SubsMat.MatrixInfo-module.html\n",
      "    #returns a 20 x n size matrix with the SMR representation of protein stored in Mat\n",
      "    aminoacids = ('A', 'R', 'N', 'D', 'C', 'Q', 'E', 'G', 'H', 'I', 'L', 'K', 'M', 'F', 'P', 'S', 'T', 'W', 'Y', 'V')\n",
      "    Mat = np.zeros((20,len(protein))) \n",
      "    print Mat\n",
      "    for AAa in range(len(protein)):\n",
      "        for AAb in range(len(aminoacids)):\n",
      "            pair = (protein[AAa], aminoacids[AAb])\n",
      "            reversepair = (aminoacids[AAb],protein[AAa])\n",
      "\n",
      "            if pair not in subMat and reversepair not in subMat:\n",
      "                Mat[AAb,AAa] = 0\n",
      "            elif pair not in subMat:\n",
      "                Mat[AAb,AAa] = subMat[reversepair]\n",
      "            else:\n",
      "                Mat[AAb,AAa] = subMat[pair]\n",
      "\n",
      "    return Mat\n",
      "\n",
      "from Bio.SubsMat import MatrixInfo\n",
      "import numpy as np\n",
      "\n",
      "blosum = MatrixInfo.blosum62\n",
      "\n",
      "SMR(('A-S'),blosum) "
     ],
     "language": "python",
     "metadata": {},
     "outputs": [
      {
       "output_type": "stream",
       "stream": "stdout",
       "text": [
        "[[ 0.  0.  0.]\n",
        " [ 0.  0.  0.]\n",
        " [ 0.  0.  0.]\n",
        " [ 0.  0.  0.]\n",
        " [ 0.  0.  0.]\n",
        " [ 0.  0.  0.]\n",
        " [ 0.  0.  0.]\n",
        " [ 0.  0.  0.]\n",
        " [ 0.  0.  0.]\n",
        " [ 0.  0.  0.]\n",
        " [ 0.  0.  0.]\n",
        " [ 0.  0.  0.]\n",
        " [ 0.  0.  0.]\n",
        " [ 0.  0.  0.]\n",
        " [ 0.  0.  0.]\n",
        " [ 0.  0.  0.]\n",
        " [ 0.  0.  0.]\n",
        " [ 0.  0.  0.]\n",
        " [ 0.  0.  0.]\n",
        " [ 0.  0.  0.]]\n"
       ]
      },
      {
       "metadata": {},
       "output_type": "pyout",
       "prompt_number": 21,
       "text": [
        "array([[ 4.,  0.,  1.],\n",
        "       [-1.,  0., -1.],\n",
        "       [-2.,  0.,  1.],\n",
        "       [-2.,  0.,  0.],\n",
        "       [ 0.,  0., -1.],\n",
        "       [-1.,  0.,  0.],\n",
        "       [-1.,  0.,  0.],\n",
        "       [ 0.,  0.,  0.],\n",
        "       [-2.,  0., -1.],\n",
        "       [-1.,  0., -2.],\n",
        "       [-1.,  0., -2.],\n",
        "       [-1.,  0.,  0.],\n",
        "       [-1.,  0., -1.],\n",
        "       [-2.,  0., -2.],\n",
        "       [-1.,  0., -1.],\n",
        "       [ 1.,  0.,  4.],\n",
        "       [ 0.,  0.,  1.],\n",
        "       [-3.,  0., -3.],\n",
        "       [-2.,  0., -2.],\n",
        "       [ 0.,  0., -2.]])"
       ]
      }
     ],
     "prompt_number": 21
    },
    {
     "cell_type": "code",
     "collapsed": false,
     "input": [
      "from Bio.Blast.Applications import NcbipsiblastCommandline\n",
      "import os\n",
      "import subprocess\n",
      "import numpy as np\n",
      "from Bio import SeqIO\n",
      "from Bio.Seq import Seq\n",
      "from Bio.SeqRecord import SeqRecord\n",
      "from Bio.Alphabet import IUPAC\n",
      "import sys\n",
      "sys.path.append('~/kaggle-hiv/')\n",
      "\n",
      "def PSSM(protein, database = \"uniprot_sprot.fasta\", output = 10, \\\n",
      "         directory = 'databases/', alignOut = 'alignmentOut.csv', \\\n",
      "         pssmOut = 'pssmOut.txt', numIter = 3):\n",
      "    #Requires: database of protein sequences stored in format that can be parsed by BLAST \n",
      "    #Requires that blast+ command line tools are installed (no internet based interface with python is supported by BLAST at this time)\n",
      "    #download blast+ here: http://www.ncbi.nlm.nih.gov/books/NBK1763/ and install in usr/bin/applications\n",
      "\n",
      "    #### INPUTS #####\n",
      "    #protein is the AA sequence of the protein as a file, list or string that you would like to represent as a matrix\n",
      "\n",
      "    #database is the database of protein sequences used to compare the query sequence to in creation of PSSM\n",
      "    #default is \"uniprot_sprot.fasta\"\n",
      "\n",
      "    #output format, default is csv (10) see blast+ documentation for other output formats\n",
      "\n",
      "    #directory is the directory that the database is stored in\n",
      "    #default is ~/databases/\n",
      "\n",
      "    #alignOut is the name for the alignment file output\n",
      "    #default is 'alignmentOut.csv'\n",
      "\n",
      "    #pssmOut is the name of the pssm matrix file output\n",
      "    #default is 'pssmOut.txt'\n",
      "\n",
      "    #numIter is the number of iterations when searching the database\n",
      "    #default is 3 (minimum for creating PSSM)\n",
      "\n",
      "\n",
      "\n",
      "    #script might require additional python path for windows users \n",
      "\n",
      "    import sys\n",
      "    sys.path.append('~/kaggle-hiv/')\n",
      "\n",
      "    if type(protein) is not \"file\":\n",
      "        #Create fasta file from input protein string \n",
      "        with open(\"ProteinQuery.fasta\", \"w\") as output_handle:\n",
      "            sequences = []\n",
      "            record = SeqRecord(Seq(protein, IUPAC.protein), id=\"query_protein\") \n",
      "            SeqIO.write(record, output_handle, \"fasta\")\n",
      "            query = \"ProteinQuery.fasta\"\n",
      "    else:\n",
      "        query = protein\n",
      "\n",
      "    #Create the string which will be used to run on the command line\n",
      "    DatabaseString = directory + database\n",
      "    BlastString = \"psiblast -db \" + DatabaseString + \" -query \" + query + \\\n",
      "                   \" -outfmt \" + str(output) + \" -out \" + alignOut + \\\n",
      "                   \" -out_ascii_pssm \" + pssmOut + \" -num_iterations \" + str(numIter)\n",
      "\n",
      "    #Run blast+ command on command line\n",
      "    os.system(BlastString)\n",
      "\n",
      "    with open(pssmOut) as PSSMtxt:\n",
      "        PSSMmat = []\n",
      "        for line in PSSMtxt:\n",
      "            PSSMmat.append(line.split().strip())\n",
      "    \n",
      "    PSSMmat = np.array(PSSMmat)\n",
      "    print PSSMmat\n",
      "        \n",
      "\n",
      "\n",
      "PSSM('MDKLMNRSWVMKIIALLLAFMLYLSVNLDDGASSSNKILNRSSSANTGVETLTDVPVQVSYNEKNRIVRGVPDTVIMTLEGPKNILAQTKLQKDYQAYIDLDNLSLGQHRVKVQYRNISDNLNVVVKPDIVNVTIEERDSKQFSVEASYDKNKVKNGYEAGEATVSPRAVTVTGASSQLDQVAYVKAIIDLDNASKTVTKQATVVALDKNLNKLNVTVQPETVNVTIPVRNISKKVPIDVIQEGTPGDGVNITKLEPKTDTVKIIGPSDSLEKIDKIDNIPVDVTGITKSKDIKVNVPVPDGIDSVSPKQITVHVEVDKQGDEKDAEETDASAAETKSFKNLPVSLTGQSSKYTYELLSPTSVDADVKGPKSDLDKLTKSGISLSANVGNLSAGEHTVPIIINSPDSVTSTLSTKQAKVRVTAKKQSGTNDEQTDDKETSGSTSDKETSGSTSDKETKPDTGTGSGTNPGTGNSGDSADKPSEETDTPEDNTDTPTDSTETGDDSSNQSDENSTPVDGQTDNTSGN')\n"
     ],
     "language": "python",
     "metadata": {},
     "outputs": [
      {
       "ename": "IOError",
       "evalue": "[Errno 2] No such file or directory: 'pssmOut.txt'",
       "output_type": "pyerr",
       "traceback": [
        "\u001b[0;31m---------------------------------------------------------------------------\u001b[0m\n\u001b[0;31mIOError\u001b[0m                                   Traceback (most recent call last)",
        "\u001b[0;32m<ipython-input-6-a60cc28ea448>\u001b[0m in \u001b[0;36m<module>\u001b[0;34m()\u001b[0m\n\u001b[1;32m     68\u001b[0m \u001b[0;34m\u001b[0m\u001b[0m\n\u001b[1;32m     69\u001b[0m \u001b[0;34m\u001b[0m\u001b[0m\n\u001b[0;32m---> 70\u001b[0;31m \u001b[0mPSSM\u001b[0m\u001b[0;34m(\u001b[0m\u001b[0;34m'MDKLMNRSWVMKIIALLLAFMLYLSVNLDDGASSSNKILNRSSSANTGVETLTDVPVQVSYNEKNRIVRGVPDTVIMTLEGPKNILAQTKLQKDYQAYIDLDNLSLGQHRVKVQYRNISDNLNVVVKPDIVNVTIEERDSKQFSVEASYDKNKVKNGYEAGEATVSPRAVTVTGASSQLDQVAYVKAIIDLDNASKTVTKQATVVALDKNLNKLNVTVQPETVNVTIPVRNISKKVPIDVIQEGTPGDGVNITKLEPKTDTVKIIGPSDSLEKIDKIDNIPVDVTGITKSKDIKVNVPVPDGIDSVSPKQITVHVEVDKQGDEKDAEETDASAAETKSFKNLPVSLTGQSSKYTYELLSPTSVDADVKGPKSDLDKLTKSGISLSANVGNLSAGEHTVPIIINSPDSVTSTLSTKQAKVRVTAKKQSGTNDEQTDDKETSGSTSDKETSGSTSDKETKPDTGTGSGTNPGTGNSGDSADKPSEETDTPEDNTDTPTDSTETGDDSSNQSDENSTPVDGQTDNTSGN'\u001b[0m\u001b[0;34m)\u001b[0m\u001b[0;34m\u001b[0m\u001b[0m\n\u001b[0m",
        "\u001b[0;32m<ipython-input-6-a60cc28ea448>\u001b[0m in \u001b[0;36mPSSM\u001b[0;34m(protein, database, output, directory, alignOut, pssmOut, numIter)\u001b[0m\n\u001b[1;32m     58\u001b[0m     \u001b[0mos\u001b[0m\u001b[0;34m.\u001b[0m\u001b[0msystem\u001b[0m\u001b[0;34m(\u001b[0m\u001b[0mBlastString\u001b[0m\u001b[0;34m)\u001b[0m\u001b[0;34m\u001b[0m\u001b[0m\n\u001b[1;32m     59\u001b[0m \u001b[0;34m\u001b[0m\u001b[0m\n\u001b[0;32m---> 60\u001b[0;31m     \u001b[0;32mwith\u001b[0m \u001b[0mopen\u001b[0m\u001b[0;34m(\u001b[0m\u001b[0mpssmOut\u001b[0m\u001b[0;34m)\u001b[0m \u001b[0;32mas\u001b[0m \u001b[0mPSSMtxt\u001b[0m\u001b[0;34m:\u001b[0m\u001b[0;34m\u001b[0m\u001b[0m\n\u001b[0m\u001b[1;32m     61\u001b[0m         \u001b[0mPSSMmat\u001b[0m \u001b[0;34m=\u001b[0m \u001b[0;34m[\u001b[0m\u001b[0;34m]\u001b[0m\u001b[0;34m\u001b[0m\u001b[0m\n\u001b[1;32m     62\u001b[0m         \u001b[0;32mfor\u001b[0m \u001b[0mline\u001b[0m \u001b[0;32min\u001b[0m \u001b[0mPSSMtxt\u001b[0m\u001b[0;34m:\u001b[0m\u001b[0;34m\u001b[0m\u001b[0m\n",
        "\u001b[0;31mIOError\u001b[0m: [Errno 2] No such file or directory: 'pssmOut.txt'"
       ]
      }
     ],
     "prompt_number": 6
    },
    {
     "cell_type": "code",
     "collapsed": false,
     "input": [
      "dataset = open('Data/training_data.csv','r')\n",
      "print type(dataset)"
     ],
     "language": "python",
     "metadata": {},
     "outputs": [
      {
       "output_type": "stream",
       "stream": "stdout",
       "text": [
        "<type 'file'>\n"
       ]
      }
     ],
     "prompt_number": 49
    },
    {
     "cell_type": "code",
     "collapsed": false,
     "input": [
      "import sys\n",
      "sys.path.append('/Users/Ryan/PythonProjects/Kaggle/HIVresponse/kaggle-hiv/')\n",
      "import csv\n",
      "from Bio.Seq import Seq\n",
      "import MatrixRep\n",
      "from MatFeatExtract import *\n",
      "from sklearn.svm import SVC\n",
      "from sklearn.ensemble import RandomForestClassifier\n",
      "from sklearn import cross_validation\n",
      "from random import shuffle\n",
      "from sklearn.preprocessing import StandardScaler\n",
      "from sklearn.feature_selection import chi2\n",
      "\n",
      "database='databases/uniprot_sprot.fasta'\n",
      "\n",
      "data=[]\n",
      "with open('kaggle-hiv/training_data.csv', 'rb') as csvfile:\n",
      "    reader = csv.reader(csvfile, delimiter=',')\n",
      "    reader.next()\n",
      "    for row in reader:\n",
      "        data.append((int(row[0]),int(row[1]),row[2],row[3],float(row[4]),int(row[5])))\n",
      "\n",
      "shuffle(data)\t\n",
      "\n",
      "#Run through data, create representations, extract features, and aggregate\n",
      "for d in data:\n",
      "    #Load and translate data\n",
      "    protease=Seq(d[2])\n",
      "    RT = Seq(d[3])\n",
      "    RTaas = RT.translate()\n",
      "    proaas=protease.translate()\n",
      "\n",
      "    #Create a representation of the protein\n",
      "    #PROoutput=MatrixRep.PSSM(proaas.tostring(),database=database)\n",
      "    #RToutput=MatrixRep.PSSM(RTaas.tostring(),database=database)\n",
      "\n",
      "    PROoutput=MatrixRep.SMR(proaas.tostring())\n",
      "    RToutput=MatrixRep.SMR(RTaas.tostring())\n",
      "\n",
      "    PROmat=PROoutput['SMR'].astype(float)\n",
      "    RTmat=RToutput['SMR'].astype(float)\n",
      "\n",
      "\n",
      "    ## Run a feature extraction method on mat\n",
      "    RTfeature=PseudoPSSM(RTmat)\n",
      "    PROfeature=PseudoPSSM(RTmat)\n",
      "\n",
      "\n",
      "    ## Aggregate Features\n",
      "    if 'RTfeatures' not in locals():\n",
      "        RTfeatures=RTfeature.copy()\n",
      "        PROfeatures=PROfeature.copy()\n",
      "\n",
      "    else:\n",
      "        RTfeatures=np.vstack((RTfeatures,RTfeature))\n",
      "        PROfeatures=np.vstack((PROfeatures,PROfeature))\n",
      "\n",
      "VL = np.array([x[4] for x in data])\n",
      "CD4 = np.array([x[5] for x in data])\n",
      "\n",
      "\n",
      "X = np.concatenate((RTfeatures, PROfeatures, np.reshape(VL,(len(data),1)), np.reshape(CD4,(len(data),1))), axis=1)\n",
      "X = StandardScaler().fit_transform(X)\n",
      "y = np.array([x[1] for x in data])\n",
      "\n",
      "\n",
      "#Do Machine Learning\n",
      "\n",
      "cfr = RandomForestClassifier(n_estimators=200)\n",
      "SVec = SVC(C=300)\n",
      "\n",
      "#Simple K-Fold cross validation. 4 folds.\n",
      "cv = cross_validation.KFold(len(X), 5, indices=False)\n",
      "\n",
      "RFresults = []\n",
      "SVMresults = []\n",
      "for traincv, testcv in cv:\n",
      "    RFfit = cfr.fit(X[traincv], y[traincv])\n",
      "    RFscore = RFfit.score(X[testcv], y[testcv])\n",
      "    RFpredicts = RFfit.predict(X[testcv])\n",
      "\n",
      "    RFresults.append( RFscore )\n",
      "\n",
      "    SVMfit = SVec.fit(X[traincv], y[traincv])\n",
      "    SVMscore = SVMfit.score(X[testcv], y[testcv])\n",
      "    SVMpredicts = SVMfit.predict(X[testcv])\n",
      "\n",
      "    SVMresults.append(SVMscore)\n",
      "\n",
      "print \"RF: \" + str(RFresults)\n",
      "print \"RF sum \" + str(RFpredicts.sum())\n",
      "print \"SCV: \" + str(SVMresults)\n",
      "print \"SVM sum \" + str(SVMpredicts.sum())\n",
      "#print \"SVC\" +str(SVMpredicts)"
     ],
     "language": "python",
     "metadata": {},
     "outputs": [
      {
       "output_type": "stream",
       "stream": "stderr",
       "text": [
        "/Users/Ryan/anaconda/lib/python2.7/site-packages/Bio/Seq.py:302: BiopythonDeprecationWarning: This method is obsolete; please use str(my_seq) instead of my_seq.tostring().\n",
        "  BiopythonDeprecationWarning)\n",
        "/Users/Ryan/anaconda/lib/python2.7/site-packages/Bio/Seq.py:1976: BiopythonWarning: Partial codon, len(sequence) not a multiple of three. Explicitly trim the sequence or add trailing N before translation. This may become an error in future.\n",
        "  BiopythonWarning)\n"
       ]
      },
      {
       "output_type": "stream",
       "stream": "stdout",
       "text": [
        "RF: [0.72999999999999998, 0.80500000000000005, 0.79000000000000004, 0.82999999999999996, 0.83999999999999997]\n",
        "RF sum15\n",
        "SCV: [0.70999999999999996, 0.78500000000000003, 0.78500000000000003, 0.77500000000000002, 0.73499999999999999]\n",
        "SVM sum38\n"
       ]
      },
      {
       "output_type": "stream",
       "stream": "stderr",
       "text": [
        "/Users/Ryan/anaconda/lib/python2.7/site-packages/sklearn/cross_validation.py:65: DeprecationWarning: The indices parameter is deprecated and will be removed (assumed True) in 0.17\n",
        "  stacklevel=1)\n"
       ]
      }
     ],
     "prompt_number": 5
    },
    {
     "cell_type": "code",
     "collapsed": false,
     "input": [
      "%matplotlib inline"
     ],
     "language": "python",
     "metadata": {},
     "outputs": [],
     "prompt_number": 9
    },
    {
     "cell_type": "code",
     "collapsed": false,
     "input": [
      "from sklearn.feature_selection import f_classif\n",
      "import matplotlib.pyplot as plt\n",
      "\n",
      "F, p = f_classif(X,y)\n",
      "p.sort()\n",
      "F.sort()\n",
      "\n",
      "plt.figure()\n",
      "plt.plot(p)\n",
      "\n",
      "plt.figure()\n",
      "plt.plot(F)"
     ],
     "language": "python",
     "metadata": {},
     "outputs": [
      {
       "metadata": {},
       "output_type": "pyout",
       "prompt_number": 10,
       "text": [
        "[<matplotlib.lines.Line2D at 0x109dcce90>]"
       ]
      },
      {
       "metadata": {},
       "output_type": "display_data",
       "png": "[encoded data removed]",
       "text": [
        "<matplotlib.figure.Figure at 0x109de4b10>"
       ]
      },
      {
       "metadata": {},
       "output_type": "display_data",
       "png": "[encoded data removed]",
       "text": [
        "<matplotlib.figure.Figure at 0x109e0d190>"
       ]
      }
     ],
     "prompt_number": 10
    },
    {
     "cell_type": "code",
     "collapsed": false,
     "input": [
      "from sklearn.feature_selection import f_classif\n",
      "import matplotlib.pyplot as plt\n",
      "\n",
      "F, p = f_classif(X,y)\n",
      "#p.sort()\n",
      "#F.sort()\n",
      "\n",
      "plt.figure()\n",
      "plt.plot(p)\n",
      "\n",
      "plt.figure()\n",
      "plt.plot(F)"
     ],
     "language": "python",
     "metadata": {},
     "outputs": [
      {
       "metadata": {},
       "output_type": "pyout",
       "prompt_number": 11,
       "text": [
        "[<matplotlib.lines.Line2D at 0x103a1c790>]"
       ]
      },
      {
       "metadata": {},
       "output_type": "display_data",
       "png": "[encoded data removed]",
       "text": [
        "<matplotlib.figure.Figure at 0x10a34cd10>"
       ]
      },
      {
       "metadata": {},
       "output_type": "display_data",
       "png": "[encoded data removed]",
       "text": [
        "<matplotlib.figure.Figure at 0x109de49d0>"
       ]
      }
     ],
     "prompt_number": 11
    },
    {
     "cell_type": "code",
     "collapsed": false,
     "input": [
      "print p\n",
      "print F"
     ],
     "language": "python",
     "metadata": {},
     "outputs": [
      {
       "output_type": "stream",
       "stream": "stdout",
       "text": [
        "[  8.05872854e-14   6.84379332e-01   2.05647213e-04   7.38516132e-09\n",
        "   3.65141463e-02   1.51786964e-05   5.02364816e-01   1.98101712e-02\n",
        "   1.70434785e-01   4.47191097e-03   3.97802084e-01   3.68588870e-05\n",
        "   2.25919644e-02   5.73702972e-02   2.41255888e-19   6.72474952e-05\n",
        "   9.93434881e-12   5.51949571e-05   5.99668092e-03   1.65394885e-01\n",
        "   1.05808784e-15   3.08559107e-03   1.01486833e-02   4.64648924e-07\n",
        "   3.22576907e-01   9.65315429e-12   1.11725512e-04   5.48441750e-01\n",
        "   3.96125125e-03   1.41728851e-11   5.75566044e-08   8.84263563e-01\n",
        "   2.40963722e-06   8.53776785e-09   4.25712230e-17   1.93241569e-04\n",
        "   9.88505547e-14   4.73656736e-06   3.29506645e-01   6.77495067e-08\n",
        "   2.18563368e-21   6.70894458e-02   7.56919651e-05   8.94238087e-04\n",
        "   6.30599537e-01   6.71430752e-06   3.81781835e-03   8.86655143e-01\n",
        "   1.07892508e-01   4.33550656e-01   3.49019106e-03   1.75388129e-01\n",
        "   5.76400211e-01   2.55780963e-03   6.61764452e-15   7.55846040e-02\n",
        "   5.75257903e-13   1.11505070e-21   2.24583388e-08   1.16038500e-01\n",
        "   1.00577687e-18   3.29172429e-07   9.52787530e-01   9.43234053e-10\n",
        "   5.11166884e-01   1.87168608e-10   1.92947669e-02   3.55382059e-01\n",
        "   1.24558642e-03   1.17536768e-03   2.12021176e-09   6.18710843e-04\n",
        "   2.47391882e-04   5.79874697e-01   2.88156025e-15   3.75559197e-01\n",
        "   4.29427121e-11   6.29608096e-12   5.73351756e-06   1.02877270e-05\n",
        "   1.64604896e-16   8.93530347e-08   4.43903288e-04   5.17474490e-13\n",
        "   8.66857376e-01   1.40107142e-03   9.33510056e-05   5.03245420e-01\n",
        "   5.85689345e-02   7.22964076e-05   6.81011901e-04   1.54872276e-03\n",
        "   2.31394548e-01   1.74757265e-05   1.74201535e-13   4.33384951e-03\n",
        "   1.47120751e-10   3.70975118e-03   2.78198060e-01   3.70137324e-05\n",
        "   2.86855345e-18   2.01338890e-06   1.81111257e-01   2.25175484e-07\n",
        "   8.57898123e-01   6.88064657e-08   3.10734027e-01   6.97649375e-06\n",
        "   4.25914700e-02   6.41860743e-05   2.24031787e-03   9.24786943e-07\n",
        "   4.27941945e-04   1.39165279e-05   3.53390317e-17   8.04892962e-02\n",
        "   2.39979329e-11   1.22880685e-09   3.90852307e-05   1.03814361e-02\n",
        "   1.00885403e-21   1.68976255e-03   6.95590686e-05   1.83574977e-08\n",
        "   3.42793740e-01   3.88235798e-12   8.20247120e-02   3.61730461e-06\n",
        "   9.99049914e-02   2.36346968e-07   5.49512792e-10   3.80953623e-03\n",
        "   1.82011784e-06   6.65452319e-03   1.25354390e-13   7.67558353e-02\n",
        "   2.98510967e-12   2.12002644e-13   3.20276499e-05   7.25108637e-06\n",
        "   3.11565333e-18   3.55729463e-03   8.38488578e-01   3.82650311e-06\n",
        "   1.73919615e-01   8.61531563e-09   4.28636907e-08   3.79449417e-04\n",
        "   2.72711769e-01   1.10924611e-10   9.21793680e-10   6.19990991e-04\n",
        "   3.52287528e-04   5.78901294e-03   2.96622543e-10   1.52555052e-03\n",
        "   5.06302152e-10   7.34438278e-13   4.81014999e-05   1.70331694e-07\n",
        "   8.43372541e-14   5.61795485e-07   4.33835192e-02   1.54063689e-13\n",
        "   2.69423929e-03   2.59998392e-03   7.55313775e-06   7.10464138e-08\n",
        "   3.87283072e-03   4.71934903e-16   1.45865885e-12   4.13709435e-06\n",
        "   1.49480592e-05   6.01022893e-08   1.02389372e-16   7.83850155e-10\n",
        "   3.54415219e-13   1.94871021e-01   9.42777637e-01   2.96104448e-12\n",
        "   1.24139260e-15   4.92847476e-08   1.96496400e-02   1.70399906e-08\n",
        "   6.14786951e-01   4.47460347e-09   8.47343633e-05   7.79945919e-07\n",
        "   1.16694881e-04   2.07311290e-05   3.80173611e-06   4.15123309e-03\n",
        "   9.21495379e-07   5.82009823e-08   5.29330807e-16   4.25315739e-04\n",
        "   3.88340482e-10   2.30501748e-03   1.58167258e-01   4.58167201e-04\n",
        "   1.97752555e-17   3.57777131e-08   1.89806722e-01   7.27238036e-04\n",
        "   5.94410158e-01   1.51651954e-09   3.30022088e-04   8.65202574e-02\n",
        "   3.13991025e-03   2.52351433e-01   3.83349859e-02   1.01154077e-03\n",
        "   5.80842500e-01   1.86756697e-03   1.75201434e-10   8.40700932e-04\n",
        "   3.29977021e-14   6.26342209e-13   3.13497809e-03   3.52856773e-01\n",
        "   6.54988714e-19   2.40180264e-09   2.51874656e-01   2.73601508e-11\n",
        "   4.75905264e-02   8.34059053e-03   3.71987380e-01   3.65988399e-01\n",
        "   5.77035920e-01   1.86578864e-07   1.45643774e-08   4.76982674e-10\n",
        "   5.30168096e-06   6.23941454e-08   9.48658185e-11   3.43516341e-05\n",
        "   2.29905105e-10   8.62984236e-13   7.28762367e-01   2.32654329e-02\n",
        "   1.62892162e-18   4.50062473e-09   3.35407846e-03   3.14323362e-10\n",
        "   3.19929942e-01   5.70334019e-11   3.23218330e-07   2.81756541e-04\n",
        "   6.90487986e-03   3.75314785e-11   3.41912428e-08   3.42243093e-02\n",
        "   2.22769123e-03   4.10628960e-05   1.03599121e-16   2.20567496e-02\n",
        "   4.79195120e-15   8.86148071e-02   4.80612815e-01   2.46427978e-12\n",
        "   9.15535344e-20   1.10161005e-06   7.85312291e-01   2.68426392e-02\n",
        "   9.40325950e-02   3.85690791e-13   1.66504634e-10   3.86381558e-01\n",
        "   1.40862259e-01   7.43399902e-01   2.92160802e-06   6.67497485e-03\n",
        "   8.14879723e-03   3.79926894e-09   1.19175414e-15   1.91666347e-05\n",
        "   1.43430262e-10   3.87814648e-04   7.36612230e-01   2.40570673e-01\n",
        "   1.07884031e-19   2.03717304e-05   5.94747408e-02   1.02880979e-12\n",
        "   9.57899188e-01   8.05438600e-07   1.93706523e-01   1.34156238e-05\n",
        "   2.39369272e-01   9.56947445e-01   9.37672391e-02   1.25298652e-06\n",
        "   6.16346298e-01   5.56441955e-02   9.40046525e-12   2.55100886e-01\n",
        "   3.21472806e-11   4.49630062e-13   1.56245779e-04   8.77026837e-01\n",
        "   1.57922653e-19   1.45745218e-13   2.66513528e-07   1.06056115e-10\n",
        "   1.50946782e-01   3.19664827e-07   5.32571830e-06   3.30612570e-01\n",
        "   1.40237809e-02   6.37589451e-12   1.23804972e-10   8.45292983e-04\n",
        "   6.80749307e-03   5.98498310e-10   3.01141742e-13   6.51097124e-06\n",
        "   7.55312362e-16   3.36556349e-06   3.40064537e-01   2.53564878e-08\n",
        "   8.05872854e-14   6.84379332e-01   2.05647213e-04   7.38516132e-09\n",
        "   3.65141463e-02   1.51786964e-05   5.02364816e-01   1.98101712e-02\n",
        "   1.70434785e-01   4.47191097e-03   3.97802084e-01   3.68588870e-05\n",
        "   2.25919644e-02   5.73702972e-02   2.41255888e-19   6.72474952e-05\n",
        "   9.93434881e-12   5.51949571e-05   5.99668092e-03   1.65394885e-01\n",
        "   1.05808784e-15   3.08559107e-03   1.01486833e-02   4.64648924e-07\n",
        "   3.22576907e-01   9.65315429e-12   1.11725512e-04   5.48441750e-01\n",
        "   3.96125125e-03   1.41728851e-11   5.75566044e-08   8.84263563e-01\n",
        "   2.40963722e-06   8.53776785e-09   4.25712230e-17   1.93241569e-04\n",
        "   9.88505547e-14   4.73656736e-06   3.29506645e-01   6.77495067e-08\n",
        "   2.18563368e-21   6.70894458e-02   7.56919651e-05   8.94238087e-04\n",
        "   6.30599537e-01   6.71430752e-06   3.81781835e-03   8.86655143e-01\n",
        "   1.07892508e-01   4.33550656e-01   3.49019106e-03   1.75388129e-01\n",
        "   5.76400211e-01   2.55780963e-03   6.61764452e-15   7.55846040e-02\n",
        "   5.75257903e-13   1.11505070e-21   2.24583388e-08   1.16038500e-01\n",
        "   1.00577687e-18   3.29172429e-07   9.52787530e-01   9.43234053e-10\n",
        "   5.11166884e-01   1.87168608e-10   1.92947669e-02   3.55382059e-01\n",
        "   1.24558642e-03   1.17536768e-03   2.12021176e-09   6.18710843e-04\n",
        "   2.47391882e-04   5.79874697e-01   2.88156025e-15   3.75559197e-01\n",
        "   4.29427121e-11   6.29608096e-12   5.73351756e-06   1.02877270e-05\n",
        "   1.64604896e-16   8.93530347e-08   4.43903288e-04   5.17474490e-13\n",
        "   8.66857376e-01   1.40107142e-03   9.33510056e-05   5.03245420e-01\n",
        "   5.85689345e-02   7.22964076e-05   6.81011901e-04   1.54872276e-03\n",
        "   2.31394548e-01   1.74757265e-05   1.74201535e-13   4.33384951e-03\n",
        "   1.47120751e-10   3.70975118e-03   2.78198060e-01   3.70137324e-05\n",
        "   2.86855345e-18   2.01338890e-06   1.81111257e-01   2.25175484e-07\n",
        "   8.57898123e-01   6.88064657e-08   3.10734027e-01   6.97649375e-06\n",
        "   4.25914700e-02   6.41860743e-05   2.24031787e-03   9.24786943e-07\n",
        "   4.27941945e-04   1.39165279e-05   3.53390317e-17   8.04892962e-02\n",
        "   2.39979329e-11   1.22880685e-09   3.90852307e-05   1.03814361e-02\n",
        "   1.00885403e-21   1.68976255e-03   6.95590686e-05   1.83574977e-08\n",
        "   3.42793740e-01   3.88235798e-12   8.20247120e-02   3.61730461e-06\n",
        "   9.99049914e-02   2.36346968e-07   5.49512792e-10   3.80953623e-03\n",
        "   1.82011784e-06   6.65452319e-03   1.25354390e-13   7.67558353e-02\n",
        "   2.98510967e-12   2.12002644e-13   3.20276499e-05   7.25108637e-06\n",
        "   3.11565333e-18   3.55729463e-03   8.38488578e-01   3.82650311e-06\n",
        "   1.73919615e-01   8.61531563e-09   4.28636907e-08   3.79449417e-04\n",
        "   2.72711769e-01   1.10924611e-10   9.21793680e-10   6.19990991e-04\n",
        "   3.52287528e-04   5.78901294e-03   2.96622543e-10   1.52555052e-03\n",
        "   5.06302152e-10   7.34438278e-13   4.81014999e-05   1.70331694e-07\n",
        "   8.43372541e-14   5.61795485e-07   4.33835192e-02   1.54063689e-13\n",
        "   2.69423929e-03   2.59998392e-03   7.55313775e-06   7.10464138e-08\n",
        "   3.87283072e-03   4.71934903e-16   1.45865885e-12   4.13709435e-06\n",
        "   1.49480592e-05   6.01022893e-08   1.02389372e-16   7.83850155e-10\n",
        "   3.54415219e-13   1.94871021e-01   9.42777637e-01   2.96104448e-12\n",
        "   1.24139260e-15   4.92847476e-08   1.96496400e-02   1.70399906e-08\n",
        "   6.14786951e-01   4.47460347e-09   8.47343633e-05   7.79945919e-07\n",
        "   1.16694881e-04   2.07311290e-05   3.80173611e-06   4.15123309e-03\n",
        "   9.21495379e-07   5.82009823e-08   5.29330807e-16   4.25315739e-04\n",
        "   3.88340482e-10   2.30501748e-03   1.58167258e-01   4.58167201e-04\n",
        "   1.97752555e-17   3.57777131e-08   1.89806722e-01   7.27238036e-04\n",
        "   5.94410158e-01   1.51651954e-09   3.30022088e-04   8.65202574e-02\n",
        "   3.13991025e-03   2.52351433e-01   3.83349859e-02   1.01154077e-03\n",
        "   5.80842500e-01   1.86756697e-03   1.75201434e-10   8.40700932e-04\n",
        "   3.29977021e-14   6.26342209e-13   3.13497809e-03   3.52856773e-01\n",
        "   6.54988714e-19   2.40180264e-09   2.51874656e-01   2.73601508e-11\n",
        "   4.75905264e-02   8.34059053e-03   3.71987380e-01   3.65988399e-01\n",
        "   5.77035920e-01   1.86578864e-07   1.45643774e-08   4.76982674e-10\n",
        "   5.30168096e-06   6.23941454e-08   9.48658185e-11   3.43516341e-05\n",
        "   2.29905105e-10   8.62984236e-13   7.28762367e-01   2.32654329e-02\n",
        "   1.62892162e-18   4.50062473e-09   3.35407846e-03   3.14323362e-10\n",
        "   3.19929942e-01   5.70334019e-11   3.23218330e-07   2.81756541e-04\n",
        "   6.90487986e-03   3.75314785e-11   3.41912428e-08   3.42243093e-02\n",
        "   2.22769123e-03   4.10628960e-05   1.03599121e-16   2.20567496e-02\n",
        "   4.79195120e-15   8.86148071e-02   4.80612815e-01   2.46427978e-12\n",
        "   9.15535344e-20   1.10161005e-06   7.85312291e-01   2.68426392e-02\n",
        "   9.40325950e-02   3.85690791e-13   1.66504634e-10   3.86381558e-01\n",
        "   1.40862259e-01   7.43399902e-01   2.92160802e-06   6.67497485e-03\n",
        "   8.14879723e-03   3.79926894e-09   1.19175414e-15   1.91666347e-05\n",
        "   1.43430262e-10   3.87814648e-04   7.36612230e-01   2.40570673e-01\n",
        "   1.07884031e-19   2.03717304e-05   5.94747408e-02   1.02880979e-12\n",
        "   9.57899188e-01   8.05438600e-07   1.93706523e-01   1.34156238e-05\n",
        "   2.39369272e-01   9.56947445e-01   9.37672391e-02   1.25298652e-06\n",
        "   6.16346298e-01   5.56441955e-02   9.40046525e-12   2.55100886e-01\n",
        "   3.21472806e-11   4.49630062e-13   1.56245779e-04   8.77026837e-01\n",
        "   1.57922653e-19   1.45745218e-13   2.66513528e-07   1.06056115e-10\n",
        "   1.50946782e-01   3.19664827e-07   5.32571830e-06   3.30612570e-01\n",
        "   1.40237809e-02   6.37589451e-12   1.23804972e-10   8.45292983e-04\n",
        "   6.80749307e-03   5.98498310e-10   3.01141742e-13   6.51097124e-06\n",
        "   7.55312362e-16   3.36556349e-06   3.40064537e-01   2.53564878e-08\n",
        "   2.12768647e-32   1.70002732e-04]\n",
        "[  5.74096547e+01   1.65334238e-01   1.38813180e+01   3.40141345e+01\n",
        "   4.38472507e+00   1.89010791e+01   4.50264131e-01   5.44607047e+00\n",
        "   1.88182834e+00   8.11840178e+00   7.15574767e-01   1.71813880e+01\n",
        "   5.21579614e+00   3.62017975e+00   8.42788147e+01   1.60219600e+01\n",
        "   4.74583767e+01   1.64022349e+01   7.58375054e+00   1.92701766e+00\n",
        "   6.64712868e+01   8.79910165e+00   6.63387120e+00   2.57444159e+01\n",
        "   9.79440290e-01   4.75173444e+01   1.50472292e+01   3.60361628e-01\n",
        "   8.34030677e+00   4.67290402e+01   2.98977835e+01   2.12004691e-02\n",
        "   2.24981336e+01   3.37223907e+01   7.32528131e+01   1.39999274e+01\n",
        "   5.69848779e+01   2.11729080e+01   9.51765791e-01   2.95722643e+01\n",
        "   9.44179278e+01   3.36015699e+00   1.57944818e+01   1.11014810e+01\n",
        "   2.31391323e-01   2.04906128e+01   8.40790452e+00   2.03274422e-02\n",
        "   2.58947107e+00   6.13788907e-01   8.57255192e+00   1.83888747e+00\n",
        "   3.12295719e-01   9.14497449e+00   6.26253685e+01   3.16396218e+00\n",
        "   5.33317099e+01   9.58772632e+01   3.17806263e+01   2.47429186e+00\n",
        "   8.12227725e+01   2.64273987e+01   3.50718770e-03   3.81693917e+01\n",
        "   4.31987462e-01   4.14543226e+01   5.49240127e+00   8.54940117e-01\n",
        "   1.04813460e+01   1.05897308e+01   3.65305774e+01   1.17938320e+01\n",
        "   1.35294300e+01   3.06637920e-01   6.43673936e+01   7.85890555e-01\n",
        "   4.44584275e+01   4.83955439e+01   2.07992280e+01   1.96580739e+01\n",
        "   7.03921485e+01   2.90201644e+01   1.24205232e+01   5.35508116e+01\n",
        "   2.81215399e-02   1.02618938e+01   1.53917587e+01   4.48410967e-01\n",
        "   3.58566988e+00   1.58827187e+01   1.16131934e+01   1.00752632e+01\n",
        "   1.43401560e+00   1.86272593e+01   5.58077870e+01   8.17574083e+00\n",
        "   4.19447202e+01   8.46056712e+00   1.17715450e+00   1.71732867e+01\n",
        "   7.89856561e+01   2.28512053e+01   1.79098297e+00   2.71809169e+01\n",
        "   3.20756288e-02   2.95413688e+01   1.02859787e+00   2.04157915e+01\n",
        "   4.12209287e+00   1.61116177e+01   9.38999746e+00   2.43838357e+01\n",
        "   1.24897820e+01   1.90698907e+01   7.36473754e+01   3.06120979e+00\n",
        "   4.56494352e+01   3.76337788e+01   1.70680753e+01   6.59321657e+00\n",
        "   9.60944710e+01   9.91313723e+00   1.59569472e+01   3.21848674e+01\n",
        "   9.00812400e-01   4.93903328e+01   3.03042659e+00   2.17009534e+01\n",
        "   2.71209419e+00   2.70847575e+01   3.92649295e+01   8.41188643e+00\n",
        "   2.30496761e+01   7.39487911e+00   5.64912007e+01   3.13878515e+00\n",
        "   4.99316197e+01   5.54002062e+01   1.74530310e+01   2.03404026e+01\n",
        "   7.88095044e+01   8.53758200e+00   4.15671910e-02   2.15907648e+01\n",
        "   1.85147094e+00   3.37042064e+01   3.04867477e+01   1.27174369e+01\n",
        "   1.20438480e+00   4.25203993e+01   3.82159768e+01   1.17899382e+01\n",
        "   1.28581762e+01   7.64780046e+00   4.05174231e+01   1.01033265e+01\n",
        "   3.94311586e+01   5.28263254e+01   1.66674189e+01   2.77356292e+01\n",
        "   5.73150539e+01   2.53686858e+01   4.09080022e+00   5.60628494e+01\n",
        "   9.04905247e+00   9.11477739e+00   2.02607222e+01   2.94774391e+01\n",
        "   8.38167680e+00   6.81704703e+01   5.14085277e+01   2.14378668e+01\n",
        "   1.89308452e+01   2.98113585e+01   7.13953774e+01   3.85445037e+01\n",
        "   5.43346978e+01   1.68266108e+00   5.15484679e-03   4.99482975e+01\n",
        "   6.61354307e+01   3.02077334e+01   5.46036581e+00   3.23342597e+01\n",
        "   2.53421887e-01   3.50232098e+01   1.55776682e+01   2.47201564e+01\n",
        "   1.49638629e+01   1.82956659e+01   2.16034896e+01   8.25451436e+00\n",
        "   2.43908730e+01   2.98755497e+01   6.79287221e+01   1.25014273e+01\n",
        "   3.99698295e+01   9.33731712e+00   1.99465011e+00   1.23607276e+01\n",
        "   7.48787570e+01   3.08481542e+01   1.72146154e+00   1.14896621e+01\n",
        "   2.83691854e-01   3.72080712e+01   1.29819789e+01   2.94375903e+00\n",
        "   8.76698418e+00   1.31175660e+00   4.30148918e+00   1.08705082e+01\n",
        "   3.05073996e-01   9.72729372e+00   4.15888727e+01   1.12173056e+01\n",
        "   5.92690436e+01   5.31556618e+01   8.76987699e+00   8.63963124e-01\n",
        "   8.21398266e+01   3.62786447e+01   1.31439833e+00   4.53808908e+01\n",
        "   3.93408708e+00   6.98667139e+00   7.97732892e-01   8.17984427e-01\n",
        "   3.11255472e-01   2.75545048e+01   3.26492918e+01   3.95522639e+01\n",
        "   2.09523663e+01   2.97366384e+01   4.28394036e+01   1.73175600e+01\n",
        "   4.10357014e+01   5.24928249e+01   1.20318560e-01   5.16447257e+00\n",
        "   8.01929116e+01   3.50115224e+01   8.64563799e+00   4.03995788e+01\n",
        "   9.90219477e-01   4.38783438e+01   2.64635950e+01   1.32821490e+01\n",
        "   7.32797465e+00   4.47339220e+01   3.09389058e+01   4.49580493e+00\n",
        "   9.40045860e+00   1.69727439e+01   7.13705434e+01   5.25772938e+00\n",
        "   6.33013036e+01   2.90503106e+00   4.97845871e-01   5.03267735e+01\n",
        "   8.63585586e+01   2.40386628e+01   7.42432527e-02   4.91542434e+00\n",
        "   2.80929787e+00   5.41594855e+01   4.16925691e+01   7.50957439e-01\n",
        "   2.17196088e+00   1.07220320e-01   2.21198739e+01   7.38931786e+00\n",
        "   7.02861832e+00   3.53530764e+01   6.62212005e+01   1.84479332e+01\n",
        "   4.19964880e+01   1.26761378e+01   1.13189720e-01   1.37888860e+00\n",
        "   8.60059394e+01   1.83295962e+01   3.56008585e+00   5.21295654e+01\n",
        "   2.78819001e-03   2.46566337e+01   1.69147771e+00   1.91411974e+01\n",
        "   1.38595974e+00   2.91580020e-03   2.81384544e+00   2.37848333e+01\n",
        "   2.51193752e-01   3.67124688e+00   4.75718228e+01   1.29664138e+00\n",
        "   4.50507955e+01   5.38417805e+01   1.44055387e+01   2.39565411e-02\n",
        "   8.51878075e+01   5.61781212e+01   2.68462880e+01   4.26119369e+01\n",
        "   2.06582551e+00   2.64855180e+01   2.09435177e+01   9.47420664e-01\n",
        "   6.05647329e+00   4.83696427e+01   4.22963984e+01   1.12070821e+01\n",
        "   7.35370038e+00   3.90916556e+01   5.46722914e+01   2.05506916e+01\n",
        "   6.71803091e+01   2.18423751e+01   9.11059696e-01   3.15374270e+01\n",
        "   5.74096547e+01   1.65334238e-01   1.38813180e+01   3.40141345e+01\n",
        "   4.38472507e+00   1.89010791e+01   4.50264131e-01   5.44607047e+00\n",
        "   1.88182834e+00   8.11840178e+00   7.15574767e-01   1.71813880e+01\n",
        "   5.21579614e+00   3.62017975e+00   8.42788147e+01   1.60219600e+01\n",
        "   4.74583767e+01   1.64022349e+01   7.58375054e+00   1.92701766e+00\n",
        "   6.64712868e+01   8.79910165e+00   6.63387120e+00   2.57444159e+01\n",
        "   9.79440290e-01   4.75173444e+01   1.50472292e+01   3.60361628e-01\n",
        "   8.34030677e+00   4.67290402e+01   2.98977835e+01   2.12004691e-02\n",
        "   2.24981336e+01   3.37223907e+01   7.32528131e+01   1.39999274e+01\n",
        "   5.69848779e+01   2.11729080e+01   9.51765791e-01   2.95722643e+01\n",
        "   9.44179278e+01   3.36015699e+00   1.57944818e+01   1.11014810e+01\n",
        "   2.31391323e-01   2.04906128e+01   8.40790452e+00   2.03274422e-02\n",
        "   2.58947107e+00   6.13788907e-01   8.57255192e+00   1.83888747e+00\n",
        "   3.12295719e-01   9.14497449e+00   6.26253685e+01   3.16396218e+00\n",
        "   5.33317099e+01   9.58772632e+01   3.17806263e+01   2.47429186e+00\n",
        "   8.12227725e+01   2.64273987e+01   3.50718770e-03   3.81693917e+01\n",
        "   4.31987462e-01   4.14543226e+01   5.49240127e+00   8.54940117e-01\n",
        "   1.04813460e+01   1.05897308e+01   3.65305774e+01   1.17938320e+01\n",
        "   1.35294300e+01   3.06637920e-01   6.43673936e+01   7.85890555e-01\n",
        "   4.44584275e+01   4.83955439e+01   2.07992280e+01   1.96580739e+01\n",
        "   7.03921485e+01   2.90201644e+01   1.24205232e+01   5.35508116e+01\n",
        "   2.81215399e-02   1.02618938e+01   1.53917587e+01   4.48410967e-01\n",
        "   3.58566988e+00   1.58827187e+01   1.16131934e+01   1.00752632e+01\n",
        "   1.43401560e+00   1.86272593e+01   5.58077870e+01   8.17574083e+00\n",
        "   4.19447202e+01   8.46056712e+00   1.17715450e+00   1.71732867e+01\n",
        "   7.89856561e+01   2.28512053e+01   1.79098297e+00   2.71809169e+01\n",
        "   3.20756288e-02   2.95413688e+01   1.02859787e+00   2.04157915e+01\n",
        "   4.12209287e+00   1.61116177e+01   9.38999746e+00   2.43838357e+01\n",
        "   1.24897820e+01   1.90698907e+01   7.36473754e+01   3.06120979e+00\n",
        "   4.56494352e+01   3.76337788e+01   1.70680753e+01   6.59321657e+00\n",
        "   9.60944710e+01   9.91313723e+00   1.59569472e+01   3.21848674e+01\n",
        "   9.00812400e-01   4.93903328e+01   3.03042659e+00   2.17009534e+01\n",
        "   2.71209419e+00   2.70847575e+01   3.92649295e+01   8.41188643e+00\n",
        "   2.30496761e+01   7.39487911e+00   5.64912007e+01   3.13878515e+00\n",
        "   4.99316197e+01   5.54002062e+01   1.74530310e+01   2.03404026e+01\n",
        "   7.88095044e+01   8.53758200e+00   4.15671910e-02   2.15907648e+01\n",
        "   1.85147094e+00   3.37042064e+01   3.04867477e+01   1.27174369e+01\n",
        "   1.20438480e+00   4.25203993e+01   3.82159768e+01   1.17899382e+01\n",
        "   1.28581762e+01   7.64780046e+00   4.05174231e+01   1.01033265e+01\n",
        "   3.94311586e+01   5.28263254e+01   1.66674189e+01   2.77356292e+01\n",
        "   5.73150539e+01   2.53686858e+01   4.09080022e+00   5.60628494e+01\n",
        "   9.04905247e+00   9.11477739e+00   2.02607222e+01   2.94774391e+01\n",
        "   8.38167680e+00   6.81704703e+01   5.14085277e+01   2.14378668e+01\n",
        "   1.89308452e+01   2.98113585e+01   7.13953774e+01   3.85445037e+01\n",
        "   5.43346978e+01   1.68266108e+00   5.15484679e-03   4.99482975e+01\n",
        "   6.61354307e+01   3.02077334e+01   5.46036581e+00   3.23342597e+01\n",
        "   2.53421887e-01   3.50232098e+01   1.55776682e+01   2.47201564e+01\n",
        "   1.49638629e+01   1.82956659e+01   2.16034896e+01   8.25451436e+00\n",
        "   2.43908730e+01   2.98755497e+01   6.79287221e+01   1.25014273e+01\n",
        "   3.99698295e+01   9.33731712e+00   1.99465011e+00   1.23607276e+01\n",
        "   7.48787570e+01   3.08481542e+01   1.72146154e+00   1.14896621e+01\n",
        "   2.83691854e-01   3.72080712e+01   1.29819789e+01   2.94375903e+00\n",
        "   8.76698418e+00   1.31175660e+00   4.30148918e+00   1.08705082e+01\n",
        "   3.05073996e-01   9.72729372e+00   4.15888727e+01   1.12173056e+01\n",
        "   5.92690436e+01   5.31556618e+01   8.76987699e+00   8.63963124e-01\n",
        "   8.21398266e+01   3.62786447e+01   1.31439833e+00   4.53808908e+01\n",
        "   3.93408708e+00   6.98667139e+00   7.97732892e-01   8.17984427e-01\n",
        "   3.11255472e-01   2.75545048e+01   3.26492918e+01   3.95522639e+01\n",
        "   2.09523663e+01   2.97366384e+01   4.28394036e+01   1.73175600e+01\n",
        "   4.10357014e+01   5.24928249e+01   1.20318560e-01   5.16447257e+00\n",
        "   8.01929116e+01   3.50115224e+01   8.64563799e+00   4.03995788e+01\n",
        "   9.90219477e-01   4.38783438e+01   2.64635950e+01   1.32821490e+01\n",
        "   7.32797465e+00   4.47339220e+01   3.09389058e+01   4.49580493e+00\n",
        "   9.40045860e+00   1.69727439e+01   7.13705434e+01   5.25772938e+00\n",
        "   6.33013036e+01   2.90503106e+00   4.97845871e-01   5.03267735e+01\n",
        "   8.63585586e+01   2.40386628e+01   7.42432527e-02   4.91542434e+00\n",
        "   2.80929787e+00   5.41594855e+01   4.16925691e+01   7.50957439e-01\n",
        "   2.17196088e+00   1.07220320e-01   2.21198739e+01   7.38931786e+00\n",
        "   7.02861832e+00   3.53530764e+01   6.62212005e+01   1.84479332e+01\n",
        "   4.19964880e+01   1.26761378e+01   1.13189720e-01   1.37888860e+00\n",
        "   8.60059394e+01   1.83295962e+01   3.56008585e+00   5.21295654e+01\n",
        "   2.78819001e-03   2.46566337e+01   1.69147771e+00   1.91411974e+01\n",
        "   1.38595974e+00   2.91580020e-03   2.81384544e+00   2.37848333e+01\n",
        "   2.51193752e-01   3.67124688e+00   4.75718228e+01   1.29664138e+00\n",
        "   4.50507955e+01   5.38417805e+01   1.44055387e+01   2.39565411e-02\n",
        "   8.51878075e+01   5.61781212e+01   2.68462880e+01   4.26119369e+01\n",
        "   2.06582551e+00   2.64855180e+01   2.09435177e+01   9.47420664e-01\n",
        "   6.05647329e+00   4.83696427e+01   4.22963984e+01   1.12070821e+01\n",
        "   7.35370038e+00   3.90916556e+01   5.46722914e+01   2.05506916e+01\n",
        "   6.71803091e+01   2.18423751e+01   9.11059696e-01   3.15374270e+01\n",
        "   1.50887549e+02   1.42443841e+01]\n"
       ]
      }
     ],
     "prompt_number": 12
    },
    {
     "cell_type": "code",
     "collapsed": false,
     "input": [
      "import sys\n",
      "sys.path.append('/Users/Ryan/PythonProjects/Kaggle/HIVresponse/kaggle-hiv/')\n",
      "import csv\n",
      "from Bio.Seq import Seq\n",
      "import MatrixRep\n",
      "from MatFeatExtract import *\n",
      "from sklearn.svm import SVC\n",
      "from sklearn.ensemble import RandomForestClassifier\n",
      "from sklearn import cross_validation\n",
      "from random import shuffle\n",
      "from sklearn.preprocessing import StandardScaler\n",
      "from sklearn.feature_selection import f_classif\n",
      "import matplotlib.pyplot as plt\n",
      "from sklearn.feature_selection import SelectKBest\n",
      "\n",
      "database='databases/uniprot_sprot.fasta'\n",
      "\n",
      "data=[]\n",
      "with open('kaggle-hiv/training_data.csv', 'rb') as csvfile:\n",
      "    reader = csv.reader(csvfile, delimiter=',')\n",
      "    reader.next()\n",
      "    for row in reader:\n",
      "        data.append((int(row[0]),int(row[1]),row[2],row[3],float(row[4]),int(row[5])))\n",
      "\n",
      "shuffle(data)\t\n",
      "\n",
      "#Run through data, create representations, extract features, and aggregate\n",
      "for d in data:\n",
      "    #Load and translate data\n",
      "    protease=Seq(d[2])\n",
      "    RT = Seq(d[3])\n",
      "    RTaas = RT.translate()\n",
      "    proaas=protease.translate()\n",
      "\n",
      "    #Create a representation of the protein\n",
      "    #PROoutput=MatrixRep.PSSM(proaas.tostring(),database=database)\n",
      "    #RToutput=MatrixRep.PSSM(RTaas.tostring(),database=database)\n",
      "\n",
      "    PROoutput=MatrixRep.SMR(proaas.tostring())\n",
      "    RToutput=MatrixRep.SMR(RTaas.tostring())\n",
      "\n",
      "    PROmat=PROoutput['SMR'].astype(float)\n",
      "    RTmat=RToutput['SMR'].astype(float)\n",
      "\n",
      "\n",
      "    ## Run a feature extraction method on mat\n",
      "    RTfeature=PseudoPSSM(RTmat)\n",
      "    PROfeature=PseudoPSSM(RTmat)\n",
      "\n",
      "\n",
      "    ## Aggregate Features\n",
      "    if d==data[0]:\n",
      "        RTfeatures=RTfeature.copy()\n",
      "        PROfeatures=PROfeature.copy()\n",
      "\n",
      "    else:\n",
      "        RTfeatures=np.vstack((RTfeatures,RTfeature))\n",
      "        PROfeatures=np.vstack((PROfeatures,PROfeature))\n",
      "\n",
      "VL = np.array([x[4] for x in data])\n",
      "CD4 = np.array([x[5] for x in data])\n",
      "X = np.concatenate((RTfeatures, PROfeatures, np.reshape(VL,(len(data),1)), np.reshape(CD4,(len(data),1))), axis=1)\n",
      "X = StandardScaler().fit_transform(X)\n",
      "y = np.array([x[1] for x in data])\n",
      "\n",
      "numFeatures = [10, 50, 100, 250, 500]\n",
      "\n",
      "FinalRF =[]\n",
      "FinalRFSum=[]\n",
      "FinalSVM = []\n",
      "FinalSVMSum = []\n",
      "\n",
      "for f in numFeatures:\n",
      "    Xnew = SelectKBest(f_classif, f).fit_transform(X,y)\n",
      "    print np.shape(X)\n",
      "    print np.shape(Xnew)\n",
      "\n",
      "\n",
      "    #Do Machine Learning\n",
      "\n",
      "    cfr = RandomForestClassifier(n_estimators=200)\n",
      "    SVec = SVC(C=100)\n",
      "\n",
      "    #Simple K-Fold cross validation. 4 folds.\n",
      "    cv = cross_validation.KFold(len(Xnew), 5, indices=False)\n",
      "\n",
      "    RFresults = []\n",
      "    SVMresults = []\n",
      "    for traincv, testcv in cv:\n",
      "        RFfit = cfr.fit(Xnew[traincv], y[traincv])\n",
      "        RFscore = RFfit.score(Xnew[testcv], y[testcv])\n",
      "        RFpredicts = RFfit.predict(Xnew[testcv])\n",
      "\n",
      "        RFresults.append( RFscore )\n",
      "\n",
      "        SVMfit = SVec.fit(Xnew[traincv], y[traincv])\n",
      "        SVMscore = SVMfit.score(Xnew[testcv], y[testcv])\n",
      "        SVMpredicts = SVMfit.predict(Xnew[testcv])\n",
      "\n",
      "        SVMresults.append(SVMscore)\n",
      "        \n",
      "    FinalRF.append(np.array(RFresults).mean())\n",
      "    FinalRFSum.append(RFpredicts.sum())\n",
      "    FinalSVM.append(np.array(SVMresults).mean())\n",
      "    FinalSVMSum.append(SVMpredicts.sum())\n",
      "\n",
      "    #print \"RF: \" + str(np.array(RFresults).mean())\n",
      "    #print \"RF sum \" + str(RFpredicts.sum())\n",
      "    #print \"SCV: \" + str(np.array(SVMresults).mean())\n",
      "    #print \"SVM sum \" + str(SVMpredicts.sum())\n",
      "    #print \"SVC\" +str(SVMpredicts)\n",
      "    \n",
      "print \"RF: \" + str(FinalRF)\n",
      "print \"RF sum \" + str(FinalRFSum)\n",
      "print \"SCV: \" + str(FinalSVM)\n",
      "print \"SVM sum \" + str(FinalSVMSum)"
     ],
     "language": "python",
     "metadata": {},
     "outputs": [
      {
       "output_type": "stream",
       "stream": "stdout",
       "text": [
        "(1000, 642)\n",
        "(1000, 10)\n",
        "(1000, 642)"
       ]
      },
      {
       "output_type": "stream",
       "stream": "stderr",
       "text": [
        "/Users/Ryan/anaconda/lib/python2.7/site-packages/sklearn/cross_validation.py:65: DeprecationWarning: The indices parameter is deprecated and will be removed (assumed True) in 0.17\n",
        "  stacklevel=1)\n",
        "/Users/Ryan/anaconda/lib/python2.7/site-packages/sklearn/cross_validation.py:65: DeprecationWarning: The indices parameter is deprecated and will be removed (assumed True) in 0.17\n",
        "  stacklevel=1)\n"
       ]
      },
      {
       "output_type": "stream",
       "stream": "stdout",
       "text": [
        "\n",
        "(1000, 50)\n",
        "(1000, 642)"
       ]
      },
      {
       "output_type": "stream",
       "stream": "stdout",
       "text": [
        "\n",
        "(1000, 100)\n",
        "(1000, 642)"
       ]
      },
      {
       "output_type": "stream",
       "stream": "stderr",
       "text": [
        "/Users/Ryan/anaconda/lib/python2.7/site-packages/sklearn/cross_validation.py:65: DeprecationWarning: The indices parameter is deprecated and will be removed (assumed True) in 0.17\n",
        "  stacklevel=1)\n",
        "/Users/Ryan/anaconda/lib/python2.7/site-packages/sklearn/cross_validation.py:65: DeprecationWarning: The indices parameter is deprecated and will be removed (assumed True) in 0.17\n",
        "  stacklevel=1)\n"
       ]
      },
      {
       "output_type": "stream",
       "stream": "stdout",
       "text": [
        "\n",
        "(1000, 250)\n",
        "(1000, 642)"
       ]
      },
      {
       "output_type": "stream",
       "stream": "stdout",
       "text": [
        "\n",
        "(1000, 500)\n",
        "RF: [0.77900000000000014, 0.79900000000000004, 0.79300000000000015, 0.79400000000000015, 0.80199999999999994]"
       ]
      },
      {
       "output_type": "stream",
       "stream": "stdout",
       "text": [
        "\n",
        "RF sum [17, 17, 17, 18, 17]\n",
        "SCV: [0.79600000000000004, 0.75100000000000011, 0.72799999999999998, 0.75600000000000001, 0.76400000000000001]\n",
        "SVM sum [21, 25, 36, 35, 35]\n"
       ]
      },
      {
       "output_type": "stream",
       "stream": "stderr",
       "text": [
        "/Users/Ryan/anaconda/lib/python2.7/site-packages/sklearn/cross_validation.py:65: DeprecationWarning: The indices parameter is deprecated and will be removed (assumed True) in 0.17\n",
        "  stacklevel=1)\n"
       ]
      }
     ],
     "prompt_number": 22
    },
    {
     "cell_type": "code",
     "collapsed": false,
     "input": [
      "from sklearn.metrics import precision_recall_fscore_support\n",
      "import sys\n",
      "sys.path.append('/Users/Ryan/PythonProjects/Kaggle/HIVresponse/kaggle-hiv/')\n",
      "import csv\n",
      "from Bio.Seq import Seq\n",
      "import MatrixRep\n",
      "from MatFeatExtract import *\n",
      "from sklearn.svm import SVC\n",
      "from sklearn.ensemble import RandomForestClassifier\n",
      "from sklearn import cross_validation\n",
      "from random import shuffle\n",
      "from sklearn.preprocessing import StandardScaler\n",
      "from sklearn.feature_selection import f_classif\n",
      "import matplotlib.pyplot as plt\n",
      "from sklearn.feature_selection import SelectKBest\n",
      "\n",
      "database='databases/uniprot_sprot.fasta'\n",
      "\n",
      "data=[]\n",
      "with open('kaggle-hiv/training_data.csv', 'rb') as csvfile:\n",
      "    reader = csv.reader(csvfile, delimiter=',')\n",
      "    reader.next()\n",
      "    for row in reader:\n",
      "        data.append((int(row[0]),int(row[1]),row[2],row[3],float(row[4]),int(row[5])))\n",
      "\n",
      "shuffle(data)\t\n",
      "\n",
      "#Run through data, create representations, extract features, and aggregate\n",
      "for d in data:\n",
      "    #Load and translate data\n",
      "    protease=Seq(d[2])\n",
      "    RT = Seq(d[3])\n",
      "    RTaas = RT.translate()\n",
      "    proaas=protease.translate()\n",
      "\n",
      "    #Create a representation of the protein\n",
      "    #PROoutput=MatrixRep.PSSM(proaas.tostring(),database=database)\n",
      "    #RToutput=MatrixRep.PSSM(RTaas.tostring(),database=database)\n",
      "\n",
      "    PROoutput=MatrixRep.SMR(proaas.tostring())\n",
      "    RToutput=MatrixRep.SMR(RTaas.tostring())\n",
      "\n",
      "    PROmat=PROoutput['SMR'].astype(float)\n",
      "    RTmat=RToutput['SMR'].astype(float)\n",
      "\n",
      "\n",
      "    ## Run a feature extraction method on mat\n",
      "    RTfeature=PseudoPSSM(RTmat)\n",
      "    PROfeature=PseudoPSSM(RTmat)\n",
      "\n",
      "\n",
      "    ## Aggregate Features\n",
      "    if d==data[0]:\n",
      "        RTfeatures=RTfeature.copy()\n",
      "        PROfeatures=PROfeature.copy()\n",
      "\n",
      "    else:\n",
      "        RTfeatures=np.vstack((RTfeatures,RTfeature))\n",
      "        PROfeatures=np.vstack((PROfeatures,PROfeature))\n",
      "\n",
      "VL = np.array([x[4] for x in data])\n",
      "CD4 = np.array([x[5] for x in data])\n",
      "X = np.concatenate((RTfeatures, PROfeatures, np.reshape(VL,(len(data),1)), np.reshape(CD4,(len(data),1))), axis=1)\n",
      "X = StandardScaler().fit_transform(X)\n",
      "y = np.array([x[1] for x in data])\n",
      "\n",
      "numFeatures = [10, 50, 100, 250, 500]\n",
      "\n",
      "FinalRF =[]\n",
      "FinalRFp = []\n",
      "FinalRFr = []\n",
      "FinalSVM = []\n",
      "FinalSVMp = []\n",
      "FinalSVMr = []\n",
      "\n",
      "for f in numFeatures:\n",
      "    Xnew = SelectKBest(f_classif, f).fit_transform(X,y)\n",
      "\n",
      "\n",
      "    #Do Machine Learning\n",
      "\n",
      "    cfr = RandomForestClassifier(n_estimators=200)\n",
      "    SVec = SVC(C=100)\n",
      "\n",
      "    #Simple K-Fold cross validation. 4 folds.\n",
      "    cv = cross_validation.KFold(len(Xnew), 5, indices=False)\n",
      "\n",
      "    RFresults = []\n",
      "    SVMresults = []\n",
      "    RFp = []\n",
      "    RFr = []\n",
      "    SVMp = []\n",
      "    SVMr = []\n",
      "    for traincv, testcv in cv:\n",
      "        RFfit = cfr.fit(Xnew[traincv], y[traincv])\n",
      "        SVMfit = SVec.fit(Xnew[traincv], y[traincv])\n",
      "        \n",
      "        #get simple score for each fold\n",
      "        RFscore = RFfit.score(Xnew[testcv], y[testcv])\n",
      "        RFresults.append( RFscore )        \n",
      "        \n",
      "        SVMscore = SVMfit.score(Xnew[testcv], y[testcv])\n",
      "        SVMresults.append(SVMscore)\n",
      "        \n",
      "        #get actual predictions out for sensitivity/specificity tests\n",
      "        RFpredicts = RFfit.predict(Xnew[testcv])\n",
      "        SVMpredicts = SVMfit.predict(Xnew[testcv])\n",
      "        RFpr = precision_recall_fscore_support(y[testcv],RFpredicts)\n",
      "        SVMpr = precision_recall_fscore_support(y[testcv],SVMpredicts)\n",
      "        RFp.append(RFpr[0][1])\n",
      "        RFr.append(RFpr[1][1])\n",
      "        SVMp.append(SVMpr[0][1])\n",
      "        SVMr.append(SVMpr[1][1])\n",
      "\n",
      "        \n",
      "    FinalRF.append(np.array(RFresults).mean())\n",
      "    FinalSVM.append(np.array(SVMresults).mean())\n",
      "    FinalRFp.append(np.array(RFp).mean())\n",
      "    FinalRFr.append(np.array(RFr).mean())\n",
      "    FinalSVMp.append(np.array(SVMp).mean())\n",
      "    FinalSVMr.append(np.array(SVMr).mean())\n",
      "\n",
      "    #print \"RF: \" + str(np.array(RFresults).mean())\n",
      "    #print \"RF sum \" + str(RFpredicts.sum())\n",
      "    #print \"SCV: \" + str(np.array(SVMresults).mean())\n",
      "    #print \"SVM sum \" + str(SVMpredicts.sum())\n",
      "    #print \"SVC\" +str(SVMpredicts)\n",
      "    \n",
      "print \"RF score: \" + str(FinalRF)\n",
      "print \"RF specificity: \" + str(FinalRFp)\n",
      "print \"RF sensitivity: \" + str(FinalRFr)\n",
      "print \"SVM score: \" + str(FinalSVM)\n",
      "print \"SVM specificity: \" + str(FinalSVMp)\n",
      "print \"SVM sensitivity: \" + str(FinalSVMr)\n"
     ],
     "language": "python",
     "metadata": {},
     "outputs": [
      {
       "output_type": "stream",
       "stream": "stderr",
       "text": [
        "/Users/Ryan/anaconda/lib/python2.7/site-packages/sklearn/cross_validation.py:65: DeprecationWarning: The indices parameter is deprecated and will be removed (assumed True) in 0.17\n",
        "  stacklevel=1)\n",
        "/Users/Ryan/anaconda/lib/python2.7/site-packages/sklearn/cross_validation.py:65: DeprecationWarning: The indices parameter is deprecated and will be removed (assumed True) in 0.17\n",
        "  stacklevel=1)\n"
       ]
      },
      {
       "output_type": "stream",
       "stream": "stderr",
       "text": [
        "/Users/Ryan/anaconda/lib/python2.7/site-packages/sklearn/cross_validation.py:65: DeprecationWarning: The indices parameter is deprecated and will be removed (assumed True) in 0.17\n",
        "  stacklevel=1)\n",
        "/Users/Ryan/anaconda/lib/python2.7/site-packages/sklearn/cross_validation.py:65: DeprecationWarning: The indices parameter is deprecated and will be removed (assumed True) in 0.17\n",
        "  stacklevel=1)\n"
       ]
      },
      {
       "output_type": "stream",
       "stream": "stdout",
       "text": [
        "RF score: [0.77300000000000002, 0.78400000000000003, 0.79200000000000004, 0.79099999999999993, 0.79800000000000004]\n",
        "RF specificity: [0.38340546921109586, 0.44725490196078432, 0.49714975845410631, 0.49784632034632026, 0.54469696969696968]\n",
        "RF sensitivity: [0.18502601263470828, 0.18875510962467484, 0.20387402452619843, 0.17675027870680043, 0.20681345224823486]\n",
        "SVM score: [0.77900000000000003, 0.73399999999999999, 0.72199999999999998, 0.747, 0.754]\n",
        "SVM specificity: [0.44050793650793646, 0.30836011477761838, 0.31545916782225858, 0.36701970443349757, 0.37709598328500765]\n",
        "SVM sensitivity: [0.24643626904496471, 0.22900222965440359, 0.28772946859903381, 0.29743218134522487, 0.29684318097361573]\n"
       ]
      },
      {
       "output_type": "stream",
       "stream": "stderr",
       "text": [
        "/Users/Ryan/anaconda/lib/python2.7/site-packages/sklearn/cross_validation.py:65: DeprecationWarning: The indices parameter is deprecated and will be removed (assumed True) in 0.17\n",
        "  stacklevel=1)\n"
       ]
      }
     ],
     "prompt_number": 26
    },
    {
     "cell_type": "code",
     "collapsed": false,
     "input": [
      "from sklearn.metrics import precision_recall_fscore_support\n",
      "import sys\n",
      "sys.path.append('/Users/Ryan/PythonProjects/Kaggle/HIVresponse/kaggle-hiv/')\n",
      "import csv\n",
      "from Bio.Seq import Seq\n",
      "import MatrixRep\n",
      "from MatFeatExtract import *\n",
      "from sklearn.svm import SVC\n",
      "from sklearn.ensemble import RandomForestClassifier\n",
      "from sklearn import cross_validation\n",
      "from random import shuffle\n",
      "from sklearn.preprocessing import StandardScaler\n",
      "from sklearn.feature_selection import f_classif\n",
      "import matplotlib.pyplot as plt\n",
      "from sklearn.feature_selection import SelectKBest\n",
      "\n",
      "database='databases/uniprot_sprot.fasta'\n",
      "\n",
      "data=[]\n",
      "with open('kaggle-hiv/training_data.csv', 'rb') as csvfile:\n",
      "    reader = csv.reader(csvfile, delimiter=',')\n",
      "    reader.next()\n",
      "    for row in reader:\n",
      "        data.append((int(row[0]),int(row[1]),row[2],row[3],float(row[4]),int(row[5])))\n",
      "\n",
      "shuffle(data)\t\n",
      "\n",
      "#Run through data, create representations, extract features, and aggregate\n",
      "for d in data:\n",
      "    #Load and translate data\n",
      "    protease=Seq(d[2])\n",
      "    RT = Seq(d[3])\n",
      "    RTaas = RT.translate()\n",
      "    proaas=protease.translate()\n",
      "\n",
      "    #Create a representation of the protein\n",
      "    #PROoutput=MatrixRep.PSSM(proaas.tostring(),database=database)\n",
      "    #RToutput=MatrixRep.PSSM(RTaas.tostring(),database=database)\n",
      "\n",
      "    PROoutput=MatrixRep.SMR(proaas.tostring())\n",
      "    RToutput=MatrixRep.SMR(RTaas.tostring())\n",
      "\n",
      "    PROmat=PROoutput['SMR'].astype(float)\n",
      "    RTmat=RToutput['SMR'].astype(float)\n",
      "\n",
      "\n",
      "    ## Run a feature extraction method on mat\n",
      "    RTfeature=PseudoPSSM(RTmat)\n",
      "    PROfeature=PseudoPSSM(RTmat)\n",
      "\n",
      "\n",
      "    ## Aggregate Features\n",
      "    if d==data[0]:\n",
      "        RTfeatures=RTfeature.copy()\n",
      "        PROfeatures=PROfeature.copy()\n",
      "\n",
      "    else:\n",
      "        RTfeatures=np.vstack((RTfeatures,RTfeature))\n",
      "        PROfeatures=np.vstack((PROfeatures,PROfeature))\n",
      "\n",
      "VL = np.array([x[4] for x in data])\n",
      "CD4 = np.array([x[5] for x in data])\n",
      "X = np.concatenate((RTfeatures, PROfeatures, np.reshape(VL,(len(data),1)), np.reshape(CD4,(len(data),1))), axis=1)\n",
      "X = StandardScaler().fit_transform(X)\n",
      "y = np.array([x[1] for x in data])\n",
      "\n",
      "\n",
      "Cvec = [1, 10, 100, 1000, 10000]\n",
      "\n",
      "for Cs in Cvec:\n",
      "    numFeatures = [10, 50, 100, 250, 500]\n",
      "\n",
      "    FinalRF =[]\n",
      "    FinalRFp = []\n",
      "    FinalRFr = []\n",
      "    FinalSVM = []\n",
      "    FinalSVMp = []\n",
      "    FinalSVMr = []\n",
      "\n",
      "    for f in numFeatures:\n",
      "        Xnew = SelectKBest(f_classif, f).fit_transform(X,y)\n",
      "\n",
      "\n",
      "        #Do Machine Learning\n",
      "\n",
      "        #cfr = RandomForestClassifier(n_estimators=200)\n",
      "        SVec = SVC(C=Cs)\n",
      "\n",
      "        #Simple K-Fold cross validation. 4 folds.\n",
      "        cv = cross_validation.KFold(len(Xnew), 5, indices=False)\n",
      "\n",
      "        RFresults = []\n",
      "        SVMresults = []\n",
      "        RFp = []\n",
      "        RFr = []\n",
      "        SVMp = []\n",
      "        SVMr = []\n",
      "        for traincv, testcv in cv:\n",
      "            #RFfit = cfr.fit(Xnew[traincv], y[traincv])\n",
      "            SVMfit = SVec.fit(Xnew[traincv], y[traincv])\n",
      "\n",
      "            #get simple score for each fold\n",
      "            #RFscore = RFfit.score(Xnew[testcv], y[testcv])\n",
      "            #RFresults.append( RFscore )        \n",
      "\n",
      "            SVMscore = SVMfit.score(Xnew[testcv], y[testcv])\n",
      "            SVMresults.append(SVMscore)\n",
      "\n",
      "            #get actual predictions out for sensitivity/specificity tests\n",
      "            #RFpredicts = RFfit.predict(Xnew[testcv])\n",
      "            SVMpredicts = SVMfit.predict(Xnew[testcv])\n",
      "            #RFpr = precision_recall_fscore_support(y[testcv],RFpredicts)\n",
      "            SVMpr = precision_recall_fscore_support(y[testcv],SVMpredicts)\n",
      "            #RFp.append(RFpr[0][1])\n",
      "            #RFr.append(RFpr[1][1])\n",
      "            SVMp.append(SVMpr[0][1])\n",
      "            SVMr.append(SVMpr[1][1])\n",
      "\n",
      "\n",
      "        #FinalRF.append(np.array(RFresults).mean())\n",
      "        FinalSVM.append(np.array(SVMresults).mean())\n",
      "        #FinalRFp.append(np.array(RFp).mean())\n",
      "        #FinalRFr.append(np.array(RFr).mean())\n",
      "        FinalSVMp.append(np.array(SVMp).mean())\n",
      "        FinalSVMr.append(np.array(SVMr).mean())\n",
      "\n",
      "        #print \"RF: \" + str(np.array(RFresults).mean())\n",
      "        #print \"RF sum \" + str(RFpredicts.sum())\n",
      "        #print \"SCV: \" + str(np.array(SVMresults).mean())\n",
      "        #print \"SVM sum \" + str(SVMpredicts.sum())\n",
      "        #print \"SVC\" +str(SVMpredicts)\n",
      "\n",
      "    #print \"RF score: \" + str(FinalRF)\n",
      "    #print \"RF specificity: \" + str(FinalRFp)\n",
      "    #print \"RF sensitivity: \" + str(FinalRFr)\n",
      "    print \"C= \" + str(Cs)\n",
      "    print \"SVM score: \" + str(FinalSVM)\n",
      "    print \"SVM specificity: \" + str(FinalSVMp)\n",
      "    print \"SVM sensitivity: \" + str(FinalSVMr)"
     ],
     "language": "python",
     "metadata": {},
     "outputs": [
      {
       "output_type": "stream",
       "stream": "stderr",
       "text": [
        "/Users/Ryan/anaconda/lib/python2.7/site-packages/sklearn/cross_validation.py:65: DeprecationWarning: The indices parameter is deprecated and will be removed (assumed True) in 0.17\n",
        "  stacklevel=1)\n",
        "/Users/Ryan/anaconda/lib/python2.7/site-packages/sklearn/cross_validation.py:65: DeprecationWarning: The indices parameter is deprecated and will be removed (assumed True) in 0.17\n",
        "  stacklevel=1)\n"
       ]
      },
      {
       "output_type": "stream",
       "stream": "stderr",
       "text": [
        "/Users/Ryan/anaconda/lib/python2.7/site-packages/sklearn/cross_validation.py:65: DeprecationWarning: The indices parameter is deprecated and will be removed (assumed True) in 0.17\n",
        "  stacklevel=1)\n",
        "/Users/Ryan/anaconda/lib/python2.7/site-packages/sklearn/cross_validation.py:65: DeprecationWarning: The indices parameter is deprecated and will be removed (assumed True) in 0.17\n",
        "  stacklevel=1)\n"
       ]
      },
      {
       "output_type": "stream",
       "stream": "stderr",
       "text": [
        "/Users/Ryan/anaconda/lib/python2.7/site-packages/sklearn/cross_validation.py:65: DeprecationWarning: The indices parameter is deprecated and will be removed (assumed True) in 0.17\n",
        "  stacklevel=1)\n",
        "/Users/Ryan/anaconda/lib/python2.7/site-packages/sklearn/cross_validation.py:65: DeprecationWarning: The indices parameter is deprecated and will be removed (assumed True) in 0.17\n",
        "  stacklevel=1)\n"
       ]
      },
      {
       "output_type": "stream",
       "stream": "stderr",
       "text": [
        "/Users/Ryan/anaconda/lib/python2.7/site-packages/sklearn/cross_validation.py:65: DeprecationWarning: The indices parameter is deprecated and will be removed (assumed True) in 0.17\n",
        "  stacklevel=1)\n",
        "/Users/Ryan/anaconda/lib/python2.7/site-packages/sklearn/cross_validation.py:65: DeprecationWarning: The indices parameter is deprecated and will be removed (assumed True) in 0.17\n",
        "  stacklevel=1)\n"
       ]
      },
      {
       "output_type": "stream",
       "stream": "stderr",
       "text": [
        "/Users/Ryan/anaconda/lib/python2.7/site-packages/sklearn/cross_validation.py:65: DeprecationWarning: The indices parameter is deprecated and will be removed (assumed True) in 0.17\n",
        "  stacklevel=1)\n",
        "/Users/Ryan/anaconda/lib/python2.7/site-packages/sklearn/cross_validation.py:65: DeprecationWarning: The indices parameter is deprecated and will be removed (assumed True) in 0.17\n",
        "  stacklevel=1)\n"
       ]
      },
      {
       "output_type": "stream",
       "stream": "stdout",
       "text": [
        "C= 1\n",
        "SVM score: [0.80000000000000004, 0.80000000000000004, 0.79900000000000004, 0.80299999999999994, 0.80099999999999993]\n",
        "SVM specificity: [0.57634886065739055, 0.57484510125889432, 0.56995332636711948, 0.57539243365330317, 0.58168746286393347]\n",
        "SVM sensitivity: [0.2830443563998658, 0.28758981094532032, 0.27508981094532031, 0.26527755453771118, 0.23388842383257505]\n",
        "C= 10"
       ]
      },
      {
       "output_type": "stream",
       "stream": "stderr",
       "text": [
        "/Users/Ryan/anaconda/lib/python2.7/site-packages/sklearn/cross_validation.py:65: DeprecationWarning: The indices parameter is deprecated and will be removed (assumed True) in 0.17\n",
        "  stacklevel=1)\n",
        "/Users/Ryan/anaconda/lib/python2.7/site-packages/sklearn/cross_validation.py:65: DeprecationWarning: The indices parameter is deprecated and will be removed (assumed True) in 0.17\n",
        "  stacklevel=1)\n"
       ]
      },
      {
       "output_type": "stream",
       "stream": "stderr",
       "text": [
        "/Users/Ryan/anaconda/lib/python2.7/site-packages/sklearn/cross_validation.py:65: DeprecationWarning: The indices parameter is deprecated and will be removed (assumed True) in 0.17\n",
        "  stacklevel=1)\n",
        "/Users/Ryan/anaconda/lib/python2.7/site-packages/sklearn/cross_validation.py:65: DeprecationWarning: The indices parameter is deprecated and will be removed (assumed True) in 0.17\n",
        "  stacklevel=1)\n"
       ]
      },
      {
       "output_type": "stream",
       "stream": "stdout",
       "text": [
        "\n",
        "SVM score: [0.78900000000000003, 0.79299999999999993, 0.77999999999999992, 0.76600000000000001, 0.76500000000000001]\n",
        "SVM specificity: [0.50254658385093165, 0.50946169772256722, 0.47629870129870122, 0.40428976688126522, 0.39993431855500827]\n",
        "SVM sensitivity: [0.2691568476886147, 0.24300502671450327, 0.2565511394433716, 0.28356965657139238, 0.24772216916604289]\n",
        "C= 100"
       ]
      },
      {
       "output_type": "stream",
       "stream": "stderr",
       "text": [
        "/Users/Ryan/anaconda/lib/python2.7/site-packages/sklearn/cross_validation.py:65: DeprecationWarning: The indices parameter is deprecated and will be removed (assumed True) in 0.17\n",
        "  stacklevel=1)\n",
        "/Users/Ryan/anaconda/lib/python2.7/site-packages/sklearn/cross_validation.py:65: DeprecationWarning: The indices parameter is deprecated and will be removed (assumed True) in 0.17\n",
        "  stacklevel=1)\n"
       ]
      },
      {
       "output_type": "stream",
       "stream": "stderr",
       "text": [
        "/Users/Ryan/anaconda/lib/python2.7/site-packages/sklearn/cross_validation.py:65: DeprecationWarning: The indices parameter is deprecated and will be removed (assumed True) in 0.17\n",
        "  stacklevel=1)\n",
        "/Users/Ryan/anaconda/lib/python2.7/site-packages/sklearn/cross_validation.py:65: DeprecationWarning: The indices parameter is deprecated and will be removed (assumed True) in 0.17\n",
        "  stacklevel=1)\n"
       ]
      },
      {
       "output_type": "stream",
       "stream": "stderr",
       "text": [
        "/Users/Ryan/anaconda/lib/python2.7/site-packages/sklearn/cross_validation.py:65: DeprecationWarning: The indices parameter is deprecated and will be removed (assumed True) in 0.17\n",
        "  stacklevel=1)\n",
        "/Users/Ryan/anaconda/lib/python2.7/site-packages/sklearn/cross_validation.py:65: DeprecationWarning: The indices parameter is deprecated and will be removed (assumed True) in 0.17\n",
        "  stacklevel=1)\n"
       ]
      },
      {
       "output_type": "stream",
       "stream": "stdout",
       "text": [
        "\n",
        "SVM score: [0.78700000000000003, 0.75900000000000001, 0.73499999999999999, 0.74700000000000011, 0.75800000000000001]\n",
        "SVM specificity: [0.48639964633068083, 0.38854835407254762, 0.36004345248247682, 0.36838540131643582, 0.38770959018098605]\n",
        "SVM sensitivity: [0.27379712874818446, 0.30780724611836036, 0.35098866833422104, 0.31027104896368374, 0.27549852114047579]\n",
        "C= 1000"
       ]
      },
      {
       "output_type": "stream",
       "stream": "stderr",
       "text": [
        "/Users/Ryan/anaconda/lib/python2.7/site-packages/sklearn/cross_validation.py:65: DeprecationWarning: The indices parameter is deprecated and will be removed (assumed True) in 0.17\n",
        "  stacklevel=1)\n",
        "/Users/Ryan/anaconda/lib/python2.7/site-packages/sklearn/cross_validation.py:65: DeprecationWarning: The indices parameter is deprecated and will be removed (assumed True) in 0.17\n",
        "  stacklevel=1)\n"
       ]
      },
      {
       "output_type": "stream",
       "stream": "stderr",
       "text": [
        "/Users/Ryan/anaconda/lib/python2.7/site-packages/sklearn/cross_validation.py:65: DeprecationWarning: The indices parameter is deprecated and will be removed (assumed True) in 0.17\n",
        "  stacklevel=1)\n",
        "/Users/Ryan/anaconda/lib/python2.7/site-packages/sklearn/cross_validation.py:65: DeprecationWarning: The indices parameter is deprecated and will be removed (assumed True) in 0.17\n",
        "  stacklevel=1)\n"
       ]
      },
      {
       "output_type": "stream",
       "stream": "stdout",
       "text": [
        "\n",
        "SVM score: [0.77100000000000002, 0.72899999999999987, 0.73199999999999998, 0.74700000000000011, 0.75800000000000001]\n",
        "SVM specificity: [0.43135757877693359, 0.3406299654493618, 0.35685444036507874, 0.36838540131643582, 0.38770959018098605]\n",
        "SVM sensitivity: [0.32837600575353199, 0.33467717335448277, 0.36064460618105787, 0.31027104896368374, 0.27549852114047579]\n",
        "C= 10000"
       ]
      },
      {
       "output_type": "stream",
       "stream": "stdout",
       "text": [
        "\n",
        "SVM score: [0.75399999999999989, 0.71700000000000008, 0.73199999999999998, 0.74700000000000011, 0.75800000000000001]\n",
        "SVM specificity: [0.39479412536060843, 0.3180010716275275, 0.35685444036507874, 0.36838540131643582, 0.38770959018098605]\n",
        "SVM sensitivity: [0.36496642795296746, 0.32247884075246436, 0.36064460618105787, 0.31027104896368374, 0.27549852114047579]\n"
       ]
      },
      {
       "output_type": "stream",
       "stream": "stderr",
       "text": [
        "/Users/Ryan/anaconda/lib/python2.7/site-packages/sklearn/cross_validation.py:65: DeprecationWarning: The indices parameter is deprecated and will be removed (assumed True) in 0.17\n",
        "  stacklevel=1)\n"
       ]
      }
     ],
     "prompt_number": 28
    },
    {
     "cell_type": "code",
     "collapsed": false,
     "input": [
      "from sklearn.metrics import precision_recall_fscore_support\n",
      "import sys\n",
      "sys.path.append('/Users/Ryan/PythonProjects/Kaggle/HIVresponse/kaggle-hiv/')\n",
      "import csv\n",
      "from Bio.Seq import Seq\n",
      "import MatrixRep\n",
      "from MatFeatExtract import *\n",
      "from sklearn.svm import SVC\n",
      "from sklearn.ensemble import RandomForestClassifier\n",
      "from sklearn import cross_validation\n",
      "from random import shuffle\n",
      "from sklearn.preprocessing import StandardScaler\n",
      "from sklearn.feature_selection import f_classif\n",
      "import matplotlib.pyplot as plt\n",
      "from sklearn.feature_selection import SelectKBest\n",
      "from sklearn.metrics import roc_curve\n",
      "from sklearn.metrics import precision_recall_curve\n",
      "from sklearn.metrics import roc_auc_score\n",
      "\n",
      "database='databases/uniprot_sprot.fasta'\n",
      "\n",
      "data=[]\n",
      "with open('kaggle-hiv/training_data.csv', 'rb') as csvfile:\n",
      "    reader = csv.reader(csvfile, delimiter=',')\n",
      "    reader.next()\n",
      "    for row in reader:\n",
      "        data.append((int(row[0]),int(row[1]),row[2],row[3],float(row[4]),int(row[5])))\n",
      "\n",
      "shuffle(data)\t\n",
      "\n",
      "#Run through data, create representations, extract features, and aggregate\n",
      "for d in data:\n",
      "    #Load and translate data\n",
      "    protease=Seq(d[2])\n",
      "    RT = Seq(d[3])\n",
      "    RTaas = RT.translate()\n",
      "    proaas=protease.translate()\n",
      "\n",
      "    #Create a representation of the protein\n",
      "    #PROoutput=MatrixRep.PSSM(proaas.tostring(),database=database)\n",
      "    #RToutput=MatrixRep.PSSM(RTaas.tostring(),database=database)\n",
      "\n",
      "    PROoutput=MatrixRep.SMR(proaas.tostring())\n",
      "    RToutput=MatrixRep.SMR(RTaas.tostring())\n",
      "\n",
      "    PROmat=PROoutput['SMR'].astype(float)\n",
      "    RTmat=RToutput['SMR'].astype(float)\n",
      "\n",
      "\n",
      "    ## Run a feature extraction method on mat\n",
      "    RTfeature=PseudoPSSM(RTmat)\n",
      "    PROfeature=PseudoPSSM(RTmat)\n",
      "\n",
      "\n",
      "    ## Aggregate Features\n",
      "    if d==data[0]:\n",
      "        RTfeatures=RTfeature.copy()\n",
      "        PROfeatures=PROfeature.copy()\n",
      "\n",
      "    else:\n",
      "        RTfeatures=np.vstack((RTfeatures,RTfeature))\n",
      "        PROfeatures=np.vstack((PROfeatures,PROfeature))\n",
      "\n",
      "VL = np.array([x[4] for x in data])\n",
      "CD4 = np.array([x[5] for x in data])\n",
      "X = np.concatenate((RTfeatures, PROfeatures, np.reshape(VL,(len(data),1)), np.reshape(CD4,(len(data),1))), axis=1)\n",
      "X = StandardScaler().fit_transform(X)\n",
      "y = np.array([x[1] for x in data])\n",
      "\n",
      "\n",
      "Cvec = [.5, .7, 1, 1.5, 2]\n",
      "\n",
      "for Cs in Cvec:\n",
      "    numFeatures = [100]\n",
      "\n",
      "    FinalRF =[]\n",
      "    FinalRFp = []\n",
      "    FinalRFr = []\n",
      "    FinalSVM = []\n",
      "    FinalSVMp = []\n",
      "    FinalSVMr = []\n",
      "\n",
      "    for f in numFeatures:\n",
      "        Xnew = SelectKBest(f_classif, f).fit_transform(X,y)\n",
      "\n",
      "\n",
      "        #Do Machine Learning\n",
      "\n",
      "        #cfr = RandomForestClassifier(n_estimators=200)\n",
      "        SVec = SVC(C=Cs, probability = True)\n",
      "\n",
      "        #Simple K-Fold cross validation. 4 folds.\n",
      "        cv = cross_validation.KFold(len(Xnew), 5, indices=False)\n",
      "\n",
      "        RFresults = []\n",
      "        SVMresults = []\n",
      "        RFp = []\n",
      "        RFr = []\n",
      "        SVMp = []\n",
      "        SVMr = []\n",
      "        for traincv, testcv in cv:\n",
      "            #RFfit = cfr.fit(Xnew[traincv], y[traincv])\n",
      "            SVMfit = SVec.fit(Xnew[traincv], y[traincv])\n",
      "\n",
      "            #get simple score for each fold\n",
      "            #RFscore = RFfit.score(Xnew[testcv], y[testcv])\n",
      "            #RFresults.append( RFscore )        \n",
      "\n",
      "            SVMscore = SVMfit.score(Xnew[testcv], y[testcv])\n",
      "            SVMresults.append(SVMscore)\n",
      "\n",
      "            #get actual predictions and probabilities out for sensitivity/specificity tests\n",
      "            \n",
      "            #RFpredicts = RFfit.predict(Xnew[testcv])\n",
      "            SVMpredicts = SVMfit.predict(Xnew[testcv])\n",
      "            SVMprobas = SVMfit.predict_proba(Xnew[testcv])\n",
      "            Oneprobas = [x[1] for x in SVMprobas]\n",
      "            fpr, tpr, thresh = roc_curve(y[testcv],Oneprobas, pos_label=1)\n",
      "            plt.figure()\n",
      "            plt.plot(fpr, tpr)\n",
      "            print \"AUC: \" + str(roc_auc_score(y[testcv], Oneprobas))\n",
      "            \n",
      "            \n",
      "            \n",
      "            #RFpr = precision_recall_fscore_support(y[testcv],RFpredicts)\n",
      "            SVMpr = precision_recall_fscore_support(y[testcv],SVMpredicts)\n",
      "            #RFp.append(RFpr[0][1])\n",
      "            #RFr.append(RFpr[1][1])\n",
      "            SVMp.append(SVMpr[0][1])\n",
      "            SVMr.append(SVMpr[1][1])\n",
      "\n",
      "\n",
      "        #FinalRF.append(np.array(RFresults).mean())\n",
      "        FinalSVM.append(np.array(SVMresults).mean())\n",
      "        #FinalRFp.append(np.array(RFp).mean())\n",
      "        #FinalRFr.append(np.array(RFr).mean())\n",
      "        FinalSVMp.append(np.array(SVMp).mean())\n",
      "        FinalSVMr.append(np.array(SVMr).mean())\n",
      "\n",
      "        #print \"RF: \" + str(np.array(RFresults).mean())\n",
      "        #print \"RF sum \" + str(RFpredicts.sum())\n",
      "        #print \"SCV: \" + str(np.array(SVMresults).mean())\n",
      "        #print \"SVM sum \" + str(SVMpredicts.sum())\n",
      "        #print \"SVC\" +str(SVMpredicts)\n",
      "\n",
      "    #print \"RF score: \" + str(FinalRF)\n",
      "    #print \"RF specificity: \" + str(FinalRFp)\n",
      "    #print \"RF sensitivity: \" + str(FinalRFr)\n",
      "    print \"C= \" + str(Cs)\n",
      "    print \"SVM score: \" + str(FinalSVM)\n",
      "    print \"SVM specificity: \" + str(FinalSVMp)\n",
      "    print \"SVM sensitivity: \" + str(FinalSVMr)"
     ],
     "language": "python",
     "metadata": {},
     "outputs": [
      {
       "output_type": "stream",
       "stream": "stdout",
       "text": [
        "AUC: 0.795497835498\n",
        "AUC: 0.794551971326"
       ]
      },
      {
       "output_type": "stream",
       "stream": "stdout",
       "text": [
        "\n",
        "AUC: 0.695428773919"
       ]
      },
      {
       "output_type": "stream",
       "stream": "stdout",
       "text": [
        "\n",
        "AUC: 0.697066666667"
       ]
      },
      {
       "output_type": "stream",
       "stream": "stdout",
       "text": [
        "\n",
        "AUC: 0.74095840868"
       ]
      },
      {
       "output_type": "stream",
       "stream": "stderr",
       "text": [
        "/Users/Ryan/anaconda/lib/python2.7/site-packages/sklearn/cross_validation.py:65: DeprecationWarning: The indices parameter is deprecated and will be removed (assumed True) in 0.17\n",
        "  stacklevel=1)\n",
        "/Users/Ryan/anaconda/lib/python2.7/site-packages/sklearn/cross_validation.py:65: DeprecationWarning: The indices parameter is deprecated and will be removed (assumed True) in 0.17\n",
        "  stacklevel=1)\n"
       ]
      },
      {
       "output_type": "stream",
       "stream": "stdout",
       "text": [
        "\n",
        "C= 0.5\n",
        "SVM score: [0.79800000000000004]\n",
        "SVM specificity: [0.52918954248366012]\n",
        "SVM sensitivity: [0.27408403361344535]\n",
        "AUC: 0.79619047619"
       ]
      },
      {
       "output_type": "stream",
       "stream": "stdout",
       "text": [
        "\n",
        "AUC: 0.791684587814"
       ]
      },
      {
       "output_type": "stream",
       "stream": "stdout",
       "text": [
        "\n",
        "AUC: 0.69578313253"
       ]
      },
      {
       "output_type": "stream",
       "stream": "stdout",
       "text": [
        "\n",
        "AUC: 0.704533333333"
       ]
      },
      {
       "output_type": "stream",
       "stream": "stdout",
       "text": [
        "\n",
        "AUC: 0.744725738397"
       ]
      },
      {
       "output_type": "stream",
       "stream": "stdout",
       "text": [
        "\n",
        "C= 0.7\n",
        "SVM score: [0.79599999999999993]\n",
        "SVM specificity: [0.52433239962651723]\n",
        "SVM sensitivity: [0.26519514472455652]\n",
        "AUC: 0.794978354978"
       ]
      },
      {
       "output_type": "stream",
       "stream": "stdout",
       "text": [
        "\n",
        "AUC: 0.783655913978"
       ]
      },
      {
       "output_type": "stream",
       "stream": "stdout",
       "text": [
        "\n",
        "AUC: 0.697023387668"
       ]
      },
      {
       "output_type": "stream",
       "stream": "stdout",
       "text": [
        "\n",
        "AUC: 0.7048"
       ]
      },
      {
       "output_type": "stream",
       "stream": "stdout",
       "text": [
        "\n",
        "AUC: 0.728149487643"
       ]
      },
      {
       "output_type": "stream",
       "stream": "stderr",
       "text": [
        "/Users/Ryan/anaconda/lib/python2.7/site-packages/sklearn/cross_validation.py:65: DeprecationWarning: The indices parameter is deprecated and will be removed (assumed True) in 0.17\n",
        "  stacklevel=1)\n",
        "/Users/Ryan/anaconda/lib/python2.7/site-packages/sklearn/cross_validation.py:65: DeprecationWarning: The indices parameter is deprecated and will be removed (assumed True) in 0.17\n",
        "  stacklevel=1)\n"
       ]
      },
      {
       "output_type": "stream",
       "stream": "stdout",
       "text": [
        "\n",
        "C= 1\n",
        "SVM score: [0.79499999999999993]\n",
        "SVM specificity: [0.5282539682539682]\n",
        "SVM sensitivity: [0.24805228758169934]\n",
        "AUC: 0.788744588745"
       ]
      },
      {
       "output_type": "stream",
       "stream": "stdout",
       "text": [
        "\n",
        "AUC: 0.777777777778"
       ]
      },
      {
       "output_type": "stream",
       "stream": "stdout",
       "text": [
        "\n",
        "AUC: 0.695605953225"
       ]
      },
      {
       "output_type": "stream",
       "stream": "stdout",
       "text": [
        "\n",
        "AUC: 0.7048"
       ]
      },
      {
       "output_type": "stream",
       "stream": "stdout",
       "text": [
        "\n",
        "AUC: 0.711723930078"
       ]
      },
      {
       "output_type": "stream",
       "stream": "stdout",
       "text": [
        "\n",
        "C= 1.5\n",
        "SVM score: [0.79499999999999993]\n",
        "SVM specificity: [0.52283333333333337]\n",
        "SVM sensitivity: [0.23757609710550884]\n",
        "AUC: 0.776623376623"
       ]
      },
      {
       "output_type": "stream",
       "stream": "stdout",
       "text": [
        "\n",
        "AUC: 0.77247311828"
       ]
      },
      {
       "output_type": "stream",
       "stream": "stdout",
       "text": [
        "\n",
        "AUC: 0.696314670446"
       ]
      },
      {
       "output_type": "stream",
       "stream": "stdout",
       "text": [
        "\n",
        "AUC: 0.703866666667"
       ]
      },
      {
       "output_type": "stream",
       "stream": "stdout",
       "text": [
        "\n",
        "AUC: 0.705696202532"
       ]
      },
      {
       "output_type": "stream",
       "stream": "stdout",
       "text": [
        "\n",
        "C= 2\n",
        "SVM score: [0.79200000000000004]\n",
        "SVM specificity: [0.50275757575757574]\n",
        "SVM sensitivity: [0.22709990662931839]\n"
       ]
      },
      {
       "output_type": "stream",
       "stream": "stderr",
       "text": [
        "/Users/Ryan/anaconda/lib/python2.7/site-packages/sklearn/cross_validation.py:65: DeprecationWarning: The indices parameter is deprecated and will be removed (assumed True) in 0.17\n",
        "  stacklevel=1)\n"
       ]
      },
      {
       "metadata": {},
       "output_type": "display_data",
       "png": "[encoded data removed]",
       "text": [
        "<matplotlib.figure.Figure at 0x10a31f8d0>"
       ]
      },
      {
       "metadata": {},
       "output_type": "display_data",
       "png": "[encoded data removed]",
       "text": [
        "<matplotlib.figure.Figure at 0x10bab3f50>"
       ]
      },
      {
       "metadata": {},
       "output_type": "display_data",
       "png": "[encoded data removed]",
       "text": [
        "<matplotlib.figure.Figure at 0x1090a56d0>"
       ]
      },
      {
       "metadata": {},
       "output_type": "display_data",
       "png": "[encoded data removed]",
       "text": [
        "<matplotlib.figure.Figure at 0x10965c990>"
       ]
      },
      {
       "metadata": {},
       "output_type": "display_data",
       "png": "[encoded data removed]",
       "text": [
        "<matplotlib.figure.Figure at 0x10ca0ed50>"
       ]
      },
      {
       "metadata": {},
       "output_type": "display_data",
       "png": "[encoded data removed]",
       "text": [
        "<matplotlib.figure.Figure at 0x109e0d710>"
       ]
      },
      {
       "metadata": {},
       "output_type": "display_data",
       "png": "[encoded data removed]",
       "text": [
        "<matplotlib.figure.Figure at 0x10a7687d0>"
       ]
      },
      {
       "metadata": {},
       "output_type": "display_data",
       "png": "[encoded data removed]",
       "text": [
        "<matplotlib.figure.Figure at 0x109a38350>"
       ]
      },
      {
       "metadata": {},
       "output_type": "display_data",
       "png": "[encoded data removed]",
       "text": [
        "<matplotlib.figure.Figure at 0x109a65110>"
       ]
      },
      {
       "metadata": {},
       "output_type": "display_data",
       "png": "[encoded data removed]",
       "text": [
        "<matplotlib.figure.Figure at 0x100533ad0>"
       ]
      },
      {
       "metadata": {},
       "output_type": "display_data",
       "png": "[encoded data removed]",
       "text": [
        "<matplotlib.figure.Figure at 0x1090a5150>"
       ]
      },
      {
       "metadata": {},
       "output_type": "display_data",
       "png": "[encoded data removed]",
       "text": [
        "<matplotlib.figure.Figure at 0x10bb18a90>"
       ]
      },
      {
       "metadata": {},
       "output_type": "display_data",
       "png": "[encoded data removed]",
       "text": [
        "<matplotlib.figure.Figure at 0x10c1efe10>"
       ]
      },
      {
       "metadata": {},
       "output_type": "display_data",
       "png": "[encoded data removed]",
       "text": [
        "<matplotlib.figure.Figure at 0x10c2f2f90>"
       ]
      },
      {
       "metadata": {},
       "output_type": "display_data",
       "png": "[encoded data removed]",
       "text": [
        "<matplotlib.figure.Figure at 0x10c65ea90>"
       ]
      },
      {
       "metadata": {},
       "output_type": "display_data",
       "png": "[encoded data removed]",
       "text": [
        "<matplotlib.figure.Figure at 0x1090a5dd0>"
       ]
      },
      {
       "metadata": {},
       "output_type": "display_data",
       "png": "[encoded data removed]",
       "text": [
        "<matplotlib.figure.Figure at 0x109efeed0>"
       ]
      },
      {
       "metadata": {},
       "output_type": "display_data",
       "png": "[encoded data removed]",
       "text": [
        "<matplotlib.figure.Figure at 0x10bb16d10>"
       ]
      },
      {
       "metadata": {},
       "output_type": "display_data",
       "png": "[encoded data removed]",
       "text": [
        "<matplotlib.figure.Figure at 0x10b833bd0>"
       ]
      },
      {
       "metadata": {},
       "output_type": "display_data",
       "png": "[encoded data removed]",
       "text": [
        "<matplotlib.figure.Figure at 0x10c24bf90>"
       ]
      },
      {
       "metadata": {},
       "output_type": "display_data",
       "png": "[encoded data removed]",
       "text": [
        "<matplotlib.figure.Figure at 0x108c99dd0>"
       ]
      },
      {
       "metadata": {},
       "output_type": "display_data",
       "png": "[encoded data removed]",
       "text": [
        "<matplotlib.figure.Figure at 0x10990bf50>"
       ]
      },
      {
       "metadata": {},
       "output_type": "display_data",
       "png": "[encoded data removed]",
       "text": [
        "<matplotlib.figure.Figure at 0x10c2a6ed0>"
       ]
      },
      {
       "metadata": {},
       "output_type": "display_data",
       "png": "[encoded data removed]",
       "text": [
        "<matplotlib.figure.Figure at 0x1092f07d0>"
       ]
      },
      {
       "metadata": {},
       "output_type": "display_data",
       "png": "[encoded data removed]",
       "text": [
        "<matplotlib.figure.Figure at 0x109a29f10>"
       ]
      }
     ],
     "prompt_number": 34
    },
    {
     "cell_type": "code",
     "collapsed": false,
     "input": [
      "from sklearn.metrics import precision_recall_fscore_support\n",
      "import sys\n",
      "sys.path.append('/Users/Ryan/PythonProjects/Kaggle/HIVresponse/kaggle-hiv/')\n",
      "import csv\n",
      "from Bio.Seq import Seq\n",
      "import MatrixRep\n",
      "from MatFeatExtract import *\n",
      "from sklearn.svm import SVC\n",
      "from sklearn.ensemble import RandomForestClassifier\n",
      "from sklearn import cross_validation\n",
      "from random import shuffle\n",
      "from sklearn.preprocessing import StandardScaler\n",
      "from sklearn.feature_selection import f_classif\n",
      "import matplotlib.pyplot as plt\n",
      "from sklearn.feature_selection import SelectKBest\n",
      "from sklearn.metrics import roc_curve\n",
      "from sklearn.metrics import precision_recall_curve\n",
      "from sklearn.metrics import roc_auc_score\n",
      "\n",
      "database='databases/uniprot_sprot.fasta'\n",
      "\n",
      "data=[]\n",
      "with open('kaggle-hiv/training_data.csv', 'rb') as csvfile:\n",
      "    reader = csv.reader(csvfile, delimiter=',')\n",
      "    reader.next()\n",
      "    for row in reader:\n",
      "        data.append((int(row[0]),int(row[1]),row[2],row[3],float(row[4]),int(row[5])))\n",
      "\n",
      "shuffle(data)\t\n",
      "\n",
      "#Run through data, create representations, extract features, and aggregate\n",
      "for d in data:\n",
      "    #Load and translate data\n",
      "    protease=Seq(d[2])\n",
      "    RT = Seq(d[3])\n",
      "    RTaas = RT.translate()\n",
      "    proaas=protease.translate()\n",
      "\n",
      "    #Create a representation of the protein\n",
      "    #PROoutput=MatrixRep.PSSM(proaas.tostring(),database=database)\n",
      "    #RToutput=MatrixRep.PSSM(RTaas.tostring(),database=database)\n",
      "\n",
      "    PROoutput=MatrixRep.SMR(proaas.tostring())\n",
      "    RToutput=MatrixRep.SMR(RTaas.tostring())\n",
      "\n",
      "    PROmat=PROoutput['SMR'].astype(float)\n",
      "    RTmat=RToutput['SMR'].astype(float)\n",
      "\n",
      "\n",
      "    ## Run a feature extraction method on mat\n",
      "    RTfeature=PseudoPSSM(RTmat)\n",
      "    PROfeature=PseudoPSSM(RTmat)\n",
      "\n",
      "\n",
      "    ## Aggregate Features\n",
      "    if d==data[0]:\n",
      "        RTfeatures=RTfeature.copy()\n",
      "        PROfeatures=PROfeature.copy()\n",
      "\n",
      "    else:\n",
      "        RTfeatures=np.vstack((RTfeatures,RTfeature))\n",
      "        PROfeatures=np.vstack((PROfeatures,PROfeature))\n",
      "\n",
      "VL = np.array([x[4] for x in data])\n",
      "CD4 = np.array([x[5] for x in data])\n",
      "X = np.concatenate((RTfeatures, PROfeatures, np.reshape(VL,(len(data),1)), np.reshape(CD4,(len(data),1))), axis=1)\n",
      "X = StandardScaler().fit_transform(X)\n",
      "y = np.array([x[1] for x in data])\n",
      "\n",
      "\n",
      "Cvec = [.7]\n",
      "\n",
      "for Cs in Cvec:\n",
      "    numFeatures = [100]\n",
      "\n",
      "    FinalRF =[]\n",
      "    FinalRFp = []\n",
      "    FinalRFr = []\n",
      "    FinalSVM = []\n",
      "    FinalSVMp = []\n",
      "    FinalSVMr = []\n",
      "\n",
      "    for f in numFeatures:\n",
      "        Xnew = SelectKBest(f_classif, f).fit_transform(X,y)\n",
      "\n",
      "\n",
      "        #Do Machine Learning\n",
      "\n",
      "        #cfr = RandomForestClassifier(n_estimators=200)\n",
      "        SVec = SVC(C=Cs, probability = True)\n",
      "\n",
      "        #Simple K-Fold cross validation. 4 folds.\n",
      "        cv = cross_validation.KFold(len(Xnew), 5, indices=False)\n",
      "\n",
      "        RFresults = []\n",
      "        SVMresults = []\n",
      "        RFp = []\n",
      "        RFr = []\n",
      "        SVMp = []\n",
      "        SVMr = []\n",
      "        for traincv, testcv in cv:\n",
      "            #RFfit = cfr.fit(Xnew[traincv], y[traincv])\n",
      "            SVMfit = SVec.fit(Xnew[traincv], y[traincv])\n",
      "\n",
      "            #get simple score for each fold\n",
      "            #RFscore = RFfit.score(Xnew[testcv], y[testcv])\n",
      "            #RFresults.append( RFscore )        \n",
      "\n",
      "            SVMscore = SVMfit.score(Xnew[testcv], y[testcv])\n",
      "            SVMresults.append(SVMscore)\n",
      "\n",
      "            #get actual predictions and probabilities out for sensitivity/specificity tests\n",
      "            \n",
      "            #RFpredicts = RFfit.predict(Xnew[testcv])\n",
      "            SVMpredicts = SVMfit.predict(Xnew[testcv])\n",
      "            SVMprobas = SVMfit.predict_proba(Xnew[testcv])\n",
      "            Oneprobas = [x[1] for x in SVMprobas]\n",
      "            prec, rec, thresh = precision_recall_curve(y[testcv],Oneprobas, pos_label=1)\n",
      "            \n",
      "            plt.figure()\n",
      "            plt.plot(thresh, prec[1:], 'r', thresh, rec[1:], 'b')\n",
      "            print \"AUC: \" + str(roc_auc_score(y[testcv], Oneprobas))\n",
      "            \n",
      "            \n",
      "            \n",
      "            #RFpr = precision_recall_fscore_support(y[testcv],RFpredicts)\n",
      "            SVMpr = precision_recall_fscore_support(y[testcv],SVMpredicts)\n",
      "            #RFp.append(RFpr[0][1])\n",
      "            #RFr.append(RFpr[1][1])\n",
      "            SVMp.append(SVMpr[0][1])\n",
      "            SVMr.append(SVMpr[1][1])\n",
      "\n",
      "\n",
      "        #FinalRF.append(np.array(RFresults).mean())\n",
      "        FinalSVM.append(np.array(SVMresults).mean())\n",
      "        #FinalRFp.append(np.array(RFp).mean())\n",
      "        #FinalRFr.append(np.array(RFr).mean())\n",
      "        FinalSVMp.append(np.array(SVMp).mean())\n",
      "        FinalSVMr.append(np.array(SVMr).mean())\n",
      "\n",
      "        #print \"RF: \" + str(np.array(RFresults).mean())\n",
      "        #print \"RF sum \" + str(RFpredicts.sum())\n",
      "        #print \"SCV: \" + str(np.array(SVMresults).mean())\n",
      "        #print \"SVM sum \" + str(SVMpredicts.sum())\n",
      "        #print \"SVC\" +str(SVMpredicts)\n",
      "\n",
      "    #print \"RF score: \" + str(FinalRF)\n",
      "    #print \"RF specificity: \" + str(FinalRFp)\n",
      "    #print \"RF sensitivity: \" + str(FinalRFr)\n",
      "    print \"C= \" + str(Cs)\n",
      "    print \"SVM score: \" + str(FinalSVM)\n",
      "    print \"SVM specificity: \" + str(FinalSVMp)\n",
      "    print \"SVM sensitivity: \" + str(FinalSVMr)"
     ],
     "language": "python",
     "metadata": {},
     "outputs": [
      {
       "output_type": "stream",
       "stream": "stdout",
       "text": [
        "AUC: 0.693037974684\n",
        "AUC: 0.695934500282"
       ]
      },
      {
       "output_type": "stream",
       "stream": "stdout",
       "text": [
        "\n",
        "AUC: 0.731935215947"
       ]
      },
      {
       "output_type": "stream",
       "stream": "stdout",
       "text": [
        "\n",
        "AUC: 0.721374611169"
       ]
      },
      {
       "output_type": "stream",
       "stream": "stdout",
       "text": [
        "\n",
        "AUC: 0.753302739536"
       ]
      },
      {
       "output_type": "stream",
       "stream": "stdout",
       "text": [
        "\n",
        "C= 0.7\n",
        "SVM score: [0.79499999999999993]\n",
        "SVM specificity: [0.53317972350230414]\n",
        "SVM sensitivity: [0.2220851350673006]\n"
       ]
      },
      {
       "output_type": "stream",
       "stream": "stderr",
       "text": [
        "/Users/Ryan/anaconda/lib/python2.7/site-packages/sklearn/cross_validation.py:65: DeprecationWarning: The indices parameter is deprecated and will be removed (assumed True) in 0.17\n",
        "  stacklevel=1)\n"
       ]
      },
      {
       "metadata": {},
       "output_type": "display_data",
       "png": "[encoded data removed]",
       "text": [
        "<matplotlib.figure.Figure at 0x1091f9350>"
       ]
      },
      {
       "metadata": {},
       "output_type": "display_data",
       "png": "[encoded data removed]",
       "text": [
        "<matplotlib.figure.Figure at 0x10aa55c10>"
       ]
      },
      {
       "metadata": {},
       "output_type": "display_data",
       "png": "[encoded data removed]",
       "text": [
        "<matplotlib.figure.Figure at 0x10c32fa50>"
       ]
      },
      {
       "metadata": {},
       "output_type": "display_data",
       "png": "[encoded data removed]",
       "text": [
        "<matplotlib.figure.Figure at 0x108e78910>"
       ]
      },
      {
       "metadata": {},
       "output_type": "display_data",
       "png": "[encoded data removed]",
       "text": [
        "<matplotlib.figure.Figure at 0x10efecfd0>"
       ]
      }
     ],
     "prompt_number": 44
    },
    {
     "cell_type": "code",
     "collapsed": false,
     "input": [
      "from sklearn.metrics import precision_recall_fscore_support\n",
      "import sys\n",
      "sys.path.append('/Users/Ryan/PythonProjects/Kaggle/HIVresponse/kaggle-hiv/')\n",
      "sys.path.append('/Users/Ryan/PythonProjects/MLfunctions/')\n",
      "import csv\n",
      "from Bio.Seq import Seq\n",
      "import MatrixRep\n",
      "from MatFeatExtract import *\n",
      "from sklearn.svm import SVC\n",
      "from sklearn.ensemble import RandomForestClassifier\n",
      "from sklearn import cross_validation\n",
      "from random import shuffle\n",
      "from sklearn.preprocessing import StandardScaler\n",
      "from sklearn.feature_selection import f_classif\n",
      "import matplotlib.pyplot as plt\n",
      "from sklearn.feature_selection import SelectKBest\n",
      "from sklearn.metrics import roc_curve\n",
      "from sklearn.metrics import precision_recall_curve\n",
      "from sklearn.metrics import roc_auc_score\n",
      "reload(diff_thresholds)\n",
      "\n",
      "database='databases/uniprot_sprot.fasta'\n",
      "\n",
      "\n",
      "\n",
      "\n",
      "Cvec = [.7]\n",
      "\n",
      "for Cs in Cvec:\n",
      "    numFeatures = [100]\n",
      "\n",
      "    FinalRF =[]\n",
      "    FinalRFp = []\n",
      "    FinalRFr = []\n",
      "    FinalSVM = []\n",
      "    FinalSVMp = []\n",
      "    FinalSVMr = []\n",
      "    aucF = []\n",
      "    threshF=[]\n",
      "    recF=[]\n",
      "    precF=[]\n",
      "    for f in numFeatures:\n",
      "        Xnew = SelectKBest(f_classif, f).fit_transform(X,y)\n",
      "\n",
      "\n",
      "        #Do Machine Learning\n",
      "\n",
      "        #cfr = RandomForestClassifier(n_estimators=200)\n",
      "        SVec = SVC(C=Cs, probability = True)\n",
      "\n",
      "        #Simple K-Fold cross validation. 4 folds.\n",
      "        cv = cross_validation.KFold(len(Xnew), 5, indices=False)\n",
      "\n",
      "        RFresults = []\n",
      "        SVMresults = []\n",
      "        RFp = []\n",
      "        RFr = []\n",
      "        SVMp = []\n",
      "        SVMr = []\n",
      "        auc = []\n",
      "        sample_thresh=[]\n",
      "        sample_rec=[]\n",
      "        sample_prec=[]\n",
      "        \n",
      "        thresholds = [.1, .2, .4, .55, .6]\n",
      "        for traincv, testcv in cv:\n",
      "            #RFfit = cfr.fit(Xnew[traincv], y[traincv])\n",
      "            SVMfit = SVec.fit(Xnew[traincv], y[traincv])\n",
      "\n",
      "            #get simple score for each fold\n",
      "            #RFscore = RFfit.score(Xnew[testcv], y[testcv])\n",
      "            #RFresults.append( RFscore )        \n",
      "\n",
      "            SVMscore = SVMfit.score(Xnew[testcv], y[testcv])\n",
      "            SVMresults.append(SVMscore)\n",
      "\n",
      "            #get actual predictions and probabilities out for sensitivity/specificity tests\n",
      "            \n",
      "            #RFpredicts = RFfit.predict(Xnew[testcv])\n",
      "            SVMpredicts = SVMfit.predict(Xnew[testcv])\n",
      "            SVMprobas = SVMfit.predict_proba(Xnew[testcv])\n",
      "            Oneprobas = [x[1] for x in SVMprobas]\n",
      "            #fpr, tpr, thresh = roc_curve(y[testcv],Oneprobas, pos_label=1)\n",
      "            #plt.figure()\n",
      "            #plt.plot(fpr, tpr)\n",
      "            thresh_scores, preci, recall = diff_thresholds.thresh_score_prec_recall(y[testcv],Oneprobas,thresholds)\n",
      "            #prec, rec, thresh = precision_recall_curve(y[testcv],Oneprobas, pos_label=1)\n",
      "#             plt.figure()\n",
      "#             plt.plot(thresh, prec[:len(prec)-1], 'r', thresh, rec[:len(rec)-1], 'b')\n",
      "            if sample_thresh == []:\n",
      "                sample_thresh = np.array(thresh_scores)\n",
      "                sample_prec = np.array(preci)\n",
      "                sample_rec = np.array(recall)\n",
      "            else:\n",
      "                sample_thresh = np.vstack((sample_thresh,np.array(thresh_scores)))\n",
      "                sample_prec = np.vstack((sample_prec,np.array(preci)))\n",
      "                sample_rec = np.vstack((sample_rec,np.array(recall)))\n",
      "\n",
      "            auc.append(roc_auc_score(y[testcv], Oneprobas))\n",
      "            \n",
      "            \n",
      "            \n",
      "            \n",
      "            #RFpr = precision_recall_fscore_support(y[testcv],RFpredicts)\n",
      "            SVMpr = precision_recall_fscore_support(y[testcv],SVMpredicts)\n",
      "            #RFp.append(RFpr[0][1])\n",
      "            #RFr.append(RFpr[1][1])\n",
      "            SVMp.append(SVMpr[0][1])\n",
      "            SVMr.append(SVMpr[1][1])\n",
      "\n",
      "\n",
      "        #FinalRF.append(np.array(RFresults).mean())\n",
      "        FinalSVM.append(np.array(SVMresults).mean())\n",
      "        #FinalRFp.append(np.array(RFp).mean())\n",
      "        #FinalRFr.append(np.array(RFr).mean())\n",
      "        FinalSVMp.append(np.array(SVMp).mean())\n",
      "        FinalSVMr.append(np.array(SVMr).mean())\n",
      "        aucF.append(np.array(auc).mean())\n",
      "        plt.figure()\n",
      "        plt.plot(thresholds,np.average(sample_thresh, axis=0),'r',\\\n",
      "                 thresholds,np.average(sample_prec, axis=0),'g',\\\n",
      "                 thresholds,np.average(sample_rec, axis=0),'y')\n",
      "        \n",
      "        threshF.append(np.average(sample_thresh, axis=0))\n",
      "        precF.append(np.average(sample_prec, axis=0))\n",
      "        recF.append(np.average(sample_rec, axis=0))\n",
      "        \n",
      "        #print \"RF: \" + str(np.array(RFresults).mean())\n",
      "        #print \"RF sum \" + str(RFpredicts.sum())\n",
      "        #print \"SCV: \" + str(np.array(SVMresults).mean())\n",
      "        #print \"SVM sum \" + str(SVMpredicts.sum())\n",
      "        #print \"SVC\" +str(SVMpredicts)\n",
      "\n",
      "    #print \"RF score: \" + str(FinalRF)\n",
      "    #print \"RF specificity: \" + str(FinalRFp)\n",
      "    #print \"RF sensitivity: \" + str(FinalRFr)\n",
      "    print \"C= \" + str(Cs)\n",
      "    print \"SVM score: \" + str(FinalSVM)\n",
      "    print \"SVM precision: \" + str(FinalSVMp)\n",
      "    print \"SVM recall: \" + str(FinalSVMr)\n",
      "    print \"AUC: \" +str(aucF)\n",
      "    print \"diff thresh scores: \" +str(threshF)\n",
      "    print \"thresh precisions: \" +str(precF)\n",
      "    print \"thresh recalls: \" +str(recF)"
     ],
     "language": "python",
     "metadata": {},
     "outputs": [
      {
       "output_type": "stream",
       "stream": "stdout",
       "text": [
        "C= 0.7\n",
        "SVM score: [0.80299999999999994]\n",
        "SVM precision: [0.54801587301587307]\n",
        "SVM recall: [0.28232829302998064]\n",
        "AUC: [0.7424733067670275]\n",
        "diff thresh scores: [array([ 0.206,  0.804,  0.803,  0.792,  0.79 ])]\n",
        "thresh precisions: [array([ 0.206     ,  0.54138486,  0.55868798,  0.54952381,  0.26071429])]\n",
        "thresh recalls: [array([ 1.        ,  0.33817703,  0.26468902,  0.11491158,  0.04233585])]\n"
       ]
      },
      {
       "output_type": "stream",
       "stream": "stderr",
       "text": [
        "/Users/Ryan/anaconda/lib/python2.7/site-packages/sklearn/cross_validation.py:65: DeprecationWarning: The indices parameter is deprecated and will be removed (assumed True) in 0.17\n",
        "  stacklevel=1)\n"
       ]
      },
      {
       "metadata": {},
       "output_type": "display_data",
       "png": "[encoded data removed]",
       "text": [
        "<matplotlib.figure.Figure at 0x1096ee150>"
       ]
      }
     ],
     "prompt_number": 115
    },
    {
     "cell_type": "code",
     "collapsed": false,
     "input": [
      "reload(diff_thresholds)\n",
      "dir(diff_thresholds)\n",
      "\n",
      "print diff_thresholds.thresh_score_prec_recall([0,1,0,1],[.2,.6,.4,.8], [.3,.5,.7])\n"
     ],
     "language": "python",
     "metadata": {},
     "outputs": [
      {
       "output_type": "stream",
       "stream": "stdout",
       "text": [
        "[[0.75, 1.0, 0.75], [0.66666666666666663, 1.0, 1.0], [1.0, 1.0, 0.5]]\n"
       ]
      }
     ],
     "prompt_number": 85
    },
    {
     "cell_type": "code",
     "collapsed": false,
     "input": [
      "import cv_averages \n",
      "reload(cv_averages)\n",
      "\n",
      "X = np.concatenate((RTfeatures, PROfeatures, np.reshape(VL,(len(data),1)), np.reshape(CD4,(len(data),1))), axis=1)\n",
      "y = np.array([x[1] for x in data])\n",
      "RF = RandomForestClassifier(n_estimators=200)\n",
      "\n",
      "cv = cross_validation.KFold(len(Xnew), 5, indices=False)\n",
      "\n",
      "print cv_averages.cv_metrics(RF, cv, X, y, precision_recall = True, auc = True)"
     ],
     "language": "python",
     "metadata": {},
     "outputs": [
      {
       "output_type": "stream",
       "stream": "stdout",
       "text": [
        "{'truepos': 0.2333515713564373, 'auc': 0.69313453783155488, 'recall': 0.2333515713564373, 'precision': 0.57261904761904758, 'score': 0.80599999999999983, 'falsepos': 0.42738095238095236}\n"
       ]
      },
      {
       "output_type": "stream",
       "stream": "stderr",
       "text": [
        "/Users/Ryan/anaconda/lib/python2.7/site-packages/sklearn/cross_validation.py:65: DeprecationWarning: The indices parameter is deprecated and will be removed (assumed True) in 0.17\n",
        "  stacklevel=1)\n"
       ]
      }
     ],
     "prompt_number": 141
    },
    {
     "cell_type": "heading",
     "level": 1,
     "metadata": {},
     "source": [
      "Sort data into negatives and positives so that I can vary the amount of neg and pos in training set"
     ]
    },
    {
     "cell_type": "code",
     "collapsed": false,
     "input": [
      "\n",
      "data.sort(key=lambda x: x[1])\n",
      "\n",
      "for d in data:\n",
      "    #Load and translate data\n",
      "    protease=Seq(d[2])\n",
      "    RT = Seq(d[3])\n",
      "    RTaas = RT.translate()\n",
      "    proaas=protease.translate()\n",
      "\n",
      "    #Create a representation of the protein\n",
      "    #PROoutput=MatrixRep.PSSM(proaas.tostring(),database=database)\n",
      "    #RToutput=MatrixRep.PSSM(RTaas.tostring(),database=database)\n",
      "\n",
      "    PROoutput=MatrixRep.SMR(proaas.tostring())\n",
      "    RToutput=MatrixRep.SMR(RTaas.tostring())\n",
      "\n",
      "    PROmat=PROoutput['SMR'].astype(float)\n",
      "    RTmat=RToutput['SMR'].astype(float)\n",
      "\n",
      "\n",
      "    ## Run a feature extraction method on mat\n",
      "    RTfeature=PseudoPSSM(RTmat)\n",
      "    PROfeature=PseudoPSSM(RTmat)\n",
      "\n",
      "\n",
      "    ## Aggregate Features\n",
      "    if d==data[0]:\n",
      "        RTfeatures=RTfeature.copy()\n",
      "        PROfeatures=PROfeature.copy()\n",
      "\n",
      "    else:\n",
      "        RTfeatures=np.vstack((RTfeatures,RTfeature))\n",
      "        PROfeatures=np.vstack((PROfeatures,PROfeature))\n",
      "\n",
      "VL = np.array([x[4] for x in data])\n",
      "CD4 = np.array([x[5] for x in data])\n",
      "y = np.array([x[1] for x in data])\n",
      "\n",
      "\n",
      "X = np.concatenate((RTfeatures, PROfeatures, np.reshape(VL,(len(data),1)), np.reshape(CD4,(len(data),1))), axis=1)\n",
      "\n",
      "\n",
      "\n"
     ],
     "language": "python",
     "metadata": {},
     "outputs": [
      {
       "output_type": "stream",
       "stream": "stdout",
       "text": [
        "[0 0 0 0 0 0 0 0 0 0 0 0 0 0 0 0 0 0 0 0 0 0 0 0 0 0 0 0 0 0 0 0 0 0 0 0 0\n",
        " 0 0 0 0 0 0 0 0 0 0 0 0 0 0 0 0 0 0 0 0 0 0 0 0 0 0 0 0 0 0 0 0 0 0 0 0 0\n",
        " 0 0 0 0 0 0 0 0 0 0 0 0 0 0 0 0 0 0 0 0 0 0 0 0 0 0 0 0 0 0 0 0 0 0 0 0 0\n",
        " 0 0 0 0 0 0 0 0 0 0 0 0 0 0 0 0 0 0 0 0 0 0 0 0 0 0 0 0 0 0 0 0 0 0 0 0 0\n",
        " 0 0 0 0 0 0 0 0 0 0 0 0 0 0 0 0 0 0 0 0 0 0 0 0 0 0 0 0 0 0 0 0 0 0 0 0 0\n",
        " 0 0 0 0 0 0 0 0 0 0 0 0 0 0 0 0 0 0 0 0 0 0 0 0 0 0 0 0 0 0 0 0 0 0 0 0 0\n",
        " 0 0 0 0 0 0 0 0 0 0 0 0 0 0 0 0 0 0 0 0 0 0 0 0 0 0 0 0 0 0 0 0 0 0 0 0 0\n",
        " 0 0 0 0 0 0 0 0 0 0 0 0 0 0 0 0 0 0 0 0 0 0 0 0 0 0 0 0 0 0 0 0 0 0 0 0 0\n",
        " 0 0 0 0 0 0 0 0 0 0 0 0 0 0 0 0 0 0 0 0 0 0 0 0 0 0 0 0 0 0 0 0 0 0 0 0 0\n",
        " 0 0 0 0 0 0 0 0 0 0 0 0 0 0 0 0 0 0 0 0 0 0 0 0 0 0 0 0 0 0 0 0 0 0 0 0 0\n",
        " 0 0 0 0 0 0 0 0 0 0 0 0 0 0 0 0 0 0 0 0 0 0 0 0 0 0 0 0 0 0 0 0 0 0 0 0 0\n",
        " 0 0 0 0 0 0 0 0 0 0 0 0 0 0 0 0 0 0 0 0 0 0 0 0 0 0 0 0 0 0 0 0 0 0 0 0 0\n",
        " 0 0 0 0 0 0 0 0 0 0 0 0 0 0 0 0 0 0 0 0 0 0 0 0 0 0 0 0 0 0 0 0 0 0 0 0 0\n",
        " 0 0 0 0 0 0 0 0 0 0 0 0 0 0 0 0 0 0 0 0 0 0 0 0 0 0 0 0 0 0 0 0 0 0 0 0 0\n",
        " 0 0 0 0 0 0 0 0 0 0 0 0 0 0 0 0 0 0 0 0 0 0 0 0 0 0 0 0 0 0 0 0 0 0 0 0 0\n",
        " 0 0 0 0 0 0 0 0 0 0 0 0 0 0 0 0 0 0 0 0 0 0 0 0 0 0 0 0 0 0 0 0 0 0 0 0 0\n",
        " 0 0 0 0 0 0 0 0 0 0 0 0 0 0 0 0 0 0 0 0 0 0 0 0 0 0 0 0 0 0 0 0 0 0 0 0 0\n",
        " 0 0 0 0 0 0 0 0 0 0 0 0 0 0 0 0 0 0 0 0 0 0 0 0 0 0 0 0 0 0 0 0 0 0 0 0 0\n",
        " 0 0 0 0 0 0 0 0 0 0 0 0 0 0 0 0 0 0 0 0 0 0 0 0 0 0 0 0 0 0 0 0 0 0 0 0 0\n",
        " 0 0 0 0 0 0 0 0 0 0 0 0 0 0 0 0 0 0 0 0 0 0 0 0 0 0 0 0 0 0 0 0 0 0 0 0 0\n",
        " 0 0 0 0 0 0 0 0 0 0 0 0 0 0 0 0 0 0 0 0 0 0 0 0 0 0 0 0 0 0 0 0 0 0 0 0 0\n",
        " 0 0 0 0 0 0 0 0 0 0 0 0 0 0 0 0 0 1 1 1 1 1 1 1 1 1 1 1 1 1 1 1 1 1 1 1 1\n",
        " 1 1 1 1 1 1 1 1 1 1 1 1 1 1 1 1 1 1 1 1 1 1 1 1 1 1 1 1 1 1 1 1 1 1 1 1 1\n",
        " 1 1 1 1 1 1 1 1 1 1 1 1 1 1 1 1 1 1 1 1 1 1 1 1 1 1 1 1 1 1 1 1 1 1 1 1 1\n",
        " 1 1 1 1 1 1 1 1 1 1 1 1 1 1 1 1 1 1 1 1 1 1 1 1 1 1 1 1 1 1 1 1 1 1 1 1 1\n",
        " 1 1 1 1 1 1 1 1 1 1 1 1 1 1 1 1 1 1 1 1 1 1 1 1 1 1 1 1 1 1 1 1 1 1 1 1 1\n",
        " 1 1 1 1 1 1 1 1 1 1 1 1 1 1 1 1 1 1 1 1 1 1 1 1 1 1 1 1 1 1 1 1 1 1 1 1 1\n",
        " 1]\n"
       ]
      }
     ],
     "prompt_number": 179
    },
    {
     "cell_type": "code",
     "collapsed": false,
     "input": [
      "import cv_averages \n",
      "reload(cv_averages)\n",
      "\n",
      "response = np.array([x[1] for x in data])\n",
      "MLdata = np.concatenate((np.reshape(response,(len(data),1)),RTfeatures, PROfeatures, np.reshape(VL,(len(data),1)), \\\n",
      "                         np.reshape(CD4,(len(data),1))), axis=1)\n",
      "\n",
      "\n",
      "firstIndex = 400\n",
      "lastIndex = 1000\n",
      "\n",
      "MLdataNew = MLdata[firstIndex:lastIndex,:]\n",
      "\n",
      "indeces =  range(np.shape(MLdataNew)[0])\n",
      "shuffle(indeces)\n",
      "\n",
      "MLdataShuff = MLdataNew[indeces,:]\n",
      "\n",
      "MLdataShuff = MLdataShuff[:,:]\n",
      "\n",
      "\n",
      "\n",
      "y = MLdataShuff[:,0]\n",
      "X = MLdataShuff[:,1:np.shape(MLdataShuff)[1]]\n",
      "\n",
      "\n",
      "\n",
      "RF = RandomForestClassifier(n_estimators=200)\n",
      "Svec = SVC(probability=True)\n",
      "\n",
      "cv = cross_validation.KFold(len(X), 5, indices=False)\n",
      "\n",
      "\n",
      "# print cv_averages.cv_metrics(Svec, cv, X, ynew, precision_recall = True, auc = True)\n",
      "\n",
      "\n",
      "Xreduce = SelectKBest(f_classif, 100).fit_transform(X,y)\n",
      "\n",
      "print cv_averages.cv_metrics(Svec, cv, Xreduce, y, precision_recall = True, auc = True)\n",
      "\n",
      "\n",
      "print cv_averages.cv_metrics(RF, cv, X, y, precision_recall = True, auc = True, reduce_data = True)"
     ],
     "language": "python",
     "metadata": {},
     "outputs": [
      {
       "output_type": "stream",
       "stream": "stdout",
       "text": [
        "[ 0.  0.  1.  0.  0.  0.  1.  0.  1.  0.  1.  0.  0.  0.  0.  0.  0.  0.\n",
        "  1.  0.  0.  0.  1.  0.  0.  0.  1.  0.  0.  0.  0.  1.  1.  0.  1.  0.\n",
        "  0.  0.  1.  0.  0.  1.  0.  1.  0.  0.  1.  0.  0.  1.  0.  0.  1.  0.\n",
        "  0.  1.  1.  0.  1.  0.  1.  1.  0.  1.  1.  0.  0.  0.  1.  0.  1.  0.\n",
        "  0.  1.  1.  1.  0.  0.  0.  1.  1.  1.  0.  0.  1.  0.  0.  0.  1.  1.\n",
        "  0.  1.  0.  0.  0.  0.  0.  0.  0.  0.  0.  1.  0.  0.  1.  0.  0.  0.\n",
        "  0.  0.  0.  0.  1.  0.  0.  1.  0.  0.  0.  1.  0.  1.  1.  0.  1.  1.\n",
        "  1.  1.  0.  0.  1.  1.  0.  1.  1.  0.  0.  0.  0.  1.  1.  1.  0.  0.\n",
        "  1.  0.  0.  0.  1.  0.  0.  0.  0.  0.  0.  1.  1.  1.  1.  1.  0.  0.\n",
        "  1.  0.  1.  1.  1.  0.  0.  0.  0.  1.  1.  0.  0.  0.  0.  1.  1.  0.\n",
        "  0.  0.  0.  1.  0.  0.  0.  1.  1.  0.  1.  1.  0.  0.  1.  0.  0.  0.\n",
        "  0.  0.  0.  1.  0.  1.  1.  0.  0.  0.  0.  1.  0.  1.  1.  0.  0.  0.\n",
        "  0.  1.  0.  0.  0.  0.  0.  0.  0.  1.  0.  0.  0.  0.  0.  0.  0.  1.\n",
        "  0.  0.  0.  0.  0.  0.  1.  0.  0.  0.  0.  0.  1.  1.  0.  0.  0.  0.\n",
        "  0.  1.  0.  1.  1.  0.  0.  1.  1.  1.  0.  0.  1.  0.  1.  1.  1.  1.\n",
        "  0.  0.  1.  0.  0.  0.  0.  0.  1.  1.  0.  1.  1.  0.  1.  0.  1.  1.\n",
        "  0.  0.  0.  1.  0.  0.  0.  0.  1.  0.  0.  0.  0.  1.  0.  0.  0.  0.\n",
        "  0.  1.  0.  0.  0.  1.  1.  0.  0.  1.  1.  0.  0.  0.  0.  0.  0.  1.\n",
        "  0.  0.  0.  0.  0.  0.  1.  0.  1.  0.  0.  1.  1.  0.  0.  1.  0.  0.\n",
        "  1.  1.  0.  0.  0.  0.  1.  0.  0.  0.  1.  0.  0.  0.  0.  0.  0.  0.\n",
        "  0.  0.  1.  0.  1.  1.  0.  1.  0.  0.  0.  0.  1.  1.  0.  0.  1.  1.\n",
        "  0.  0.  1.  1.  0.  0.  1.  0.  0.  0.  0.  1.  1.  0.  1.  0.  0.  1.\n",
        "  0.  0.  0.  0.  0.  0.  0.  0.  1.  0.  1.  0.  1.  1.  0.  1.  0.  0.\n",
        "  0.  1.  1.  1.  0.  0.  0.  0.  1.  0.  1.  0.  0.  0.  1.  1.  0.  0.\n",
        "  1.  0.  1.  1.  0.  1.  0.  0.  0.  0.  1.  0.  0.  0.  1.  0.  0.  0.\n",
        "  0.  1.  0.  1.  0.  0.  0.  0.  0.  1.  0.  1.  1.  0.  0.  1.  0.  1.\n",
        "  1.  0.  1.  1.  0.  0.  1.  0.  0.  1.  0.  1.  0.  0.  0.  0.  0.  0.\n",
        "  0.  1.  0.  1.  0.  0.  1.  0.  0.  0.  0.  0.  1.  0.  0.  0.  1.  0.\n",
        "  0.  0.  0.  0.  0.  1.  0.  1.  1.  0.  0.  0.  0.  0.  0.  1.  1.  0.\n",
        "  0.  0.  1.  0.  0.  0.  0.  0.  0.  1.  0.  0.  0.  0.  0.  1.  0.  1.\n",
        "  1.  0.  0.  0.  0.  0.  0.  0.  1.  0.  1.  1.  1.  0.  1.  0.  0.  0.\n",
        "  0.  1.  0.  1.  0.  1.  0.  0.  0.  1.  1.  0.  1.  1.  0.  0.  0.  0.\n",
        "  0.  0.  1.  1.  0.  1.  1.  1.  1.  0.  0.  0.  0.  0.  1.  0.  0.  1.\n",
        "  1.  1.  0.  0.  0.  0.]\n",
        "(600, 642)\n",
        "{'recall': 0.31508539884677395, 'auc': 0.79499646628230869, 'score': 0.72333333333333338, 'precision': 0.7314811504285188}"
       ]
      },
      {
       "output_type": "stream",
       "stream": "stdout",
       "text": [
        "\n",
        "{'recall': 0.36605484655535214, 'auc': 0.72525076858788384, 'score': 0.71666666666666656, 'precision': 0.65908733432326894}"
       ]
      },
      {
       "output_type": "stream",
       "stream": "stdout",
       "text": [
        "\n"
       ]
      },
      {
       "output_type": "stream",
       "stream": "stderr",
       "text": [
        "/Users/Ryan/anaconda/lib/python2.7/site-packages/sklearn/cross_validation.py:65: DeprecationWarning: The indices parameter is deprecated and will be removed (assumed True) in 0.17\n",
        "  stacklevel=1)\n"
       ]
      }
     ],
     "prompt_number": 235
    },
    {
     "cell_type": "code",
     "collapsed": false,
     "input": [
      "print RF.get_params()"
     ],
     "language": "python",
     "metadata": {},
     "outputs": [
      {
       "output_type": "stream",
       "stream": "stdout",
       "text": [
        "{'oob_score': False, 'n_jobs': 1, 'verbose': 0, 'min_density': None, 'compute_importances': None, 'max_leaf_nodes': None, 'bootstrap': True, 'min_samples_leaf': 1, 'n_estimators': 200, 'min_samples_split': 2, 'random_state': None, 'criterion': 'gini', 'max_features': 'auto', 'max_depth': None}\n"
       ]
      }
     ],
     "prompt_number": 230
    },
    {
     "cell_type": "heading",
     "level": 3,
     "metadata": {},
     "source": [
      "Varying balance of 1's and 0's in training set"
     ]
    },
    {
     "cell_type": "code",
     "collapsed": false,
     "input": [
      "import sys\n",
      "sys.path.append('kaggle-hiv/')\n",
      "sys.path.append('kaggle-hiv/MLtools/')\n",
      "import cv_averages\n",
      "\n",
      "import csv\n",
      "from Bio.Seq import Seq\n",
      "import MatrixRep\n",
      "from MatFeatExtract import *\n",
      "from sklearn.svm import SVC\n",
      "from sklearn.ensemble import RandomForestClassifier\n",
      "from sklearn import cross_validation\n",
      "from random import shuffle\n",
      "from sklearn.preprocessing import StandardScaler\n",
      "from sklearn.feature_selection import SelectKBest\n",
      "from sklearn.feature_selection import f_classif\n",
      "import matplotlib.pyplot as plt\n",
      "\n",
      "\n",
      "\n",
      "\n",
      "\n",
      "def FeatureExtract(data, database):\n",
      "    #Run through data, create representations, extract features, and aggregate\n",
      "    for d in data:\n",
      "        #Load and translate data\n",
      "        protease=Seq(d[2])\n",
      "        RT = Seq(d[3])\n",
      "        RTaas = RT.translate()\n",
      "        proaas=protease.translate()\n",
      "\n",
      "        #Create a representation of the protein\n",
      "        #PROoutput=MatrixRep.PSSM(proaas.tostring(),database=database)\n",
      "        #RToutput=MatrixRep.PSSM(RTaas.tostring(),database=database)\n",
      "\n",
      "        PROoutput=MatrixRep.SMR(proaas.tostring())\n",
      "        RToutput=MatrixRep.SMR(RTaas.tostring())\n",
      "\n",
      "        PROmat=PROoutput['SMR'].astype(float)\n",
      "        RTmat=RToutput['SMR'].astype(float)\n",
      "\n",
      "\n",
      "        ## Run a feature extraction method on mat\n",
      "        RTfeature=PseudoPSSM(RTmat)\n",
      "        PROfeature=PseudoPSSM(RTmat)\n",
      "\n",
      "\n",
      "        ## Aggregate Features\n",
      "        if 'RTfeatures' not in locals():\n",
      "            RTfeatures=RTfeature.copy()\n",
      "            PROfeatures=PROfeature.copy()\n",
      "\n",
      "        else:\n",
      "            RTfeatures=np.vstack((RTfeatures,RTfeature))\n",
      "            PROfeatures=np.vstack((PROfeatures,PROfeature))\n",
      "\n",
      "    VL = np.array([x[4] for x in data])\n",
      "    CD4 = np.array([x[5] for x in data])\n",
      "    response = np.array([x[1] for x in data])\n",
      "\n",
      "    #ML data is a numpy array with the response (0 or 1) in the first column, then all the features in subsequent columns\n",
      "    MLdata = np.concatenate((np.reshape(response,(len(data),1)),RTfeatures, PROfeatures, \\\n",
      "            np.reshape(VL,(len(data),1)), np.reshape(CD4,(len(data),1))), axis=1)\n",
      "\n",
      "    return MLdata\n",
      "\n",
      "\n",
      "\n",
      "def select_shuffle(MLdata, firstIndex=0, lastIndex=None):\n",
      "    #Allows you to reduce the training data and slice it into number of 0's and 1's\n",
      "    #the final 206 entries in data (once sorted in main) will all be 1's, so if the firstIndex is 600 and lastIndex is\n",
      "    #1000 (or unspecified) then you will have about half pos, half neg for the training set\n",
      "    #default is just to take all the data though \n",
      "\n",
      "    if lastIndex == None:\n",
      "        lastIndex = np.shape(MLdata)[0]\n",
      "\n",
      "    MLdataNew = MLdata[firstIndex:lastIndex,:]\n",
      "\n",
      "    indeces =  range(np.shape(MLdataNew)[0])\n",
      "    shuffle(indeces)\n",
      "\n",
      "    MLdataShuff = MLdataNew[indeces,:]\n",
      "    MLdataShuff = MLdataShuff[:,:]\n",
      "\n",
      "    y = MLdataShuff[:,0]\n",
      "    X = MLdataShuff[:,1:np.shape(MLdataShuff)[1]]\n",
      "\n",
      "    return {'y': y, 'X': X}\n",
      "\n",
      "\n",
      "\n",
      "#######  MAIN   ###########\n",
      "\n",
      "database='databases/uniprot_sprot.fasta'\n",
      "\n",
      "#Load in data\n",
      "data=[]\n",
      "with open('kaggle-hiv/training_data.csv', 'rb') as csvfile:\n",
      "    reader = csv.reader(csvfile, delimiter=',')\n",
      "    reader.next()\n",
      "    for row in reader:\n",
      "        data.append((int(row[0]),int(row[1]),row[2],row[3],float(row[4]),int(row[5])))\n",
      "\n",
      "#sort the training data so that all the 0's are first, and all the 1's are after that\n",
      "data.sort(key=lambda x: x[1])\n",
      "\n",
      "#Extract features of proteins and add in cd4 and viral load\n",
      "MLdata = FeatureExtract(data, database)\n",
      "\n",
      "scores = []\n",
      "F1s = []\n",
      "aucs = []\n",
      "\n",
      "findex=[300, 400, 450, 500, 600]\n",
      "for i in findex:\n",
      "\n",
      "    #Create X and y vectors for machine learning (and shuffle so cv's work better)\n",
      "    XandY = select_shuffle(MLdata,firstIndex = i)\n",
      "    X = XandY['X']\n",
      "    y = XandY['y']\n",
      "\n",
      "\n",
      "\n",
      "    #Do Machine Learning \n",
      "    #RF = RandomForestClassifier(n_estimators=200)\n",
      "    Svec = SVC(probability=True, class_weight = 'auto')\n",
      "    cv = cross_validation.KFold(len(X), 5, indices=False)\n",
      "\n",
      "    Xreduce = SelectKBest(f_classif, 100).fit_transform(X,y) #reduces the data for the SVM classifier\n",
      "\n",
      "    #cv_averages is a package I made - it is in the folder MLtools\n",
      "    Metrics = cv_averages.cv_metrics(Svec, cv, Xreduce, y, precision_recall = True, auc = True)\n",
      "    #print cv_averages.cv_metrics(RF, cv, X, y, precision_recall = True, auc = True, reduce_data = True)\n",
      "    scores.append(Metrics['score'])\n",
      "    F1s.append(Metrics['F1'])\n",
      "    aucs.append(Metrics['auc'])\n",
      "plt.figure()\n",
      "plt.plot(findex,scores)\n",
      "plt.title(\"Score\")\n",
      "\n",
      "plt.figure()\n",
      "plt.plot(findex,F1s)\n",
      "plt.title(\"F1\")\n",
      "\n",
      "\n",
      "plt.figure()\n",
      "plt.plot(findex,aucs)\n",
      "plt.title(\"AUC\")"
     ],
     "language": "python",
     "metadata": {},
     "outputs": [
      {
       "output_type": "stream",
       "stream": "stderr",
       "text": [
        "/Users/Ryan/anaconda/lib/python2.7/site-packages/sklearn/cross_validation.py:65: DeprecationWarning: The indices parameter is deprecated and will be removed (assumed True) in 0.17\n",
        "  stacklevel=1)\n",
        "/Users/Ryan/anaconda/lib/python2.7/site-packages/sklearn/cross_validation.py:65: DeprecationWarning: The indices parameter is deprecated and will be removed (assumed True) in 0.17\n",
        "  stacklevel=1)\n"
       ]
      },
      {
       "output_type": "stream",
       "stream": "stderr",
       "text": [
        "/Users/Ryan/anaconda/lib/python2.7/site-packages/sklearn/cross_validation.py:65: DeprecationWarning: The indices parameter is deprecated and will be removed (assumed True) in 0.17\n",
        "  stacklevel=1)\n",
        "/Users/Ryan/anaconda/lib/python2.7/site-packages/sklearn/cross_validation.py:65: DeprecationWarning: The indices parameter is deprecated and will be removed (assumed True) in 0.17\n",
        "  stacklevel=1)\n"
       ]
      },
      {
       "output_type": "stream",
       "stream": "stderr",
       "text": [
        "/Users/Ryan/anaconda/lib/python2.7/site-packages/sklearn/cross_validation.py:65: DeprecationWarning: The indices parameter is deprecated and will be removed (assumed True) in 0.17\n",
        "  stacklevel=1)\n"
       ]
      },
      {
       "metadata": {},
       "output_type": "pyout",
       "prompt_number": 5,
       "text": [
        "<matplotlib.text.Text at 0x1084b3750>"
       ]
      },
      {
       "metadata": {},
       "output_type": "display_data",
       "png": "[encoded data removed]",
       "text": [
        "<matplotlib.figure.Figure at 0x10a32e310>"
       ]
      },
      {
       "metadata": {},
       "output_type": "display_data",
       "png": "[encoded data removed]",
       "text": [
        "<matplotlib.figure.Figure at 0x10383a7d0>"
       ]
      },
      {
       "metadata": {},
       "output_type": "display_data",
       "png": "[encoded data removed]",
       "text": [
        "<matplotlib.figure.Figure at 0x10a33f490>"
       ]
      }
     ],
     "prompt_number": 5
    },
    {
     "cell_type": "code",
     "collapsed": false,
     "input": [
      "%matplotlib inline"
     ],
     "language": "python",
     "metadata": {},
     "outputs": [],
     "prompt_number": 4
    },
    {
     "cell_type": "heading",
     "level": 3,
     "metadata": {},
     "source": [
      "Varying weight of 1's (below)"
     ]
    },
    {
     "cell_type": "code",
     "collapsed": false,
     "input": [
      "import sys\n",
      "sys.path.append('kaggle-hiv/')\n",
      "sys.path.append('kaggle-hiv/MLtools/')\n",
      "import cv_averages\n",
      "\n",
      "import csv\n",
      "from Bio.Seq import Seq\n",
      "import MatrixRep\n",
      "from MatFeatExtract import *\n",
      "from sklearn.svm import SVC\n",
      "from sklearn.ensemble import RandomForestClassifier\n",
      "from sklearn import cross_validation\n",
      "from random import shuffle\n",
      "from sklearn.preprocessing import StandardScaler\n",
      "from sklearn.feature_selection import SelectKBest\n",
      "from sklearn.feature_selection import f_classif\n",
      "import matplotlib.pyplot as plt\n",
      "\n",
      "\n",
      "\n",
      "\n",
      "\n",
      "def FeatureExtract(data, database):\n",
      "    #Run through data, create representations, extract features, and aggregate\n",
      "    for d in data:\n",
      "        #Load and translate data\n",
      "        protease=Seq(d[2])\n",
      "        RT = Seq(d[3])\n",
      "        RTaas = RT.translate()\n",
      "        proaas=protease.translate()\n",
      "\n",
      "        #Create a representation of the protein\n",
      "        #PROoutput=MatrixRep.PSSM(proaas.tostring(),database=database)\n",
      "        #RToutput=MatrixRep.PSSM(RTaas.tostring(),database=database)\n",
      "\n",
      "        PROoutput=MatrixRep.SMR(proaas.tostring())\n",
      "        RToutput=MatrixRep.SMR(RTaas.tostring())\n",
      "\n",
      "        PROmat=PROoutput['SMR'].astype(float)\n",
      "        RTmat=RToutput['SMR'].astype(float)\n",
      "\n",
      "\n",
      "        ## Run a feature extraction method on mat\n",
      "        RTfeature=PseudoPSSM(RTmat)\n",
      "        PROfeature=PseudoPSSM(RTmat)\n",
      "\n",
      "\n",
      "        ## Aggregate Features\n",
      "        if 'RTfeatures' not in locals():\n",
      "            RTfeatures=RTfeature.copy()\n",
      "            PROfeatures=PROfeature.copy()\n",
      "\n",
      "        else:\n",
      "            RTfeatures=np.vstack((RTfeatures,RTfeature))\n",
      "            PROfeatures=np.vstack((PROfeatures,PROfeature))\n",
      "\n",
      "    VL = np.array([x[4] for x in data])\n",
      "    CD4 = np.array([x[5] for x in data])\n",
      "    response = np.array([x[1] for x in data])\n",
      "\n",
      "    #ML data is a numpy array with the response (0 or 1) in the first column, then all the features in subsequent columns\n",
      "    MLdata = np.concatenate((np.reshape(response,(len(data),1)),RTfeatures, PROfeatures, \\\n",
      "            np.reshape(VL,(len(data),1)), np.reshape(CD4,(len(data),1))), axis=1)\n",
      "\n",
      "    return MLdata\n",
      "\n",
      "\n",
      "\n",
      "def select_shuffle(MLdata, firstIndex=0, lastIndex=None):\n",
      "    #Allows you to reduce the training data and slice it into number of 0's and 1's\n",
      "    #the final 206 entries in data (once sorted in main) will all be 1's, so if the firstIndex is 600 and lastIndex is\n",
      "    #1000 (or unspecified) then you will have about half pos, half neg for the training set\n",
      "    #default is just to take all the data though \n",
      "\n",
      "    if lastIndex == None:\n",
      "        lastIndex = np.shape(MLdata)[0]\n",
      "\n",
      "    MLdataNew = MLdata[firstIndex:lastIndex,:]\n",
      "\n",
      "    indeces =  range(np.shape(MLdataNew)[0])\n",
      "    shuffle(indeces)\n",
      "\n",
      "    MLdataShuff = MLdataNew[indeces,:]\n",
      "    MLdataShuff = MLdataShuff[:,:]\n",
      "\n",
      "    y = MLdataShuff[:,0]\n",
      "    X = MLdataShuff[:,1:np.shape(MLdataShuff)[1]]\n",
      "\n",
      "    return {'y': y, 'X': X}\n",
      "\n",
      "\n",
      "\n",
      "#######  MAIN   ###########\n",
      "\n",
      "database='databases/uniprot_sprot.fasta'\n",
      "\n",
      "#Load in data\n",
      "data=[]\n",
      "with open('kaggle-hiv/training_data.csv', 'rb') as csvfile:\n",
      "    reader = csv.reader(csvfile, delimiter=',')\n",
      "    reader.next()\n",
      "    for row in reader:\n",
      "        data.append((int(row[0]),int(row[1]),row[2],row[3],float(row[4]),int(row[5])))\n",
      "\n",
      "#sort the training data so that all the 0's are first, and all the 1's are after that\n",
      "data.sort(key=lambda x: x[1])\n",
      "\n",
      "#Extract features of proteins and add in cd4 and viral load\n",
      "MLdata = FeatureExtract(data, database)\n",
      "\n",
      "scores = []\n",
      "F1s = []\n",
      "aucs = []\n",
      "\n",
      "weight=[3, 4, 5, 6, 7, 8]\n",
      "for w in weight:\n",
      "\n",
      "    #Create X and y vectors for machine learning (and shuffle so cv's work better)\n",
      "    XandY = select_shuffle(MLdata,firstIndex = 0)\n",
      "    X = XandY['X']\n",
      "    y = XandY['y']\n",
      "\n",
      "\n",
      "\n",
      "    #Do Machine Learning \n",
      "\n",
      "    \n",
      "    class_weights = {0: 1, 1: w}\n",
      "    Svec = SVC(probability=True, class_weight = class_weights)\n",
      "    cv = cross_validation.KFold(len(X), 5, indices=False)\n",
      "\n",
      "    Xreduce = SelectKBest(f_classif, 100).fit_transform(X,y) #reduces the data for the SVM classifier\n",
      "\n",
      "    #cv_averages is a package I made - it is in the folder MLtools\n",
      "    Metrics = cv_averages.cv_metrics(Svec, cv, Xreduce, y, precision_recall = True, auc = True)\n",
      "    #print cv_averages.cv_metrics(RF, cv, X, y, precision_recall = True, auc = True, reduce_data = True)\n",
      "    scores.append(Metrics['score'])\n",
      "    F1s.append(Metrics['F1'])\n",
      "    aucs.append(Metrics['auc'])\n",
      "plt.figure()\n",
      "plt.plot(weight,scores)\n",
      "plt.title(\"Score\")\n",
      "\n",
      "plt.figure()\n",
      "plt.plot(weight,F1s)\n",
      "plt.title(\"F1\")\n",
      "\n",
      "\n",
      "plt.figure()\n",
      "plt.plot(weight,aucs)\n",
      "plt.title(\"AUC\")"
     ],
     "language": "python",
     "metadata": {},
     "outputs": [
      {
       "output_type": "stream",
       "stream": "stderr",
       "text": [
        "/Users/Ryan/anaconda/lib/python2.7/site-packages/sklearn/cross_validation.py:65: DeprecationWarning: The indices parameter is deprecated and will be removed (assumed True) in 0.17\n",
        "  stacklevel=1)\n",
        "/Users/Ryan/anaconda/lib/python2.7/site-packages/sklearn/cross_validation.py:65: DeprecationWarning: The indices parameter is deprecated and will be removed (assumed True) in 0.17\n",
        "  stacklevel=1)\n"
       ]
      },
      {
       "output_type": "stream",
       "stream": "stderr",
       "text": [
        "/Users/Ryan/anaconda/lib/python2.7/site-packages/sklearn/cross_validation.py:65: DeprecationWarning: The indices parameter is deprecated and will be removed (assumed True) in 0.17\n",
        "  stacklevel=1)\n",
        "/Users/Ryan/anaconda/lib/python2.7/site-packages/sklearn/cross_validation.py:65: DeprecationWarning: The indices parameter is deprecated and will be removed (assumed True) in 0.17\n",
        "  stacklevel=1)\n"
       ]
      },
      {
       "output_type": "stream",
       "stream": "stderr",
       "text": [
        "/Users/Ryan/anaconda/lib/python2.7/site-packages/sklearn/cross_validation.py:65: DeprecationWarning: The indices parameter is deprecated and will be removed (assumed True) in 0.17\n",
        "  stacklevel=1)\n",
        "/Users/Ryan/anaconda/lib/python2.7/site-packages/sklearn/cross_validation.py:65: DeprecationWarning: The indices parameter is deprecated and will be removed (assumed True) in 0.17\n",
        "  stacklevel=1)\n"
       ]
      },
      {
       "metadata": {},
       "output_type": "pyout",
       "prompt_number": 7,
       "text": [
        "<matplotlib.text.Text at 0x10aa2fc90>"
       ]
      },
      {
       "metadata": {},
       "output_type": "display_data",
       "png": "[encoded data removed]",
       "text": [
        "<matplotlib.figure.Figure at 0x10935de10>"
       ]
      },
      {
       "metadata": {},
       "output_type": "display_data",
       "png": "[encoded data removed]",
       "text": [
        "<matplotlib.figure.Figure at 0x10a93a350>"
       ]
      },
      {
       "metadata": {},
       "output_type": "display_data",
       "png": "[encoded data removed]",
       "text": [
        "<matplotlib.figure.Figure at 0x10a95d210>"
       ]
      }
     ],
     "prompt_number": 7
    },
    {
     "cell_type": "heading",
     "level": 3,
     "metadata": {},
     "source": [
      "Varying C (below)"
     ]
    },
    {
     "cell_type": "code",
     "collapsed": false,
     "input": [
      "import sys\n",
      "sys.path.append('kaggle-hiv/')\n",
      "sys.path.append('kaggle-hiv/MLtools/')\n",
      "import cv_averages\n",
      "\n",
      "import csv\n",
      "from Bio.Seq import Seq\n",
      "import MatrixRep\n",
      "from MatFeatExtract import *\n",
      "from sklearn.svm import SVC\n",
      "from sklearn.ensemble import RandomForestClassifier\n",
      "from sklearn import cross_validation\n",
      "from random import shuffle\n",
      "from sklearn.preprocessing import StandardScaler\n",
      "from sklearn.feature_selection import SelectKBest\n",
      "from sklearn.feature_selection import f_classif\n",
      "import matplotlib.pyplot as plt\n",
      "\n",
      "\n",
      "\n",
      "\n",
      "\n",
      "def FeatureExtract(data, database):\n",
      "    #Run through data, create representations, extract features, and aggregate\n",
      "    for d in data:\n",
      "        #Load and translate data\n",
      "        protease=Seq(d[2])\n",
      "        RT = Seq(d[3])\n",
      "        RTaas = RT.translate()\n",
      "        proaas=protease.translate()\n",
      "\n",
      "        #Create a representation of the protein\n",
      "        #PROoutput=MatrixRep.PSSM(proaas.tostring(),database=database)\n",
      "        #RToutput=MatrixRep.PSSM(RTaas.tostring(),database=database)\n",
      "\n",
      "        PROoutput=MatrixRep.SMR(proaas.tostring())\n",
      "        RToutput=MatrixRep.SMR(RTaas.tostring())\n",
      "\n",
      "        PROmat=PROoutput['SMR'].astype(float)\n",
      "        RTmat=RToutput['SMR'].astype(float)\n",
      "\n",
      "\n",
      "        ## Run a feature extraction method on mat\n",
      "        RTfeature=PseudoPSSM(RTmat)\n",
      "        PROfeature=PseudoPSSM(RTmat)\n",
      "\n",
      "\n",
      "        ## Aggregate Features\n",
      "        if 'RTfeatures' not in locals():\n",
      "            RTfeatures=RTfeature.copy()\n",
      "            PROfeatures=PROfeature.copy()\n",
      "\n",
      "        else:\n",
      "            RTfeatures=np.vstack((RTfeatures,RTfeature))\n",
      "            PROfeatures=np.vstack((PROfeatures,PROfeature))\n",
      "\n",
      "    VL = np.array([x[4] for x in data])\n",
      "    CD4 = np.array([x[5] for x in data])\n",
      "    response = np.array([x[1] for x in data])\n",
      "\n",
      "    #ML data is a numpy array with the response (0 or 1) in the first column, then all the features in subsequent columns\n",
      "    MLdata = np.concatenate((np.reshape(response,(len(data),1)),RTfeatures, PROfeatures, \\\n",
      "            np.reshape(VL,(len(data),1)), np.reshape(CD4,(len(data),1))), axis=1)\n",
      "\n",
      "    return MLdata\n",
      "\n",
      "\n",
      "\n",
      "def select_shuffle(MLdata, firstIndex=0, lastIndex=None):\n",
      "    #Allows you to reduce the training data and slice it into number of 0's and 1's\n",
      "    #the final 206 entries in data (once sorted in main) will all be 1's, so if the firstIndex is 600 and lastIndex is\n",
      "    #1000 (or unspecified) then you will have about half pos, half neg for the training set\n",
      "    #default is just to take all the data though \n",
      "\n",
      "    if lastIndex == None:\n",
      "        lastIndex = np.shape(MLdata)[0]\n",
      "\n",
      "    MLdataNew = MLdata[firstIndex:lastIndex,:]\n",
      "\n",
      "    indeces =  range(np.shape(MLdataNew)[0])\n",
      "    shuffle(indeces)\n",
      "\n",
      "    MLdataShuff = MLdataNew[indeces,:]\n",
      "    MLdataShuff = MLdataShuff[:,:]\n",
      "\n",
      "    y = MLdataShuff[:,0]\n",
      "    X = MLdataShuff[:,1:np.shape(MLdataShuff)[1]]\n",
      "\n",
      "    return {'y': y, 'X': X}\n",
      "\n",
      "\n",
      "\n",
      "#######  MAIN   ###########\n",
      "\n",
      "database='databases/uniprot_sprot.fasta'\n",
      "\n",
      "#Load in data\n",
      "data=[]\n",
      "with open('kaggle-hiv/training_data.csv', 'rb') as csvfile:\n",
      "    reader = csv.reader(csvfile, delimiter=',')\n",
      "    reader.next()\n",
      "    for row in reader:\n",
      "        data.append((int(row[0]),int(row[1]),row[2],row[3],float(row[4]),int(row[5])))\n",
      "\n",
      "#sort the training data so that all the 0's are first, and all the 1's are after that\n",
      "data.sort(key=lambda x: x[1])\n",
      "\n",
      "#Extract features of proteins and add in cd4 and viral load\n",
      "MLdata = FeatureExtract(data, database)\n",
      "\n",
      "scores = []\n",
      "F1s = []\n",
      "aucs = []\n",
      "\n",
      "#Create X and y vectors for machine learning (and shuffle so cv's work better)\n",
      "XandY = select_shuffle(MLdata,firstIndex = 600)\n",
      "X = XandY['X']\n",
      "y = XandY['y']\n",
      "\n",
      "Cs=[.2, .5, 1, 2, 5, 10]\n",
      "for c in Cs:\n",
      "\n",
      "    #Do Machine Learning \n",
      "    #RF = RandomForestClassifier(n_estimators=200)\n",
      "    Svec = SVC(C=c, probability=True, class_weight = 'auto')\n",
      "    cv = cross_validation.KFold(len(X), 5, indices=False)\n",
      "\n",
      "    Xreduce = SelectKBest(f_classif, 25).fit_transform(X,y) #reduces the data for the SVM classifier\n",
      "\n",
      "    #cv_averages is a package I made - it is in the folder MLtools\n",
      "    Metrics = cv_averages.cv_metrics(Svec, cv, Xreduce, y, precision_recall = True, auc = True)\n",
      "    #print cv_averages.cv_metrics(RF, cv, X, y, precision_recall = True, auc = True, reduce_data = True)\n",
      "    scores.append(Metrics['score'])\n",
      "    F1s.append(Metrics['F1'])\n",
      "    aucs.append(Metrics['auc'])\n",
      "\n",
      "print \"The effect of varying C, first index=600, 25 features\"\n",
      "plt.figure()\n",
      "plt.plot(Cs,scores)\n",
      "plt.title(\"Score\")\n",
      "plt.xlabel(\"C\")\n",
      "\n",
      "plt.figure()\n",
      "plt.plot(Cs,F1s)\n",
      "plt.title(\"F1\")\n",
      "\n",
      "\n",
      "plt.figure()\n",
      "plt.plot(Cs,aucs)\n",
      "plt.title(\"AUC\")\n",
      "plt.xlabel(\"C\")"
     ],
     "language": "python",
     "metadata": {},
     "outputs": [
      {
       "output_type": "stream",
       "stream": "stderr",
       "text": [
        "/Users/Ryan/anaconda/lib/python2.7/site-packages/sklearn/cross_validation.py:65: DeprecationWarning: The indices parameter is deprecated and will be removed (assumed True) in 0.17\n",
        "  stacklevel=1)\n",
        "/Users/Ryan/anaconda/lib/python2.7/site-packages/sklearn/cross_validation.py:65: DeprecationWarning: The indices parameter is deprecated and will be removed (assumed True) in 0.17\n",
        "  stacklevel=1)\n"
       ]
      },
      {
       "output_type": "stream",
       "stream": "stderr",
       "text": [
        "/Users/Ryan/anaconda/lib/python2.7/site-packages/sklearn/cross_validation.py:65: DeprecationWarning: The indices parameter is deprecated and will be removed (assumed True) in 0.17\n",
        "  stacklevel=1)\n",
        "/Users/Ryan/anaconda/lib/python2.7/site-packages/sklearn/cross_validation.py:65: DeprecationWarning: The indices parameter is deprecated and will be removed (assumed True) in 0.17\n",
        "  stacklevel=1)\n"
       ]
      },
      {
       "output_type": "stream",
       "stream": "stderr",
       "text": [
        "/Users/Ryan/anaconda/lib/python2.7/site-packages/sklearn/cross_validation.py:65: DeprecationWarning: The indices parameter is deprecated and will be removed (assumed True) in 0.17\n",
        "  stacklevel=1)\n",
        "/Users/Ryan/anaconda/lib/python2.7/site-packages/sklearn/cross_validation.py:65: DeprecationWarning: The indices parameter is deprecated and will be removed (assumed True) in 0.17\n",
        "  stacklevel=1)\n"
       ]
      },
      {
       "output_type": "stream",
       "stream": "stdout",
       "text": [
        "The effect of varying C, first index=600, 25 features\n"
       ]
      },
      {
       "metadata": {},
       "output_type": "pyout",
       "prompt_number": 37,
       "text": [
        "<matplotlib.text.Text at 0x10e418a90>"
       ]
      },
      {
       "metadata": {},
       "output_type": "display_data",
       "png": "[encoded data removed]",
       "text": [
        "<matplotlib.figure.Figure at 0x10ec07d50>"
       ]
      },
      {
       "metadata": {},
       "output_type": "display_data",
       "png": "[encoded data removed]",
       "text": [
        "<matplotlib.figure.Figure at 0x10eda8a50>"
       ]
      },
      {
       "metadata": {},
       "output_type": "display_data",
       "png": "[encoded data removed]",
       "text": [
        "<matplotlib.figure.Figure at 0x10ef53150>"
       ]
      }
     ],
     "prompt_number": 37
    },
    {
     "cell_type": "heading",
     "level": 2,
     "metadata": {},
     "source": [
      "Varying number of features (below)"
     ]
    },
    {
     "cell_type": "code",
     "collapsed": false,
     "input": [
      "import sys\n",
      "sys.path.append('kaggle-hiv/')\n",
      "sys.path.append('kaggle-hiv/MLtools/')\n",
      "import cv_averages\n",
      "\n",
      "import csv\n",
      "from Bio.Seq import Seq\n",
      "import MatrixRep\n",
      "from MatFeatExtract import *\n",
      "from sklearn.svm import SVC\n",
      "from sklearn.ensemble import RandomForestClassifier\n",
      "from sklearn import cross_validation\n",
      "from random import shuffle\n",
      "from sklearn.preprocessing import StandardScaler\n",
      "from sklearn.feature_selection import SelectKBest\n",
      "from sklearn.feature_selection import f_classif\n",
      "import matplotlib.pyplot as plt\n",
      "\n",
      "\n",
      "\n",
      "\n",
      "\n",
      "def FeatureExtract(data, database):\n",
      "    #Run through data, create representations, extract features, and aggregate\n",
      "    for d in data:\n",
      "        #Load and translate data\n",
      "        protease=Seq(d[2])\n",
      "        RT = Seq(d[3])\n",
      "        RTaas = RT.translate()\n",
      "        proaas=protease.translate()\n",
      "\n",
      "        #Create a representation of the protein\n",
      "        #PROoutput=MatrixRep.PSSM(proaas.tostring(),database=database)\n",
      "        #RToutput=MatrixRep.PSSM(RTaas.tostring(),database=database)\n",
      "\n",
      "        PROoutput=MatrixRep.SMR(proaas.tostring())\n",
      "        RToutput=MatrixRep.SMR(RTaas.tostring())\n",
      "\n",
      "        PROmat=PROoutput['SMR'].astype(float)\n",
      "        RTmat=RToutput['SMR'].astype(float)\n",
      "\n",
      "\n",
      "        ## Run a feature extraction method on mat\n",
      "        RTfeature=PseudoPSSM(RTmat)\n",
      "        PROfeature=PseudoPSSM(RTmat)\n",
      "\n",
      "\n",
      "        ## Aggregate Features\n",
      "        if 'RTfeatures' not in locals():\n",
      "            RTfeatures=RTfeature.copy()\n",
      "            PROfeatures=PROfeature.copy()\n",
      "\n",
      "        else:\n",
      "            RTfeatures=np.vstack((RTfeatures,RTfeature))\n",
      "            PROfeatures=np.vstack((PROfeatures,PROfeature))\n",
      "\n",
      "    VL = np.array([x[4] for x in data])\n",
      "    CD4 = np.array([x[5] for x in data])\n",
      "    response = np.array([x[1] for x in data])\n",
      "\n",
      "    #ML data is a numpy array with the response (0 or 1) in the first column, then all the features in subsequent columns\n",
      "    MLdata = np.concatenate((np.reshape(response,(len(data),1)),RTfeatures, PROfeatures, \\\n",
      "            np.reshape(VL,(len(data),1)), np.reshape(CD4,(len(data),1))), axis=1)\n",
      "\n",
      "    return MLdata\n",
      "\n",
      "\n",
      "\n",
      "def select_shuffle(MLdata, firstIndex=0, lastIndex=None):\n",
      "    #Allows you to reduce the training data and slice it into number of 0's and 1's\n",
      "    #the final 206 entries in data (once sorted in main) will all be 1's, so if the firstIndex is 600 and lastIndex is\n",
      "    #1000 (or unspecified) then you will have about half pos, half neg for the training set\n",
      "    #default is just to take all the data though \n",
      "\n",
      "    if lastIndex == None:\n",
      "        lastIndex = np.shape(MLdata)[0]\n",
      "\n",
      "    MLdataNew = MLdata[firstIndex:lastIndex,:]\n",
      "\n",
      "    indeces =  range(np.shape(MLdataNew)[0])\n",
      "    shuffle(indeces)\n",
      "\n",
      "    MLdataShuff = MLdataNew[indeces,:]\n",
      "    MLdataShuff = MLdataShuff[:,:]\n",
      "\n",
      "    y = MLdataShuff[:,0]\n",
      "    X = MLdataShuff[:,1:np.shape(MLdataShuff)[1]]\n",
      "\n",
      "    return {'y': y, 'X': X}\n",
      "\n",
      "\n",
      "\n",
      "#######  MAIN   ###########\n",
      "\n",
      "database='databases/uniprot_sprot.fasta'\n",
      "\n",
      "#Load in data\n",
      "data=[]\n",
      "with open('kaggle-hiv/training_data.csv', 'rb') as csvfile:\n",
      "    reader = csv.reader(csvfile, delimiter=',')\n",
      "    reader.next()\n",
      "    for row in reader:\n",
      "        data.append((int(row[0]),int(row[1]),row[2],row[3],float(row[4]),int(row[5])))\n",
      "\n",
      "#sort the training data so that all the 0's are first, and all the 1's are after that\n",
      "data.sort(key=lambda x: x[1])\n",
      "\n",
      "#Extract features of proteins and add in cd4 and viral load\n",
      "MLdata = FeatureExtract(data, database)\n",
      "\n",
      "scores = []\n",
      "F1s = []\n",
      "aucs = []\n",
      "\n",
      "\n",
      "#Create X and y vectors for machine learning (and shuffle so cv's work better)\n",
      "XandY = select_shuffle(MLdata,firstIndex = 600)\n",
      "X = XandY['X']\n",
      "y = XandY['y']\n",
      "\n",
      "features=[1, 2, 3, 5, 10, 20, 25, 30]\n",
      "for f in features:\n",
      "\n",
      "\n",
      "\n",
      "\n",
      "\n",
      "    #Do Machine Learning \n",
      "    #RF = RandomForestClassifier(n_estimators=200)\n",
      "    Svec = SVC(C=2, probability=True, class_weight = 'auto')\n",
      "    cv = cross_validation.KFold(len(X), 5, indices=False)\n",
      "\n",
      "    Xreduce = SelectKBest(f_classif, f).fit_transform(X,y) #reduces the data for the SVM classifier\n",
      "\n",
      "    #cv_averages is a package I made - it is in the folder MLtools\n",
      "    Metrics = cv_averages.cv_metrics(Svec, cv, Xreduce, y, precision_recall = True, auc = True)\n",
      "    #print cv_averages.cv_metrics(RF, cv, X, y, precision_recall = True, auc = True, reduce_data = True)\n",
      "    scores.append(Metrics['score'])\n",
      "    F1s.append(Metrics['F1'])\n",
      "    aucs.append(Metrics['auc'])\n",
      "    \n",
      "    \n",
      "print \"The effect of varying num features, first index = 600, C=2\"    \n",
      "plt.figure()\n",
      "plt.plot(features,scores)\n",
      "plt.title(\"Score\")\n",
      "plt.xlabel(\"Number of features\")\n",
      "\n",
      "plt.figure()\n",
      "plt.plot(features,F1s)\n",
      "plt.title(\"F1\")\n",
      "plt.xlabel(\"Number of features\")\n",
      "\n",
      "plt.figure()\n",
      "plt.plot(features,aucs)\n",
      "plt.title(\"AUC\")\n",
      "plt.xlabel(\"Number of features\")"
     ],
     "language": "python",
     "metadata": {},
     "outputs": [
      {
       "output_type": "stream",
       "stream": "stderr",
       "text": [
        "/Users/Ryan/anaconda/lib/python2.7/site-packages/sklearn/cross_validation.py:65: DeprecationWarning: The indices parameter is deprecated and will be removed (assumed True) in 0.17\n",
        "  stacklevel=1)\n",
        "/Users/Ryan/anaconda/lib/python2.7/site-packages/sklearn/cross_validation.py:65: DeprecationWarning: The indices parameter is deprecated and will be removed (assumed True) in 0.17\n",
        "  stacklevel=1)\n"
       ]
      },
      {
       "output_type": "stream",
       "stream": "stderr",
       "text": [
        "/Users/Ryan/anaconda/lib/python2.7/site-packages/sklearn/cross_validation.py:65: DeprecationWarning: The indices parameter is deprecated and will be removed (assumed True) in 0.17\n",
        "  stacklevel=1)\n",
        "/Users/Ryan/anaconda/lib/python2.7/site-packages/sklearn/cross_validation.py:65: DeprecationWarning: The indices parameter is deprecated and will be removed (assumed True) in 0.17\n",
        "  stacklevel=1)\n"
       ]
      },
      {
       "output_type": "stream",
       "stream": "stderr",
       "text": [
        "/Users/Ryan/anaconda/lib/python2.7/site-packages/sklearn/cross_validation.py:65: DeprecationWarning: The indices parameter is deprecated and will be removed (assumed True) in 0.17\n",
        "  stacklevel=1)\n",
        "/Users/Ryan/anaconda/lib/python2.7/site-packages/sklearn/cross_validation.py:65: DeprecationWarning: The indices parameter is deprecated and will be removed (assumed True) in 0.17\n",
        "  stacklevel=1)\n"
       ]
      },
      {
       "output_type": "stream",
       "stream": "stderr",
       "text": [
        "/Users/Ryan/anaconda/lib/python2.7/site-packages/sklearn/cross_validation.py:65: DeprecationWarning: The indices parameter is deprecated and will be removed (assumed True) in 0.17\n",
        "  stacklevel=1)\n",
        "/Users/Ryan/anaconda/lib/python2.7/site-packages/sklearn/cross_validation.py:65: DeprecationWarning: The indices parameter is deprecated and will be removed (assumed True) in 0.17\n",
        "  stacklevel=1)\n"
       ]
      },
      {
       "output_type": "stream",
       "stream": "stdout",
       "text": [
        "The effect of varying num features, first index = 600, C=2\n"
       ]
      },
      {
       "metadata": {},
       "output_type": "pyout",
       "prompt_number": 38,
       "text": [
        "<matplotlib.text.Text at 0x108693d90>"
       ]
      },
      {
       "metadata": {},
       "output_type": "display_data",
       "png": "[encoded data removed]",
       "text": [
        "<matplotlib.figure.Figure at 0x10be48690>"
       ]
      },
      {
       "metadata": {},
       "output_type": "display_data",
       "png": "[encoded data removed]",
       "text": [
        "<matplotlib.figure.Figure at 0x10fc36510>"
       ]
      },
      {
       "metadata": {},
       "output_type": "display_data",
       "png": "[encoded data removed]",
       "text": [
        "<matplotlib.figure.Figure at 0x10e81a1d0>"
       ]
      }
     ],
     "prompt_number": 38
    },
    {
     "cell_type": "heading",
     "level": 4,
     "metadata": {},
     "source": [
      "-------------------------------------------------------------------------------------"
     ]
    },
    {
     "cell_type": "heading",
     "level": 2,
     "metadata": {},
     "source": [
      "Top Feature indices and F values"
     ]
    },
    {
     "cell_type": "heading",
     "level": 4,
     "metadata": {},
     "source": [
      "for indices: 0-319 = Reverse transcriptase, 320-639 = Protease, 640 = Viral load, 641 = CD4"
     ]
    },
    {
     "cell_type": "code",
     "collapsed": false,
     "input": [
      "F, p = f_classif(X,y)\n",
      "\n",
      "indices = np.argsort(F)[::-1]\n",
      "\n",
      "p.sort()\n",
      "F.sort()\n",
      "F=F[::-1]\n",
      "print \"indices of top features (in order)\"\n",
      "print indices[:26]\n",
      "plt.figure()\n",
      "plt.plot(F[:26])\n",
      "plt.title(\"Top 25 F scores of features, from high to low\")\n"
     ],
     "language": "python",
     "metadata": {},
     "outputs": [
      {
       "output_type": "stream",
       "stream": "stdout",
       "text": [
        "indices of top features (in order)\n",
        "[640 120 440 380  60  40 360 460 140 240 560 300 620 280 600 100 420 500\n",
        " 180 540 220 400  80  20 340 494]\n"
       ]
      },
      {
       "metadata": {},
       "output_type": "pyout",
       "prompt_number": 35,
       "text": [
        "<matplotlib.text.Text at 0x1086a10d0>"
       ]
      },
      {
       "metadata": {},
       "output_type": "display_data",
       "png": "[encoded data removed]",
       "text": [
        "<matplotlib.figure.Figure at 0x10c23b410>"
       ]
      }
     ],
     "prompt_number": 35
    },
    {
     "cell_type": "code",
     "collapsed": false,
     "input": [],
     "language": "python",
     "metadata": {},
     "outputs": []
    }
   ],
   "metadata": {}
  }
 ]
}